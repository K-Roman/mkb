{
  "nbformat": 4,
  "nbformat_minor": 0,
  "metadata": {
    "colab": {
      "name": "mkb_IPvsYR_git.ipynb",
      "provenance": [],
      "collapsed_sections": [
        "odQQxfPQzoF_",
        "uqNM1YVn04Fs",
        "1Gq9vxq5SUV_"
      ]
    },
    "kernelspec": {
      "display_name": "Python 3",
      "name": "python3"
    },
    "language_info": {
      "name": "python"
    }
  },
  "cells": [
    {
      "cell_type": "markdown",
      "metadata": {
        "id": "DIsRlb-VKmUK"
      },
      "source": [
        "# Загрузка библиотек"
      ]
    },
    {
      "cell_type": "code",
      "metadata": {
        "colab": {
          "base_uri": "https://localhost:8080/"
        },
        "id": "YlrXtcMIJEff",
        "outputId": "9c103f69-b122-4e92-b61b-5139a001ea91"
      },
      "source": [
        "from google.colab import drive\n",
        "drive.mount('/content/drive/')"
      ],
      "execution_count": 1,
      "outputs": [
        {
          "output_type": "stream",
          "name": "stdout",
          "text": [
            "Drive already mounted at /content/drive/; to attempt to forcibly remount, call drive.mount(\"/content/drive/\", force_remount=True).\n"
          ]
        }
      ]
    },
    {
      "cell_type": "code",
      "metadata": {
        "colab": {
          "base_uri": "https://localhost:8080/"
        },
        "id": "omQ2CSKCJGH6",
        "outputId": "5fad1595-b250-4dd7-9554-fe675c47cbb0"
      },
      "source": [
        "!pip install catboost\n",
        "!pip install category_encoders"
      ],
      "execution_count": 2,
      "outputs": [
        {
          "output_type": "stream",
          "name": "stdout",
          "text": [
            "Requirement already satisfied: catboost in /usr/local/lib/python3.7/dist-packages (1.0.3)\n",
            "Requirement already satisfied: matplotlib in /usr/local/lib/python3.7/dist-packages (from catboost) (3.2.2)\n",
            "Requirement already satisfied: numpy>=1.16.0 in /usr/local/lib/python3.7/dist-packages (from catboost) (1.19.5)\n",
            "Requirement already satisfied: scipy in /usr/local/lib/python3.7/dist-packages (from catboost) (1.4.1)\n",
            "Requirement already satisfied: graphviz in /usr/local/lib/python3.7/dist-packages (from catboost) (0.10.1)\n",
            "Requirement already satisfied: plotly in /usr/local/lib/python3.7/dist-packages (from catboost) (4.4.1)\n",
            "Requirement already satisfied: pandas>=0.24.0 in /usr/local/lib/python3.7/dist-packages (from catboost) (1.1.5)\n",
            "Requirement already satisfied: six in /usr/local/lib/python3.7/dist-packages (from catboost) (1.15.0)\n",
            "Requirement already satisfied: python-dateutil>=2.7.3 in /usr/local/lib/python3.7/dist-packages (from pandas>=0.24.0->catboost) (2.8.2)\n",
            "Requirement already satisfied: pytz>=2017.2 in /usr/local/lib/python3.7/dist-packages (from pandas>=0.24.0->catboost) (2018.9)\n",
            "Requirement already satisfied: kiwisolver>=1.0.1 in /usr/local/lib/python3.7/dist-packages (from matplotlib->catboost) (1.3.2)\n",
            "Requirement already satisfied: pyparsing!=2.0.4,!=2.1.2,!=2.1.6,>=2.0.1 in /usr/local/lib/python3.7/dist-packages (from matplotlib->catboost) (3.0.6)\n",
            "Requirement already satisfied: cycler>=0.10 in /usr/local/lib/python3.7/dist-packages (from matplotlib->catboost) (0.11.0)\n",
            "Requirement already satisfied: retrying>=1.3.3 in /usr/local/lib/python3.7/dist-packages (from plotly->catboost) (1.3.3)\n",
            "Requirement already satisfied: category_encoders in /usr/local/lib/python3.7/dist-packages (2.3.0)\n",
            "Requirement already satisfied: scipy>=1.0.0 in /usr/local/lib/python3.7/dist-packages (from category_encoders) (1.4.1)\n",
            "Requirement already satisfied: statsmodels>=0.9.0 in /usr/local/lib/python3.7/dist-packages (from category_encoders) (0.10.2)\n",
            "Requirement already satisfied: scikit-learn>=0.20.0 in /usr/local/lib/python3.7/dist-packages (from category_encoders) (1.0.1)\n",
            "Requirement already satisfied: patsy>=0.5.1 in /usr/local/lib/python3.7/dist-packages (from category_encoders) (0.5.2)\n",
            "Requirement already satisfied: numpy>=1.14.0 in /usr/local/lib/python3.7/dist-packages (from category_encoders) (1.19.5)\n",
            "Requirement already satisfied: pandas>=0.21.1 in /usr/local/lib/python3.7/dist-packages (from category_encoders) (1.1.5)\n",
            "Requirement already satisfied: python-dateutil>=2.7.3 in /usr/local/lib/python3.7/dist-packages (from pandas>=0.21.1->category_encoders) (2.8.2)\n",
            "Requirement already satisfied: pytz>=2017.2 in /usr/local/lib/python3.7/dist-packages (from pandas>=0.21.1->category_encoders) (2018.9)\n",
            "Requirement already satisfied: six in /usr/local/lib/python3.7/dist-packages (from patsy>=0.5.1->category_encoders) (1.15.0)\n",
            "Requirement already satisfied: joblib>=0.11 in /usr/local/lib/python3.7/dist-packages (from scikit-learn>=0.20.0->category_encoders) (1.1.0)\n",
            "Requirement already satisfied: threadpoolctl>=2.0.0 in /usr/local/lib/python3.7/dist-packages (from scikit-learn>=0.20.0->category_encoders) (3.0.0)\n"
          ]
        }
      ]
    },
    {
      "cell_type": "code",
      "metadata": {
        "colab": {
          "base_uri": "https://localhost:8080/"
        },
        "id": "KD5d8yz3FDqM",
        "outputId": "f6386271-f660-4511-a686-cebbe01c83c5"
      },
      "source": [
        "!pip install optuna"
      ],
      "execution_count": 3,
      "outputs": [
        {
          "output_type": "stream",
          "name": "stdout",
          "text": [
            "Requirement already satisfied: optuna in /usr/local/lib/python3.7/dist-packages (2.10.0)\n",
            "Requirement already satisfied: tqdm in /usr/local/lib/python3.7/dist-packages (from optuna) (4.62.3)\n",
            "Requirement already satisfied: packaging>=20.0 in /usr/local/lib/python3.7/dist-packages (from optuna) (21.3)\n",
            "Requirement already satisfied: colorlog in /usr/local/lib/python3.7/dist-packages (from optuna) (6.6.0)\n",
            "Requirement already satisfied: PyYAML in /usr/local/lib/python3.7/dist-packages (from optuna) (3.13)\n",
            "Requirement already satisfied: cliff in /usr/local/lib/python3.7/dist-packages (from optuna) (3.10.0)\n",
            "Requirement already satisfied: numpy in /usr/local/lib/python3.7/dist-packages (from optuna) (1.19.5)\n",
            "Requirement already satisfied: cmaes>=0.8.2 in /usr/local/lib/python3.7/dist-packages (from optuna) (0.8.2)\n",
            "Requirement already satisfied: scipy!=1.4.0 in /usr/local/lib/python3.7/dist-packages (from optuna) (1.4.1)\n",
            "Requirement already satisfied: alembic in /usr/local/lib/python3.7/dist-packages (from optuna) (1.7.5)\n",
            "Requirement already satisfied: sqlalchemy>=1.1.0 in /usr/local/lib/python3.7/dist-packages (from optuna) (1.4.27)\n",
            "Requirement already satisfied: pyparsing!=3.0.5,>=2.0.2 in /usr/local/lib/python3.7/dist-packages (from packaging>=20.0->optuna) (3.0.6)\n",
            "Requirement already satisfied: importlib-metadata in /usr/local/lib/python3.7/dist-packages (from sqlalchemy>=1.1.0->optuna) (4.8.2)\n",
            "Requirement already satisfied: greenlet!=0.4.17 in /usr/local/lib/python3.7/dist-packages (from sqlalchemy>=1.1.0->optuna) (1.1.2)\n",
            "Requirement already satisfied: importlib-resources in /usr/local/lib/python3.7/dist-packages (from alembic->optuna) (5.4.0)\n",
            "Requirement already satisfied: Mako in /usr/local/lib/python3.7/dist-packages (from alembic->optuna) (1.1.6)\n",
            "Requirement already satisfied: autopage>=0.4.0 in /usr/local/lib/python3.7/dist-packages (from cliff->optuna) (0.4.0)\n",
            "Requirement already satisfied: cmd2>=1.0.0 in /usr/local/lib/python3.7/dist-packages (from cliff->optuna) (2.3.3)\n",
            "Requirement already satisfied: PrettyTable>=0.7.2 in /usr/local/lib/python3.7/dist-packages (from cliff->optuna) (2.4.0)\n",
            "Requirement already satisfied: pbr!=2.1.0,>=2.0.0 in /usr/local/lib/python3.7/dist-packages (from cliff->optuna) (5.8.0)\n",
            "Requirement already satisfied: stevedore>=2.0.1 in /usr/local/lib/python3.7/dist-packages (from cliff->optuna) (3.5.0)\n",
            "Requirement already satisfied: attrs>=16.3.0 in /usr/local/lib/python3.7/dist-packages (from cmd2>=1.0.0->cliff->optuna) (21.2.0)\n",
            "Requirement already satisfied: pyperclip>=1.6 in /usr/local/lib/python3.7/dist-packages (from cmd2>=1.0.0->cliff->optuna) (1.8.2)\n",
            "Requirement already satisfied: wcwidth>=0.1.7 in /usr/local/lib/python3.7/dist-packages (from cmd2>=1.0.0->cliff->optuna) (0.2.5)\n",
            "Requirement already satisfied: typing-extensions in /usr/local/lib/python3.7/dist-packages (from cmd2>=1.0.0->cliff->optuna) (3.10.0.2)\n",
            "Requirement already satisfied: zipp>=0.5 in /usr/local/lib/python3.7/dist-packages (from importlib-metadata->sqlalchemy>=1.1.0->optuna) (3.6.0)\n",
            "Requirement already satisfied: MarkupSafe>=0.9.2 in /usr/local/lib/python3.7/dist-packages (from Mako->alembic->optuna) (2.0.1)\n"
          ]
        }
      ]
    },
    {
      "cell_type": "code",
      "metadata": {
        "colab": {
          "base_uri": "https://localhost:8080/"
        },
        "id": "x12bbxgRNIms",
        "outputId": "46f3029c-b0e3-43e8-fcab-885b90272b9d"
      },
      "source": [
        "!pip install eli5"
      ],
      "execution_count": 4,
      "outputs": [
        {
          "output_type": "stream",
          "name": "stdout",
          "text": [
            "Requirement already satisfied: eli5 in /usr/local/lib/python3.7/dist-packages (0.11.0)\n",
            "Requirement already satisfied: scipy in /usr/local/lib/python3.7/dist-packages (from eli5) (1.4.1)\n",
            "Requirement already satisfied: tabulate>=0.7.7 in /usr/local/lib/python3.7/dist-packages (from eli5) (0.8.9)\n",
            "Requirement already satisfied: numpy>=1.9.0 in /usr/local/lib/python3.7/dist-packages (from eli5) (1.19.5)\n",
            "Requirement already satisfied: scikit-learn>=0.20 in /usr/local/lib/python3.7/dist-packages (from eli5) (1.0.1)\n",
            "Requirement already satisfied: graphviz in /usr/local/lib/python3.7/dist-packages (from eli5) (0.10.1)\n",
            "Requirement already satisfied: jinja2 in /usr/local/lib/python3.7/dist-packages (from eli5) (2.11.3)\n",
            "Requirement already satisfied: attrs>16.0.0 in /usr/local/lib/python3.7/dist-packages (from eli5) (21.2.0)\n",
            "Requirement already satisfied: six in /usr/local/lib/python3.7/dist-packages (from eli5) (1.15.0)\n",
            "Requirement already satisfied: joblib>=0.11 in /usr/local/lib/python3.7/dist-packages (from scikit-learn>=0.20->eli5) (1.1.0)\n",
            "Requirement already satisfied: threadpoolctl>=2.0.0 in /usr/local/lib/python3.7/dist-packages (from scikit-learn>=0.20->eli5) (3.0.0)\n",
            "Requirement already satisfied: MarkupSafe>=0.23 in /usr/local/lib/python3.7/dist-packages (from jinja2->eli5) (2.0.1)\n"
          ]
        }
      ]
    },
    {
      "cell_type": "code",
      "metadata": {
        "colab": {
          "base_uri": "https://localhost:8080/"
        },
        "id": "LiV-mFG1JGN8",
        "outputId": "f34fc2bf-80b2-45e7-81d3-193c09fdafdc"
      },
      "source": [
        "import matplotlib.pyplot as plt\n",
        "import pandas as pd\n",
        "import numpy as np\n",
        "from sklearn.model_selection import train_test_split, cross_val_score, GridSearchCV, cross_val_predict, RandomizedSearchCV\n",
        "from catboost import CatBoostClassifier, cv, Pool\n",
        "from sklearn.metrics import mean_absolute_error, roc_curve,accuracy_score, roc_auc_score, confusion_matrix, f1_score, log_loss\n",
        "\n",
        "from sklearn.feature_selection import RFE\n",
        "from sklearn.impute import KNNImputer\n",
        "from sklearn.model_selection import KFold\n",
        "import category_encoders as ce\n",
        "\n",
        "import seaborn as sns\n",
        "\n",
        "from sklearn.model_selection import TimeSeriesSplit\n",
        "from sklearn.preprocessing import MinMaxScaler\n",
        "import datetime\n",
        "from sklearn.feature_selection import RFECV\n",
        "\n",
        "\n",
        "import eli5\n",
        "from eli5.sklearn import PermutationImportance\n"
      ],
      "execution_count": 5,
      "outputs": [
        {
          "output_type": "stream",
          "name": "stderr",
          "text": [
            "/usr/local/lib/python3.7/dist-packages/statsmodels/tools/_testing.py:19: FutureWarning: pandas.util.testing is deprecated. Use the functions in the public API at pandas.testing instead.\n",
            "  import pandas.util.testing as tm\n"
          ]
        }
      ]
    },
    {
      "cell_type": "code",
      "metadata": {
        "id": "8jqu-1N7JGS-"
      },
      "source": [
        "pd.set_option('display.max_rows',2000)\n",
        "pd.set_option('display.max_columns',2000)"
      ],
      "execution_count": 6,
      "outputs": []
    },
    {
      "cell_type": "code",
      "metadata": {
        "id": "K8feu1_ZJGYP"
      },
      "source": [
        "PATH = '/content/drive/My Drive/mkb'"
      ],
      "execution_count": 7,
      "outputs": []
    },
    {
      "cell_type": "code",
      "metadata": {
        "colab": {
          "base_uri": "https://localhost:8080/"
        },
        "id": "LzK0VZrGJGc8",
        "outputId": "48cbbed2-5b89-47fe-96a4-213e4e554a7b"
      },
      "source": [
        "# загрузка данных\n",
        "data_train = pd.read_csv(PATH+'/train_dataset_hackathon_mkb.csv', encoding='cp1251', sep=';')\n",
        "data_test = pd.read_csv(PATH+'/test_dataset_hackathon_mkb.csv', encoding='cp1251', sep=';')\n",
        "\n",
        "data_train.shape, data_test.shape"
      ],
      "execution_count": 8,
      "outputs": [
        {
          "output_type": "execute_result",
          "data": {
            "text/plain": [
              "((17891, 124), (7330, 123))"
            ]
          },
          "metadata": {},
          "execution_count": 8
        }
      ]
    },
    {
      "cell_type": "markdown",
      "metadata": {
        "id": "odQQxfPQzoF_"
      },
      "source": [
        "# Аномалии"
      ]
    },
    {
      "cell_type": "code",
      "metadata": {
        "colab": {
          "base_uri": "https://localhost:8080/"
        },
        "id": "z5ckXrvw21f8",
        "outputId": "b37128e2-faca-48e0-9665-1ea2f9e829e5"
      },
      "source": [
        "%%time\n",
        "\n",
        "# в датасете встречаются клиенты, у которых со временем меняются метки ИП. Предположим, что это ошибка, назначим одну метку, заполним пропуски \n",
        "\n",
        "\n",
        "#1 - 9988\n",
        "data_train.loc[(data_train['id_client']==9988), 'F1100':'OKVED_CODE'] = data_test.loc[(data_test['id_client']==9988), 'F1100':'OKVED_CODE'].iloc[0].to_list()\n",
        "data_train.loc[(data_train['id_client']==9988), 'IP_flag'] = data_test.loc[(data_test['id_client']==9988), 'IP_flag'].iloc[0]\n",
        "\n",
        "#2 - 10092 \n",
        "data_train.loc[data_train['id_client']==10092, 'IP_flag'] = 0\n",
        "data_test.loc[data_test['id_client']==10092, 'IP_flag'] = 0\n",
        "data_train.loc[(data_train['id_client']==10092), 'F1100':] = data_train.loc[(data_train['id_client']==10092), 'F1100':].fillna(method = 'ffill')\n",
        "data_train.loc[(data_train['id_client']==10092), 'F1100':] = data_train.loc[(data_train['id_client']==10092), 'F1100':].fillna(method = 'bfill')\n",
        "data_test.loc[(data_test['id_client']==10092), 'F1100':] = data_train.loc[(data_train['id_client']==10092), 'F1100':].iloc[0].to_list()\n",
        "\n",
        "#3 - 1132\n",
        "data_train.loc[data_train['id_client']==1132, 'IP_flag'] = 0\n",
        "data_test.loc[(data_test['id_client']==1132), 'F1100':'F2400_LAG1'] = data_test.loc[(data_test['id_client']==1132), 'F1100':'F2400_LAG1'].iloc[0].to_list()\n",
        "data_test.loc[(data_test['id_client']==1132), 'TAXREGPAY_REGDATE':'COUNTBRANCHEGRUL'] = data_test.loc[(data_test['id_client']==1132), 'TAXREGPAY_REGDATE':'COUNTBRANCHEGRUL'].iloc[0].to_list()\n",
        "data_test.loc[(data_test['id_client']==1132), 'COUNT_CHANGE_EVER'] = 2\n",
        "data_train.loc[(data_train['id_client']==1132), 'COUNT_CHANGE_EVER'] = 2\n",
        "data_train.loc[(data_train['id_client']==1132), 'F1100':] = data_train.loc[(data_train['id_client']==1132), 'F1100':].fillna(method = 'bfill')\n",
        "\n",
        "#4 - 822\n",
        "data_train.loc[data_train['id_client']==822, 'IP_flag'] = 0\n",
        "data_train.loc[(data_train['id_client']==822), 'F1100':] = data_train.loc[(data_train['id_client']==822), 'F1100':].fillna(method = 'bfill')\n",
        "\n",
        "#5 - 11209\n",
        "data_train.loc[data_train['id_client']==11209, 'IP_flag'] = 0\n",
        "data_train.loc[(data_train['id_client']==11209), 'F1100':] = data_train.loc[(data_train['id_client']==11209), 'F1100':].fillna(method = 'ffill')\n",
        "data_train.loc[(data_train['id_client']==11209), 'F1100':] = data_train.loc[(data_train['id_client']==11209), 'F1100':].fillna(method = 'bfill')\n",
        "\n",
        "#6 - 9600\n",
        "data_train.loc[data_train['id_client']==9600, 'IP_flag'] = 0\n",
        "data_train.loc[(data_train['id_client']==9600), 'F1100':] = data_train.loc[(data_train['id_client']==9600), 'F1100':].fillna(method = 'bfill')\n",
        "\n",
        "#7 - 11514\n",
        "data_train.loc[data_train['id_client']==11514, 'IP_flag'] = 0\n",
        "data_train.loc[(data_train['id_client']==11514), 'F1100':] = data_train.loc[(data_train['id_client']==11514), 'F1100':].fillna(method = 'bfill')\n",
        "\n",
        "#8 - 1006\n",
        "data_train.loc[data_train['id_client']==1006, 'IP_flag'] = 0\n",
        "data_train.loc[(data_train['id_client']==1006), 'F1100':] = data_train.loc[(data_train['id_client']==1006), 'F1100':].fillna(method = 'bfill')\n",
        "\n",
        "#9 - 4119\n",
        "data_train.loc[data_train['id_client']==4119, 'IP_flag'] = 0\n",
        "data_train.loc[(data_train['id_client']==4119), 'F1100':] = data_train.loc[(data_train['id_client']==4119), 'F1100':].fillna(method = 'bfill')\n",
        "data_train.loc[(data_train['id_client']==4119), 'F1100':] = data_train.loc[(data_train['id_client']==4119), 'F1100':].fillna(method = 'ffill')\n",
        "\n",
        "#10 - 6466\n",
        "data_test.loc[data_test['id_client']==6466, 'IP_flag'] = 0\n",
        "data_train.loc[data_train['id_client']==6466, 'IP_flag'] = 0\n",
        "data_test.loc[(data_test['id_client']==6466), 'F1100':] = data_test.loc[(data_test['id_client']==6466), 'F1100':].fillna(method = 'bfill')\n",
        "data_train.loc[(data_train['id_client']==6466), 'F1100':] = data_test.loc[(data_test['id_client']==6466), 'F1100':].iloc[0].to_list()\n",
        "\n",
        "#11 - 8034\n",
        "data_train.loc[data_train['id_client']==8034, 'IP_flag'] = 0\n",
        "data_train.loc[(data_train['id_client']==8034), 'F1100':] = data_train.loc[(data_train['id_client']==8034), 'F1100':].fillna(method = 'bfill')\n",
        "\n",
        "#12 - 11257\n",
        "data_train.loc[data_train['id_client']==11257, 'IP_flag'] = 0\n",
        "data_train.loc[(data_train['id_client']==11257), 'F1100':] = data_train.loc[(data_train['id_client']==11257), 'F1100':].fillna(method = 'bfill')\n",
        "data_test.loc[(data_test['id_client']==11257), 'F1100':] = data_test.loc[(data_test['id_client']==11257), 'F1100':].fillna(method = 'bfill')\n",
        "\n",
        "#13 - 10196 \n",
        "data_train.loc[data_train['id_client']==10196, 'IP_flag'] = 0\n",
        "data_test.loc[data_test['id_client']==10196, 'IP_flag'] = 0\n",
        "data_train.loc[(data_train['id_client']==10196), 'F1100':] = data_train.loc[(data_train['id_client']==10196), 'F1100':].fillna(method = 'bfill')\n",
        "data_train.loc[(data_train['id_client']==10196), 'F1100':] = data_train.loc[(data_train['id_client']==10196), 'F1100':].fillna(method = 'ffill')\n",
        "data_test.loc[(data_test['id_client']==10196), 'F1100':] = data_train.loc[(data_train['id_client']==10196), 'F1100':].iloc[-1].to_list()\n",
        "\n",
        "#14 - 1249\n",
        "data_train.loc[data_train['id_client']==1249, 'IP_flag'] = 0\n",
        "data_train.loc[(data_train['id_client']==1249), 'F1100':] = data_train.loc[(data_train['id_client']==1249), 'F1100':].fillna(method = 'bfill')\n",
        "\n",
        "#15 - 3479\n",
        "data_train.loc[data_train['id_client']==3479, 'IP_flag'] = 0\n",
        "data_train.loc[(data_train['id_client']==3479), 'F1100':] = data_train.loc[(data_train['id_client']==3479), 'F1100':].fillna(method = 'bfill')\n",
        "data_train.loc[(data_train['id_client']==3479), 'F1100':] = data_train.loc[(data_train['id_client']==3479), 'F1100':].fillna(method = 'ffill')\n",
        "\n",
        "#16 - 8801\n",
        "data_train.loc[data_train['id_client']==8801, 'IP_flag'] = 0\n",
        "data_test.loc[data_test['id_client']==8801, 'IP_flag'] = 0\n",
        "data_train.loc[(data_train['id_client']==8801), 'F1100':] = data_train.loc[(data_train['id_client']==8801), 'F1100':].fillna(method = 'bfill')\n",
        "data_test.loc[(data_test['id_client']==8801), 'F1100':] = data_test.loc[(data_test['id_client']==8801), 'F1100':].fillna(method = 'bfill')\n",
        "\n",
        "#17 - 10845\n",
        "data_train.loc[data_train['id_client']==10845, 'IP_flag'] = 0\n",
        "data_test.loc[data_test['id_client']==10845, 'IP_flag'] = 0\n",
        "data_train.loc[(data_train['id_client']==10845), 'F1100':] = data_train.loc[(data_train['id_client']==10845), 'F1100':].fillna(method = 'bfill')\n",
        "data_test.loc[(data_test['id_client']==10845), 'F1100':] = data_test.loc[(data_test['id_client']==10845), 'F1100':].fillna(method = 'bfill')\n",
        "data_test.loc[(data_test['id_client']==10845), 'F1100':] = data_test.loc[(data_test['id_client']==10845), 'F1100':].fillna(method = 'ffill')\n",
        "\n",
        "#18 - 11223\n",
        "data_train.loc[data_train['id_client']==11223, 'IP_flag'] = 0\n",
        "data_train.loc[(data_train['id_client']==11223), 'F1100':] = data_train.loc[(data_train['id_client']==11223), 'F1100':].fillna(method = 'bfill')\n",
        "data_train.loc[(data_train['id_client']==11223), 'F1100':] = data_train.loc[(data_train['id_client']==11223), 'F1100':].fillna(method = 'ffill')\n",
        "\n",
        "#19 - 7620\n",
        "data_train.loc[data_train['id_client']==7620, 'IP_flag'] = 0\n",
        "data_train.loc[(data_train['id_client']==7620), 'F1100':] = data_train.loc[(data_train['id_client']==7620), 'F1100':].fillna(method = 'bfill')\n",
        "\n",
        "#20 - 2790\n",
        "data_train.loc[data_train['id_client']==2790, 'IP_flag'] = 0\n",
        "data_train.loc[(data_train['id_client']==2790), 'F1100':] = data_train.loc[(data_train['id_client']==2790), 'F1100':].fillna(method = 'bfill')\n",
        "\n",
        "#21 - 3916\n",
        "data_train.loc[data_train['id_client']==3916, 'IP_flag'] = 0\n",
        "data_train.loc[(data_train['id_client']==3916), 'F1100':] = data_train.loc[(data_train['id_client']==3916), 'F1100':].fillna(method = 'ffill')\n",
        "\n",
        "#22 - 11922\n",
        "data_train.loc[data_train['id_client']==11922, 'IP_flag'] = 0\n",
        "data_train.loc[(data_train['id_client']==11922), 'F1100':] = data_train.loc[(data_train['id_client']==11922), 'F1100':].fillna(method = 'bfill')\n",
        "\n",
        "#23 - 11192\n",
        "data_train.loc[data_train['id_client']==11192, 'IP_flag'] = 0\n",
        "data_train.loc[(data_train['id_client']==11192), 'F1100':] = data_train.loc[(data_train['id_client']==11192), 'F1100':].fillna(method = 'ffill')\n",
        "\n",
        "#24 - 10044\n",
        "data_train.loc[data_train['id_client']==10044, 'IP_flag'] = 0\n",
        "data_train.loc[(data_train['id_client']==10044), 'F1100':] = data_train.loc[(data_train['id_client']==10044), 'F1100':].fillna(method = 'ffill')\n",
        "\n",
        "#25 - 1847\n",
        "data_train.loc[data_train['id_client']==1847, 'IP_flag'] = 0\n",
        "data_train.loc[(data_train['id_client']==1847), 'F1100':] = data_train.loc[(data_train['id_client']==1847), 'F1100':].fillna(method = 'ffill')\n",
        "\n",
        "#26 - 11374\n",
        "data_train.loc[data_train['id_client']==11374, 'IP_flag'] = 0\n",
        "data_train.loc[(data_train['id_client']==11374), 'F1100':] = data_train.loc[(data_train['id_client']==11374), 'F1100':].fillna(method = 'ffill')\n",
        "\n",
        "#27 - 1535\n",
        "data_train.loc[data_train['id_client']==1535, 'IP_flag'] = 0\n",
        "data_train.loc[(data_train['id_client']==1535), 'F1100':] = data_train.loc[(data_train['id_client']==1535), 'F1100':].fillna(method = 'ffill')\n",
        "\n",
        "#28 - 2951\n",
        "data_train.loc[data_train['id_client']==2951, 'IP_flag'] = 0\n",
        "data_test.loc[data_test['id_client']==2951, 'IP_flag'] = 0\n",
        "data_train.loc[(data_train['id_client']==2951), 'F1100':] = data_train.loc[(data_train['id_client']==2951), 'F1100':].fillna(method = 'ffill')\n",
        "data_test.loc[(data_test['id_client']==2951), 'F1100':] = data_test.loc[(data_test['id_client']==2951), 'F1100':].fillna(method = 'ffill')\n",
        "\n",
        "#29 - 3629 ??? хз может и ИП\n",
        "data_train.loc[data_train['id_client']==3629, 'IP_flag'] = 0\n",
        "data_test.loc[data_test['id_client']==3629, 'IP_flag'] = 0\n",
        "data_train.loc[(data_train['id_client']==3629), 'F1100':] = data_train.loc[(data_train['id_client']==3629), 'F1100':].fillna(method = 'ffill')\n",
        "data_test.loc[(data_test['id_client']==3629), 'F1100':] = data_train.loc[(data_train['id_client']==3629), 'F1100':].iloc[-1].to_list()\n",
        "\n",
        "#30 - 7775\n",
        "data_train.loc[data_train['id_client']==7775, 'IP_flag'] = 0\n",
        "data_train.loc[(data_train['id_client']==7775), 'F1100':] = data_train.loc[(data_train['id_client']==7775), 'F1100':].fillna(method = 'ffill')\n",
        "data_train.loc[(data_train['id_client']==7775), 'F1100':] = data_train.loc[(data_train['id_client']==7775), 'F1100':].fillna(method = 'bfill')\n",
        "\n",
        "#31 - 233\n",
        "data_train.loc[data_train['id_client']==233, 'IP_flag'] = 0\n",
        "data_train.loc[(data_train['id_client']==233), 'F1100':] = data_train.loc[(data_train['id_client']==233), 'F1100':].fillna(method = 'bfill')\n",
        "data_train.loc[(data_train['id_client']==233), 'F1100':] = data_train.loc[(data_train['id_client']==233), 'F1100':].fillna(method = 'ffill')\n",
        "\n",
        "#32 - 7776\n",
        "data_train.loc[data_train['id_client']==7776, 'IP_flag'] = 0\n",
        "data_test.loc[data_test['id_client']==7776, 'IP_flag'] = 0\n",
        "data_train.loc[(data_train['id_client']==7776), 'F1100':] = data_train.loc[(data_train['id_client']==7776), 'F1100':].fillna(method = 'ffill')\n",
        "data_test.loc[(data_test['id_client']==7776), 'F1100':] = data_test.loc[(data_test['id_client']==7776), 'F1100':].fillna(method = 'ffill')\n",
        "\n",
        "#33 - 2700 ???? может быть ИП\n",
        "data_train.loc[data_train['id_client']==2700, 'IP_flag'] = 0\n",
        "data_test.loc[data_test['id_client']==2700, 'IP_flag'] = 0\n",
        "data_train.loc[(data_train['id_client']==2700), 'F1100':] = data_train.loc[(data_train['id_client']==2700), 'F1100':].fillna(method = 'ffill')\n",
        "data_test.loc[(data_test['id_client']==2700), 'F1100':] = data_train.loc[(data_train['id_client']==2700), 'F1100':].iloc[-1].to_list()\n",
        "\n",
        "#34 - 209\n",
        "data_train.loc[data_train['id_client']==209, 'IP_flag'] = 0\n",
        "data_train.loc[(data_train['id_client']==209), 'F1100':] = data_train.loc[(data_train['id_client']==209), 'F1100':].fillna(method = 'ffill')\n",
        "\n",
        "#35 - 3586 \n",
        "data_train.loc[data_train['id_client']==3586, 'IP_flag'] = 0\n",
        "data_train.loc[(data_train['id_client']==3586), 'F1100':] = data_train.loc[(data_train['id_client']==3586), 'F1100':].fillna(method = 'ffill')\n",
        "\n",
        "#36 - 5822 \n",
        "data_train.loc[data_train['id_client']==5822, 'IP_flag'] = 0\n",
        "data_train.loc[(data_train['id_client']==5822), 'F1100':] = data_train.loc[(data_train['id_client']==5822), 'F1100':].fillna(method = 'bfill')\n",
        "\n",
        "#37 - 645\n",
        "data_train.loc[data_train['id_client']==645, 'IP_flag'] = 0\n",
        "data_train.loc[(data_train['id_client']==645), 'F1100':] = data_train.loc[(data_train['id_client']==645), 'F1100':].fillna(method = 'ffill')\n",
        "\n",
        "#38 - 834\n",
        "data_train.loc[data_train['id_client']==834, 'IP_flag'] = 0\n",
        "data_train.loc[(data_train['id_client']==834), 'F1100':] = data_train.loc[(data_train['id_client']==834), 'F1100':].fillna(method = 'bfill')\n",
        "\n",
        "#39 - 10489\n",
        "data_train.loc[data_train['id_client']==10489, 'IP_flag'] = 0\n",
        "data_test.loc[data_test['id_client']==10489, 'IP_flag'] = 0\n",
        "data_train.loc[(data_train['id_client']==10489), 'F1100':] = data_train.loc[(data_train['id_client']==10489), 'F1100':].fillna(method = 'ffill')\n",
        "data_train.loc[(data_train['id_client']==10489), 'F1100':] = data_train.loc[(data_train['id_client']==10489), 'F1100':].fillna(method = 'bfill')\n",
        "data_test.loc[(data_test['id_client']==10489), 'F1100':] = data_test.loc[(data_test['id_client']==10489), 'F1100':].fillna(method = 'ffill')\n",
        "\n",
        "#40 - 11031\n",
        "data_train.loc[data_train['id_client']==11031, 'IP_flag'] = 0\n",
        "data_train.loc[(data_train['id_client']==11031), 'F1100':] = data_train.loc[(data_train['id_client']==11031), 'F1100':].fillna(method = 'bfill')\n",
        "\n",
        "#41 - 10342\n",
        "data_train.loc[data_train['id_client']==10342, 'IP_flag'] = 0\n",
        "data_test.loc[data_test['id_client']==10342, 'IP_flag'] = 0\n",
        "data_train.loc[(data_train['id_client']==10342), 'F1100':] = data_train.loc[(data_train['id_client']==10342), 'F1100':].fillna(method = 'bfill')\n",
        "data_test.loc[(data_test['id_client']==10342), 'F1100':] = data_test.loc[(data_test['id_client']==10342), 'F1100':].fillna(method = 'ffill')\n",
        "\n",
        "#42 - 3703\n",
        "data_train.loc[data_train['id_client']==3703, 'IP_flag'] = 0\n",
        "data_train.loc[(data_train['id_client']==3703), 'F1100':] = data_train.loc[(data_train['id_client']==3703), 'F1100':].fillna(method = 'ffill')\n",
        "\n",
        "#43 - 12463\n",
        "data_train.loc[data_train['id_client']==12463, 'IP_flag'] = 0\n",
        "data_train.loc[(data_train['id_client']==12463), 'F1100':] = data_train.loc[(data_train['id_client']==12463), 'F1100':].fillna(method = 'ffill')\n",
        "\n",
        "#44 - 1128 \n",
        "data_train.loc[data_train['id_client']==1128, 'IP_flag'] = 0\n",
        "data_test.loc[data_test['id_client']==1128, 'IP_flag'] = 0\n",
        "data_train.loc[(data_train['id_client']==1128), 'F1100':] = data_train.loc[(data_train['id_client']==1128), 'F1100':].fillna(method = 'bfill')\n",
        "data_train.loc[(data_train['id_client']==1128), 'F1100':] = data_train.loc[(data_train['id_client']==1128), 'F1100':].fillna(method = 'ffill')\n",
        "data_test.loc[(data_test['id_client']==1128), 'F1100':] = data_train.loc[(data_train['id_client']==1128), 'F1100':].iloc[-1].to_list()\n",
        "\n",
        "#45 - 2785\n",
        "data_train.loc[data_train['id_client']==2785, 'IP_flag'] = 0\n",
        "data_test.loc[data_test['id_client']==2785, 'IP_flag'] = 0\n",
        "data_train.loc[(data_train['id_client']==2785), 'F1100':] = data_train.loc[(data_train['id_client']==2785), 'F1100':].fillna(method = 'ffill')\n",
        "data_train.loc[(data_train['id_client']==2785), 'F1100':] = data_train.loc[(data_train['id_client']==2785), 'F1100':].fillna(method = 'bfill')\n",
        "data_test.loc[(data_test['id_client']==2785), 'F1100':] = data_train.loc[(data_train['id_client']==2785), 'F1100':].iloc[-1].to_list()\n",
        "\n",
        "#46 - 1487\n",
        "data_train.loc[data_train['id_client']==1487, 'IP_flag'] = 0\n",
        "data_train.loc[(data_train['id_client']==1487), 'F1100':] = data_train.loc[(data_train['id_client']==1487), 'F1100':].fillna(method = 'bfill')\n",
        "\n",
        "#47 - 2789\n",
        "data_train.loc[data_train['id_client']==2789, 'IP_flag'] = 0\n",
        "data_train.loc[(data_train['id_client']==2789), 'F1100':] = data_train.loc[(data_train['id_client']==2789), 'F1100':].fillna(method = 'ffill')\n",
        "\n",
        "#48 - 4916\n",
        "data_train.loc[data_train['id_client']==4916, 'IP_flag'] = 0\n",
        "data_train.loc[(data_train['id_client']==4916), 'F1100':] = data_train.loc[(data_train['id_client']==4916), 'F1100':].fillna(method = 'ffill')\n",
        "\n",
        "#49 - 857\n",
        "data_train.loc[data_train['id_client']==857, 'IP_flag'] = 0\n",
        "data_train.loc[(data_train['id_client']==857), 'F1100':] = data_train.loc[(data_train['id_client']==857), 'F1100':].fillna(method = 'bfill')\n",
        "\n",
        "#50 - 10224\n",
        "data_train.loc[data_train['id_client']==10224, 'IP_flag'] = 0\n",
        "data_train.loc[(data_train['id_client']==10224), 'F1100':] = data_train.loc[(data_train['id_client']==10224), 'F1100':].fillna(method = 'bfill')\n",
        "\n",
        "#51 - 168\n",
        "data_train.loc[data_train['id_client']==168, 'IP_flag'] = 0\n",
        "data_train.loc[(data_train['id_client']==168), 'F1100':] = data_train.loc[(data_train['id_client']==168), 'F1100':].fillna(method = 'ffill')\n",
        "\n",
        "#52 - 3226\n",
        "data_train.loc[data_train['id_client']==3226, 'IP_flag'] = 0\n",
        "data_train.loc[(data_train['id_client']==3226), 'F1100':] = data_train.loc[(data_train['id_client']==3226), 'F1100':].fillna(method = 'bfill')\n",
        "\n",
        "#53 - 10197\n",
        "data_train.loc[data_train['id_client']==10197, 'IP_flag'] = 0\n",
        "data_train.loc[(data_train['id_client']==10197), 'F1100':] = data_train.loc[(data_train['id_client']==10197), 'F1100':].fillna(method = 'ffill')\n",
        "\n",
        "#54 - 3848\n",
        "data_train.loc[data_train['id_client']==3848, 'IP_flag'] = 0\n",
        "data_train.loc[(data_train['id_client']==3848), 'F1100':] = data_test.loc[(data_test['id_client']==3848), 'F1100':].iloc[-1].to_list()\n",
        "\n",
        "#55 - 8436\n",
        "data_train.loc[data_train['id_client']==8436, 'IP_flag'] = 0\n",
        "data_train.loc[(data_train['id_client']==8436), 'F1100':] = data_train.loc[(data_train['id_client']==8436), 'F1100':].fillna(method = 'ffill')\n",
        "\n",
        "#56 - 10399\n",
        "data_train.loc[data_train['id_client']==10399, 'IP_flag'] = 0\n",
        "data_train.loc[(data_train['id_client']==10399), 'F1100':] = data_train.loc[(data_train['id_client']==10399), 'F1100':].fillna(method = 'ffill')\n",
        "data_test.loc[(data_test['id_client']==10399), 'F1100':] = data_test.loc[(data_test['id_client']==10399), 'F1100':].fillna(method = 'ffill')\n",
        "data_test.loc[(data_test['id_client']==10399), 'F1100':] = data_test.loc[(data_test['id_client']==10399), 'F1100':].fillna(method = 'bfill')\n",
        "\n",
        "#57 - 842\n",
        "data_train.loc[data_train['id_client']==842, 'IP_flag'] = 0\n",
        "data_train.loc[(data_train['id_client']==842), 'F1100':] = data_train.loc[(data_train['id_client']==842), 'F1100':].fillna(method = 'bfill')\n",
        "\n",
        "#58 - 3855\n",
        "data_train.loc[data_train['id_client']==3855, 'IP_flag'] = 0\n",
        "data_train.loc[(data_train['id_client']==3855), 'F1100':] = data_train.loc[(data_train['id_client']==3855), 'F1100':].fillna(method = 'bfill')\n",
        "\n",
        "#59 - 10552\n",
        "data_train.loc[data_train['id_client']==10552, 'IP_flag'] = 0\n",
        "data_test.loc[data_test['id_client']==10552, 'IP_flag'] = 0\n",
        "data_train.loc[(data_train['id_client']==10552), 'F1100':] = data_train.loc[(data_train['id_client']==10552), 'F1100':].fillna(method = 'bfill')\n",
        "data_test.loc[(data_test['id_client']==10552), 'F1100':] = data_test.loc[(data_test['id_client']==10552), 'F1100':].fillna(method = 'ffill')\n",
        "data_test.loc[(data_test['id_client']==10552), 'F1100':] = data_test.loc[(data_test['id_client']==10552), 'F1100':].fillna(method = 'bfill')\n",
        "\n",
        "#60 - 9996\n",
        "data_train.loc[data_train['id_client']==9996, 'IP_flag'] = 0\n",
        "data_test.loc[data_test['id_client']==9996, 'IP_flag'] = 0\n",
        "data_train.loc[(data_train['id_client']==9996), 'F1100':] = data_train.loc[(data_train['id_client']==9996), 'F1100':].fillna(method = 'ffill')\n",
        "data_train.loc[(data_train['id_client']==9996), 'F1100':] = data_train.loc[(data_train['id_client']==9996), 'F1100':].fillna(method = 'bfill')\n",
        "data_test.loc[(data_test['id_client']==9996), 'F1100':] = data_test.loc[(data_test['id_client']==9996), 'F1100':].fillna(method = 'bfill')\n",
        "\n",
        "#61 - 8837\n",
        "data_train.loc[data_train['id_client']==8837, 'IP_flag'] = 0\n",
        "data_test.loc[data_test['id_client']==8837, 'IP_flag'] = 0\n",
        "data_train.loc[(data_train['id_client']==8837), 'F1100':] = data_train.loc[(data_train['id_client']==8837), 'F1100':].fillna(method = 'ffill')\n",
        "data_train.loc[(data_train['id_client']==8837), 'F1100':] = data_train.loc[(data_train['id_client']==8837), 'F1100':].fillna(method = 'bfill')\n",
        "data_test.loc[(data_test['id_client']==8837), 'F1100':] = data_train.loc[(data_train['id_client']==8837), 'F1100':].iloc[-1].to_list()\n",
        "\n",
        "#62 - 7624\n",
        "data_train.loc[data_train['id_client']==7624, 'IP_flag'] = 0\n",
        "data_train.loc[(data_train['id_client']==7624), 'F1100':] = data_train.loc[(data_train['id_client']==7624), 'F1100':].fillna(method = 'ffill')\n",
        "\n",
        "#63 - 5175\n",
        "data_train.loc[data_train['id_client']==5175, 'IP_flag'] = 0\n",
        "data_train.loc[(data_train['id_client']==5175), 'F1100':] = data_test.loc[(data_test['id_client']==5175), 'F1100':].iloc[-1].to_list()\n",
        "\n",
        "#64 - 3311\n",
        "data_train.loc[data_train['id_client']==3311, 'IP_flag'] = 0\n",
        "data_train.loc[(data_train['id_client']==3311), 'F1100':] = data_train.loc[(data_train['id_client']==3311), 'F1100':].fillna(method = 'bfill')\n",
        "\n",
        "#65 - 8517\n",
        "data_train.loc[data_train['id_client']==8517, 'IP_flag'] = 0\n",
        "data_test.loc[data_test['id_client']==8517, 'IP_flag'] = 0\n",
        "data_train.loc[(data_train['id_client']==8517), 'F1100':] = data_train.loc[(data_train['id_client']==8517), 'F1100':].fillna(method = 'ffill')\n",
        "data_test.loc[(data_test['id_client']==8517), 'F1100':] = data_train.loc[(data_train['id_client']==8517), 'F1100':].iloc[-1].to_list()\n",
        "\n",
        "#66 - 7565\n",
        "data_train.loc[data_train['id_client']==7565, 'IP_flag'] = 0\n",
        "data_train.loc[(data_train['id_client']==7565), 'F1100':] = data_train.loc[(data_train['id_client']==7565), 'F1100':].fillna(method = 'ffill')\n",
        "\n",
        "#67 - 11783\n",
        "data_train.loc[data_train['id_client']==11783, 'IP_flag'] = 0\n",
        "data_train.loc[(data_train['id_client']==11783), 'F1100':] = data_train.loc[(data_train['id_client']==11783), 'F1100':].fillna(method = 'ffill')\n",
        "\n",
        "#68 - 10097\n",
        "data_train.loc[data_train['id_client']==10097, 'IP_flag'] = 0\n",
        "data_train.loc[(data_train['id_client']==10097), 'F1100':] = data_train.loc[(data_train['id_client']==10097), 'F1100':].fillna(method = 'ffill')\n",
        "data_train.loc[(data_train['id_client']==10097), 'F1100':] = data_train.loc[(data_train['id_client']==10097), 'F1100':].fillna(method = 'bfill')\n",
        "\n",
        "#69 - 1073\n",
        "data_train.loc[data_train['id_client']==1073, 'IP_flag'] = 0\n",
        "data_train.loc[(data_train['id_client']==1073), 'F1100':] = data_train.loc[(data_train['id_client']==1073), 'F1100':].fillna(method = 'ffill')\n",
        "\n",
        "#70 - 1839\n",
        "data_train.loc[data_train['id_client']==1839, 'IP_flag'] = 0\n",
        "data_train.loc[(data_train['id_client']==1839), 'F1100':] = data_train.loc[(data_train['id_client']==1839), 'F1100':].fillna(method = 'ffill')\n",
        "\n",
        "#71 - 12016\n",
        "data_train.loc[data_train['id_client']==12016, 'IP_flag'] = 0\n",
        "data_train.loc[(data_train['id_client']==12016), 'F1100':] = data_train.loc[(data_train['id_client']==12016), 'F1100':].fillna(method = 'ffill')\n",
        "\n",
        "#72 - 12018\n",
        "data_train.loc[data_train['id_client']==12018, 'IP_flag'] = 0\n",
        "data_train.loc[(data_train['id_client']==12018), 'F1100':] = data_train.loc[(data_train['id_client']==12018), 'F1100':].fillna(method = 'bfill')\n",
        "\n",
        "#73 - 10218\n",
        "data_train.loc[data_train['id_client']==10218, 'IP_flag'] = 0\n",
        "data_test.loc[data_test['id_client']==10218, 'IP_flag'] = 0\n",
        "\n",
        "data_train.loc[(data_train['id_client']==10218), 'F1100':] = data_train.loc[(data_train['id_client']==10218), 'F1100':].fillna(method = 'ffill')\n",
        "data_train.loc[(data_train['id_client']==10218), 'F1100':] = data_train.loc[(data_train['id_client']==10218), 'F1100':].fillna(method = 'bfill')\n",
        "\n",
        "data_test.loc[(data_test['id_client']==10218), 'F1100':] = data_test.loc[(data_test['id_client']==10218), 'F1100':].fillna(method = 'ffill')\n",
        "data_test.loc[(data_test['id_client']==10218), 'F1100':] = data_test.loc[(data_test['id_client']==10218), 'F1100':].fillna(method = 'bfill')\n",
        "\n",
        "#74 - 5614\n",
        "data_train.loc[data_train['id_client']==5614, 'IP_flag'] = 0\n",
        "data_train.loc[(data_train['id_client']==5614), 'F1100':] = data_train.loc[(data_train['id_client']==5614), 'F1100':].fillna(method = 'bfill')\n",
        "\n",
        "#75 - 12109\n",
        "data_train.loc[data_train['id_client']==12109, 'IP_flag'] = 0\n",
        "data_train.loc[(data_train['id_client']==12109), 'F1100':] = data_train.loc[(data_train['id_client']==12109), 'F1100':].fillna(method = 'ffill')\n",
        "\n",
        "#76 - 8730\n",
        "data_train.loc[data_train['id_client']==8730, 'IP_flag'] = 0\n",
        "data_train.loc[(data_train['id_client']==8730), 'F1100':] = data_train.loc[(data_train['id_client']==8730), 'F1100':].fillna(method = 'ffill')\n",
        "\n",
        "#77 - 10746\n",
        "data_train.loc[data_train['id_client']==10746, 'IP_flag'] = 0\n",
        "data_test.loc[data_test['id_client']==10746, 'IP_flag'] = 0\n",
        "data_train.loc[(data_train['id_client']==10746), 'F1100':] = data_train.loc[(data_train['id_client']==10746), 'F1100':].fillna(method = 'ffill')\n",
        "data_train.loc[(data_train['id_client']==10746), 'F1100':] = data_train.loc[(data_train['id_client']==10746), 'F1100':].fillna(method = 'bfill')\n",
        "\n",
        "data_test.loc[(data_test['id_client']==10746), 'F1100':] = data_test.loc[(data_test['id_client']==10746), 'F1100':].fillna(method = 'ffill')\n",
        "data_test.loc[(data_test['id_client']==10746), 'F1100':] = data_test.loc[(data_test['id_client']==10746), 'F1100':].fillna(method = 'bfill')\n",
        "\n",
        "#78 - 3588\n",
        "data_train.loc[data_train['id_client']==3588, 'IP_flag'] = 0\n",
        "data_train.loc[(data_train['id_client']==3588), 'F1100':] = data_train.loc[(data_train['id_client']==3588), 'F1100':].fillna(method = 'bfill')\n",
        "\n",
        "#79 - 9194\n",
        "data_train.loc[data_train['id_client']==9194, 'IP_flag'] = 0\n",
        "data_train.loc[(data_train['id_client']==9194), 'F1100':] = data_train.loc[(data_train['id_client']==9194), 'F1100':].fillna(method = 'ffill')\n",
        "\n",
        "#80 - 9339\n",
        "data_train.loc[data_train['id_client']==9339, 'IP_flag'] = 0\n",
        "data_train.loc[(data_train['id_client']==9339), 'F1100':] = data_train.loc[(data_train['id_client']==9339), 'F1100':].fillna(method = 'ffill')\n",
        "\n",
        "#81 - 9882\n",
        "data_train.loc[data_train['id_client']==9882, 'IP_flag'] = 0\n",
        "data_train.loc[(data_train['id_client']==9882), 'F1100':] = data_test.loc[(data_test['id_client']==9882), 'F1100':].iloc[-1].to_list()\n",
        "\n",
        "#82 - 11269\n",
        "data_test.loc[data_test['id_client']==11269, 'IP_flag'] = 0\n",
        "data_test.loc[(data_test['id_client']==11269), 'F1100':] = data_train.loc[(data_train['id_client']==11269), 'F1100':].iloc[-1].to_list()\n",
        "\n",
        "#83 - 9721\n",
        "data_test.loc[data_test['id_client']==9721, 'IP_flag'] = 0\n",
        "data_test.loc[(data_test['id_client']==9721), 'F1100':] = data_train.loc[(data_train['id_client']==9721), 'F1100':].iloc[-1].to_list()\n",
        "\n",
        "#84 - 6102\n",
        "data_test.loc[data_test['id_client']==6102, 'IP_flag'] = 0 \n",
        "data_test.loc[(data_test['id_client']==6102), 'F1100':] = data_train.loc[(data_train['id_client']==6102), 'F1100':].iloc[-1].to_list()\n",
        "\n",
        "#85 - 5021\n",
        "data_test.loc[data_test['id_client']==5021, 'IP_flag'] = 0 \n",
        "data_test.loc[(data_test['id_client']==5021), 'F1100':] = data_test.loc[(data_test['id_client']==5021), 'F1100':].fillna(method = 'ffill')\n"
      ],
      "execution_count": 9,
      "outputs": [
        {
          "output_type": "stream",
          "name": "stdout",
          "text": [
            "CPU times: user 6.94 s, sys: 41.5 ms, total: 6.98 s\n",
            "Wall time: 6.98 s\n"
          ]
        }
      ]
    },
    {
      "cell_type": "markdown",
      "metadata": {
        "id": "llbx41lzKwcT"
      },
      "source": [
        "# Вспомогательные списки"
      ]
    },
    {
      "cell_type": "code",
      "metadata": {
        "id": "80Qt1fDtJGqs"
      },
      "source": [
        "# список признаков для заполнения пропусков, после первого пробного обучения модели, эти признаки были определены как важные\n",
        "IP_list_to_fill_zero = ['DEFENDANT_SUM_EVER', \n",
        "                     'DEFENDANT_CASESNUMBER_YEAR', 'DEFENDANT_CASESNUMBER_EVER',\n",
        "                     'PLAINTIFF_SUM_EVER', 'PLAINTIFF_SUM_YEAR',\n",
        "                     'PLAINTIFF_CASESNUMBER_YEAR', 'PLAINTIFF_CASESNUMBER_EVER', \n",
        "                     'THIRDOROTHERPERSON_YEAR', 'THIRDOROTHERPERSON_YEAR']"
      ],
      "execution_count": 10,
      "outputs": []
    },
    {
      "cell_type": "code",
      "metadata": {
        "colab": {
          "base_uri": "https://localhost:8080/"
        },
        "id": "93xTfWuyJGw2",
        "outputId": "63e0e0ac-edec-48b2-d918-a09c1d329375"
      },
      "source": [
        "cat_names = ['id_contract','id_client','IP_flag', 'EGRPOINCLUDED','OKATO_REGIONCODE',\n",
        " 'OKATO_FED','OKTMO_CODE','OKTMO_FED','FLAG_DISQUALIFICATION','OKFS_GROUP','OKOPF_GROUP',\n",
        " 'OKOGU_GROUP','WORKERSRANGE','OKVED_CODE','SEX_NAME',\n",
        " 'CITIZENSHIP_NAME','month', 'FLAG_DISQUALIFICATION', 'type_place']\n",
        "\n",
        "date_names = ['SIGN_DATE', 'BIRTHDATE', 'DATEFIRSTREG', 'TAXREG_REGDATE', 'TAXREGPAY_REGDATE']\n",
        "\n",
        "num_names = data_train.columns.tolist()\n",
        "len(num_names)"
      ],
      "execution_count": 11,
      "outputs": [
        {
          "output_type": "execute_result",
          "data": {
            "text/plain": [
              "124"
            ]
          },
          "metadata": {},
          "execution_count": 11
        }
      ]
    },
    {
      "cell_type": "markdown",
      "metadata": {
        "id": "uqNM1YVn04Fs"
      },
      "source": [
        "## Записи для валидации"
      ]
    },
    {
      "cell_type": "code",
      "metadata": {
        "id": "Ji1HXAAyJGzv"
      },
      "source": [
        "# трэйновые записи похожие на тест, были выбраны adversarial validation\n",
        "ip_one_test = ['92', '144', '172', '207', '299', '337', '359', '362', '366', '426', '436', '616', '639', '682', '725', '933', '1129', '1162', '1322', '1361', '1378', '1532', '1552', '1568', '1754', '1756', '1812', '1881', '2038', '2081', '2132', '2329', '2396', '2458', '2467', '2556', '2573', '2578', '2602', '2698', '2715', '2728', '2744', '2764', '2784', '2794', '2795', '2836', '2843', '2891', '2917', '2935', '2942', '2988', '2996', '3021', '3098', '3177', '3269', '3324', '3335', '3374', '3453', '3486', '3541', '3609', '3641', '3643', '3690', '3694', '3722', '3766', '3784', '3834', '3850', '3901', '3923', '3925', '3945', '3973', '3979', '4048', '4138', '4178', '4193', '4207', '4261', '4272', '4325', '4328', '4370', '4449', '4471', '4513', '4546', '4562', '4589', '4609', '4717', '4733', '4759', '4767', '4790', '4881', '4900', '4903', '4912', '4932', '5047', '5053', '5102', '5198', '5249', '5255', '5317', '5341', '5362', '5483', '5529', '5548', '5555', '5570', '5572', '5641', '5657', '5764', '5838', '5858', '5906', '5919', '5929', '5981', '6041', '6122', '6128', '6204', '6264', '6301', '6333', '6455', '6568', '6606', '6665', '6679', '6707', '6775', '6907', '6972', '6994', '7017', '7023', '7035', '7082', '7123', '7302', '7304', '7332', '7341', '7380', '7392', '7489', '7528', '7543', '7572', '7581', '7591', '7594', '7620', '7692', '7699', '7752', '7812', '7847', '7859', '7906', '7911', '7918', '7934', '7980', '7985', '8007', '8082', '8093', '8115', '8116', '8188', '8195', '8224', '8228', '8265', '8292', '8316', '8325', '8335', '8397', '8514', '8529', '8587', '8591', '8691', '8695', '8697', '8728', '8732', '8748', '8759', '8865', '8868', '8920', '8921', '8928', '8986', '9011', '9091', '9156', '9173', '9229', '9233', '9263', '9272', '9273', '9286', '9341', '9381', '9394', '9403', '9409', '9420', '9430', '9463', '9470', '9500', '9536', '9540', '9546', '9587', '9626', '9632', '9663', '9681', '9729', '9751', '9766', '9802', '9817', '9821', '9870', '9897', '9913', '9957', '9963', '9965', '9981', '9993', '10013', '10069', '10098', '10125', '10126', '10211', '10226', '10290', '10344', '10352', '10363', '10370', '10520', '10537', '10662', '10723', '10768', '10790', '10792', '10833', '10851', '10863', '10891', '10915', '10973', '10986', '11031', '11043', '11047', '11063', '11136', '11139', '11151', '11152', '11166', '11196', '11227', '11255', '11291', '11344', '11359', '11466', '11501', '11523', '11531', '11562', '11575', '11609', '11621', '11643', '11647', '11654', '11682', '11755', '11763', '11772', '11818', '11829', '11848', '11860', '11861', '11877', '11887', '11888', '11889', '11903', '11910', '11911', '11921', '11934', '11948', '11978', '11986', '11987', '11995', '12019', '12020', '12046', '12055', '12072', '12096', '12099', '12134', '12249', '12281', '12303', '12353', '12354', '12357', '12383', '12399', '12455', '12541', '12548', '12575', '12584', '12616', '12659', '12713', '12735', '12749', '12776', '12786', '12797', '12801', '12809', '12835', '12888', '12951', '13020', '13039', '13081', '13094', '13181', '13202', '13209', '13215', '13216', '13300', '13344', '13374', '13473', '13476', '13589', '13604', '13608', '13609', '13611', '13687', '13732', '13805', '13816', '13833', '13906', '13936', '14005', '14008', '14119', '14148', '14194', '14423', '14595', '14607', '14612', '14634', '14743', '14798', '14889', '14899', '14904', '14961', '15065', '15068', '15145', '15225', '15243', '15273', '15287', '15323', '15362', '15384', '15397', '15443', '15454', '15511', '15550', '15564', '15585', '15593', '15602', '15714', '15725', '15883', '16008', '16016', '16064', '16085', '16100', '16145', '16158', '16288', '16360', '16412', '16496', '16615', '16636', '16644', '16655', '16691', '16746', '16791', '16796', '16805', '16814', '16883', '16902', '16938', '16950', '16957', '16995', '17004', '17016', '17037', '17045', '17081', '17115', '17131', '17177', '17179', '17190', '17238', '17243', '17248', '17256', '17286', '17302', '17307', '17344', '17375', '17390', '17427', '17499', '17513', '17546', '17591', '17599', '17700', '17852']\n",
        "\n",
        "ip_many_test = ['85', '226', '317', '363', '381', '440', '450', '467', '486', '574', '579', '585', '644', '655', '656', '900', '972', '981', '984', '1014', '1204', '1206', '1219', '1246', '1326', '1396', '1575', '1643', '1666', '1804', '1861', '1897', '1903', '1921', '1940', '1978', '2005', '2012', '2068', '2365', '2468', '2473', '2546', '2614', '2635', '2669', '2752', '2815', '2823', '2863', '2880', '2919', '3040', '3074', '3270', '3364', '3489', '3491', '3537', '3599', '3616', '3645', '3699', '3753', '3767', '3790', '3926', '4005', '4034', '4037', '4051', '4074', '4150', '4153', '4301', '4316', '4362', '4385', '4497', '4525', '4541', '4604', '4641', '4740', '4788', '4891', '5173', '5175', '5210', '5365', '5448', '5617', '5618', '5628', '5633', '5653', '5954', '5983', '5995', '5999', '6033', '6105', '6221', '6285', '6364', '6424', '6453', '6456', '6557', '6594', '6674', '6882', '6886', '6888', '6913', '6953', '6992', '6993', '7011', '7049', '7108', '7153', '7361', '7393', '7454', '7565', '7665', '7676', '7678', '7810', '7876', '7883', '7904', '7933', '7945', '7956', '7963', '7969', '8067', '8240', '8250', '8305', '8311', '8406', '8446', '8551', '8592', '8734', '8769', '8826', '8838', '8902', '8923', '8990', '9032', '9033', '9049', '9078', '9117', '9175', '9181', '9230', '9270', '9306', '9323', '9376', '9416', '9419', '9450', '9501', '9569', '9607', '9628', '9698', '9718', '9845', '9856', '9863', '9906', '9936', '9951', '10012', '10037', '10085', '10129', '10130', '10141', '10178', '10216', '10224', '10237', '10291', '10322', '10443', '10457', '10517', '10538', '10621', '10702', '10713', '10763', '10812', '10882', '10887', '10965', '10975', '11011', '11081', '11159', '11198', '11214', '11261', '11283', '11353', '11473', '11568', '11722', '11779', '11824', '11854', '11864', '11865', '11945', '11985', '12002', '12039', '12040', '12237', '12245', '12272', '12301', '12309', '12335', '12395', '12413', '12502', '12586', '12603', '12614', '12648', '12653', '12759', '12838', '12852', '13002', '13085', '13088', '13110', '13140', '13145', '13154', '13175', '13266', '13282', '13296', '13336', '13338', '13460', '13474', '13489', '13494', '13510', '13528', '13538', '13622', '13636', '13652', '13674', '13693', '13700', '13798', '13799', '13819', '13844', '13915', '13918', '13934', '13986', '14004', '14064', '14070', '14076', '14157', '14245', '14296', '14482', '14486', '14494', '14545', '14566', '14583', '14584', '14623', '14699', '14724', '14787', '14797', '14807', '14814', '14881', '14882', '14905', '14912', '14949', '14955', '14975', '14996', '15002', '15016', '15022', '15024', '15035', '15055', '15056', '15058', '15064', '15096', '15097', '15121', '15144', '15180', '15181', '15184', '15198', '15253', '15276', '15294', '15297', '15320', '15328', '15329', '15341', '15342', '15350', '15353', '15367', '15409', '15410', '15418', '15457', '15546', '15591', '15598', '15710', '15711', '15757', '15843', '15868', '15871', '15882', '15885', '15999', '16011', '16012', '16043', '16063', '16069', '16070', '16082', '16083', '16086', '16091', '16118', '16119', '16120', '16125', '16126', '16127', '16131', '16140', '16200', '16208', '16210', '16211', '16280', '16282', '16291', '16292', '16302', '16321', '16322', '16331', '16337', '16339', '16362', '16391', '16463', '16480', '16532', '16564', '16610', '16619', '16627', '16647', '16666', '16678', '16685', '16730', '16741', '16760', '16825', '16857', '16858', '16904', '16931', '16932', '16934', '16961', '16981', '16985', '16986', '16987', '17000', '17013', '17047', '17051', '17069', '17074', '17138', '17158', '17178', '17186', '17199', '17203', '17224', '17231', '17232', '17241', '17271', '17277', '17279', '17291', '17303', '17358', '17361', '17367', '17369', '17370', '17396', '17446', '17451', '17461', '17481', '17482', '17493', '17495', '17524', '17560', '17561', '17566', '17570', '17571', '17627', '17628', '17660', '17664', '17671', '17680', '17698', '17704', '17709', '17739', '17759', '17760', '17775', '17811', '17814', '17831', '17844', '17878']\n",
        "\n",
        "yr_one_test = ['22', '54', '89', '91', '94', '98', '117', '119', '124', '128', '130', '132', '135', '138', '141', '153', '170', '177', '180', '189', '190', '206', '209', '211', '217', '241', '242', '247', '270', '279', '280', '284', '285', '305', '326', '330', '349', '351', '355', '356', '380', '386', '407', '422', '432', '442', '445', '449', '461', '472', '477', '480', '481', '483', '492', '493', '507', '513', '522', '529', '530', '536', '542', '557', '573', '575', '576', '582', '591', '607', '615', '624', '629', '643', '654', '685', '698', '701', '702', '711', '724', '744', '746', '789', '790', '800', '802', '803', '818', '821', '829', '830', '831', '843', '844', '846', '847', '871', '872', '881', '886', '895', '907', '914', '926', '943', '944', '956', '988', '1005', '1010', '1018', '1041', '1050', '1053', '1078', '1110', '1111', '1113', '1117', '1121', '1147', '1150', '1151', '1153', '1155', '1160', '1161', '1168', '1171', '1179', '1183', '1193', '1194', '1195', '1245', '1261', '1272', '1275', '1283', '1284', '1318', '1331', '1335', '1337', '1341', '1342', '1362', '1371', '1410', '1443', '1448', '1469', '1492', '1496', '1497', '1498', '1501', '1517', '1524', '1529', '1536', '1541', '1560', '1565', '1569', '1570', '1571', '1574', '1593', '1596', '1598', '1599', '1631', '1634', '1636', '1644', '1690', '1700', '1722', '1727', '1740', '1745', '1796', '1797', '1800', '1828', '1849', '1857', '1864', '1873', '1877', '1878', '1933', '1938', '1941', '1945', '1958', '1979', '1988', '2006', '2023', '2024', '2033', '2036', '2058', '2067', '2071', '2082', '2096', '2102', '2135', '2136', '2140', '2164', '2169', '2173', '2174', '2192', '2193', '2249', '2251', '2275', '2279', '2281', '2282', '2292', '2303', '2309', '2312', '2315', '2340', '2361', '2376', '2385', '2389', '2404', '2422', '2451', '2459', '2478', '2483', '2498', '2502', '2514', '2518', '2520', '2527', '2530', '2531', '2532', '2533', '2535', '2550', '2558', '2566', '2575', '2592', '2600', '2603', '2604', '2622', '2632', '2645', '2650', '2654', '2657', '2662', '2674', '2685', '2690', '2702', '2703', '2705', '2706', '2709', '2719', '2720', '2733', '2735', '2756', '2783', '2798', '2800', '2811', '2817', '2832', '2847', '2866', '2867', '2868', '2887', '2893', '2900', '2920', '2923', '2926', '2931', '2933', '2936', '2948', '2949', '2954', '2957', '2969', '2970', '2972', '2981', '2994', '2997', '3002', '3006', '3027', '3035', '3041', '3043', '3062', '3063', '3064', '3078', '3083', '3091', '3096', '3102', '3105', '3113', '3114', '3141', '3142', '3168', '3173', '3175', '3200', '3201', '3203', '3207', '3211', '3215', '3222', '3226', '3231', '3239', '3245', '3262', '3266', '3271', '3273', '3274', '3276', '3277', '3290', '3292', '3297', '3302', '3304', '3306', '3319', '3328', '3330', '3334', '3340', '3345', '3348', '3368', '3373', '3376', '3381', '3382', '3389', '3403', '3409', '3411', '3413', '3416', '3420', '3424', '3427', '3432', '3433', '3435', '3444', '3463', '3474', '3481', '3483', '3495', '3496', '3498', '3501', '3518', '3530', '3532', '3535', '3549', '3560', '3572', '3573', '3575', '3580', '3582', '3596', '3603', '3618', '3633', '3636', '3650', '3653', '3678', '3685', '3688', '3691', '3706', '3712', '3718', '3720', '3726', '3731', '3738', '3752', '3759', '3760', '3762', '3764', '3783', '3788', '3791', '3792', '3803', '3815', '3820', '3823', '3828', '3831', '3832', '3845', '3855', '3856', '3873', '3876', '3881', '3887', '3890', '3899', '3914', '3916', '3919', '3920', '3927', '3929', '3937', '3939', '3944', '3949', '3956', '3957', '3960', '3963', '3977', '3980', '3987', '3992', '3994', '3999', '4002', '4006', '4019', '4023', '4025', '4031', '4032', '4041', '4049', '4050', '4052', '4065', '4066', '4076', '4080', '4085', '4086', '4088', '4092', '4094', '4096', '4107', '4113', '4116', '4124', '4133', '4137', '4141', '4144', '4149', '4152', '4154', '4155', '4175', '4182', '4183', '4188', '4191', '4192', '4198', '4199', '4202', '4212', '4231', '4240', '4249', '4253', '4260', '4265', '4266', '4271', '4273', '4274', '4276', '4282', '4286', '4294', '4296', '4312', '4313', '4317', '4320', '4322', '4327', '4329', '4333', '4350', '4355', '4374', '4386', '4393', '4400', '4403', '4405', '4406', '4415', '4418', '4420', '4424', '4441', '4442', '4443', '4467', '4468', '4469', '4486', '4489', '4499', '4501', '4508', '4512', '4519', '4520', '4529', '4544', '4547', '4555', '4569', '4570', '4571', '4573', '4582', '4593', '4597', '4598', '4599', '4603', '4607', '4616', '4623', '4627', '4634', '4635', '4639', '4648', '4655', '4656', '4661', '4663', '4673', '4677', '4678', '4698', '4705', '4706', '4707', '4708', '4714', '4720', '4723', '4725', '4757', '4758', '4761', '4769', '4770', '4778', '4779', '4785', '4791', '4795', '4800', '4805', '4806', '4817', '4824', '4827', '4835', '4843', '4844', '4862', '4878', '4888', '4889', '4890', '4893', '4894', '4895', '4898', '4899', '4901', '4913', '4914', '4915', '4918', '4921', '4924', '4925', '4935', '4954', '4969', '4977', '4985', '4990', '4992', '4993', '5006', '5016', '5030', '5032', '5033', '5039', '5045', '5059', '5060', '5063', '5067', '5068', '5076', '5079', '5081', '5082', '5083', '5095', '5098', '5109', '5111', '5115', '5116', '5121', '5139', '5162', '5165', '5166', '5168', '5170', '5171', '5180', '5196', '5211', '5217', '5223', '5254', '5274', '5277', '5282', '5289', '5306', '5308', '5316', '5319', '5323', '5337', '5339', '5343', '5345', '5352', '5358', '5359', '5363', '5377', '5393', '5394', '5395', '5396', '5401', '5425', '5426', '5429', '5430', '5432', '5434', '5436', '5443', '5479', '5480', '5481', '5486', '5498', '5504', '5505', '5519', '5524', '5537', '5557', '5567', '5577', '5581', '5582', '5584', '5585', '5593', '5599', '5621', '5626', '5630', '5631', '5644', '5645', '5647', '5656', '5660', '5661', '5663', '5672', '5673', '5678', '5681', '5728', '5737', '5742', '5744', '5754', '5759', '5765', '5768', '5769', '5774', '5783', '5790', '5795', '5796', '5800', '5801', '5802', '5804', '5812', '5814', '5821', '5822', '5829', '5831', '5834', '5841', '5845', '5862', '5866', '5868', '5872', '5873', '5880', '5882', '5885', '5892', '5894', '5903', '5905', '5911', '5914', '5918', '5922', '5928', '5945', '5960', '5965', '5971', '5972', '5991', '5992', '6005', '6015', '6034', '6043', '6049', '6053', '6054', '6070', '6110', '6111', '6121', '6124', '6127', '6141', '6143', '6149', '6150', '6156', '6161', '6166', '6168', '6182', '6200', '6205', '6215', '6225', '6228', '6230', '6231', '6236', '6240', '6249', '6254', '6256', '6273', '6276', '6277', '6279', '6283', '6284', '6296', '6298', '6299', '6306', '6310', '6312', '6325', '6326', '6330', '6334', '6361', '6384', '6396', '6430', '6446', '6452', '6454', '6463', '6473', '6477', '6478', '6497', '6498', '6500', '6506', '6507', '6511', '6515', '6516', '6521', '6528', '6530', '6533', '6541', '6575', '6578', '6589', '6604', '6627', '6629', '6639', '6642', '6643', '6647', '6655', '6658', '6702', '6713', '6716', '6733', '6737', '6738', '6739', '6740', '6741', '6748', '6750', '6760', '6764', '6770', '6788', '6792', '6806', '6809', '6811', '6812', '6813', '6817', '6839', '6844', '6847', '6852', '6853', '6857', '6861', '6870', '6876', '6891', '6903', '6914', '6918', '6936', '6938', '6952', '6955', '6960', '6971', '6984', '6986', '6989', '6991', '7004', '7020', '7038', '7039', '7047', '7048', '7064', '7069', '7079', '7081', '7085', '7091', '7096', '7130', '7132', '7133', '7136', '7143', '7144', '7155', '7181', '7182', '7193', '7197', '7198', '7204', '7210', '7223', '7228', '7238', '7247', '7260', '7262', '7269', '7276', '7282', '7317', '7319', '7328', '7335', '7336', '7339', '7344', '7362', '7367', '7370', '7371', '7373', '7379', '7385', '7406', '7419', '7422', '7424', '7448', '7458', '7463', '7477', '7502', '7507', '7508', '7512', '7518', '7524', '7527', '7534', '7548', '7553', '7559', '7562', '7569', '7575', '7587', '7588', '7596', '7601', '7602', '7603', '7614', '7636', '7641', '7643', '7651', '7653', '7661', '7663', '7674', '7682', '7688', '7693', '7694', '7696', '7700', '7706', '7709', '7712', '7738', '7743', '7751', '7757', '7761', '7765', '7766', '7771', '7773', '7775', '7779', '7788', '7799', '7806', '7807', '7813', '7816', '7817', '7818', '7822', '7828', '7832', '7846', '7849', '7850', '7853', '7855', '7856', '7865', '7868', '7871', '7892', '7895', '7896', '7910', '7913', '7919', '7925', '7940', '7946', '7953', '7966', '7973', '7981', '7987', '7995', '7997', '8009', '8011', '8013', '8020', '8022', '8027', '8032', '8033', '8035', '8040', '8048', '8052', '8071', '8075', '8077', '8105', '8107', '8109', '8117', '8118', '8120', '8121', '8131', '8135', '8137', '8139', '8143', '8145', '8147', '8148', '8150', '8151', '8166', '8168', '8172', '8184', '8185', '8186', '8187', '8198', '8203', '8214', '8215', '8222', '8223', '8233', '8234', '8235', '8237', '8238', '8256', '8257', '8258', '8261', '8272', '8277', '8278', '8285', '8295', '8299', '8307', '8309', '8314', '8318', '8321', '8330', '8347', '8354', '8356', '8359', '8368', '8374', '8376', '8378', '8382', '8392', '8395', '8398', '8403', '8409', '8416', '8424', '8437', '8443', '8453', '8454', '8458', '8462', '8476', '8490', '8491', '8493', '8500', '8504', '8507', '8530', '8535', '8536', '8539', '8554', '8556', '8559', '8562', '8566', '8568', '8574', '8584', '8590', '8597', '8602', '8606', '8615', '8628', '8638', '8639', '8643', '8644', '8649', '8652', '8653', '8654', '8657', '8658', '8659', '8663', '8670', '8677', '8689', '8690', '8696', '8698', '8701', '8702', '8707', '8712', '8716', '8722', '8729', '8742', '8744', '8770', '8773', '8775', '8778', '8783', '8786', '8787', '8806', '8807', '8809', '8810', '8816', '8819', '8820', '8821', '8828', '8829', '8830', '8840', '8848', '8852', '8856', '8859', '8860', '8863', '8864', '8871', '8874', '8876', '8880', '8881', '8884', '8910', '8916', '8929', '8935', '8938', '8945', '8951', '8960', '8962', '8964', '8966', '8969', '8975', '8978', '8979', '8980', '8988', '8989', '8991', '8992', '8996', '9001', '9002', '9007', '9012', '9016', '9026', '9028', '9030', '9034', '9038', '9045', '9046', '9048', '9053', '9071', '9077', '9079', '9089', '9090', '9099', '9100', '9102', '9109', '9111', '9115', '9118', '9124', '9127', '9136', '9144', '9149', '9150', '9152', '9153', '9164', '9165', '9169', '9192', '9201', '9202', '9208', '9216', '9242', '9246', '9249', '9271', '9285', '9298', '9303', '9310', '9312', '9317', '9319', '9320', '9327', '9330', '9336', '9339', '9340', '9342', '9347', '9348', '9354', '9361', '9375', '9378', '9387', '9422', '9423', '9433', '9437', '9438', '9444', '9471', '9484', '9497', '9504', '9510', '9513', '9517', '9523', '9524', '9526', '9537', '9543', '9545', '9548', '9554', '9575', '9580', '9592', '9593', '9598', '9601', '9619', '9629', '9634', '9636', '9638', '9645', '9658', '9661', '9666', '9673', '9674', '9682', '9691', '9702', '9710', '9716', '9726', '9728', '9732', '9752', '9753', '9759', '9762', '9763', '9764', '9767', '9772', '9774', '9787', '9791', '9798', '9799', '9803', '9811', '9816', '9818', '9828', '9834', '9835', '9842', '9848', '9851', '9860', '9864', '9868', '9869', '9884', '9888', '9901', '9904', '9911', '9916', '9929', '9930', '9932', '9934', '9937', '9942', '9945', '9968', '9971', '9974', '9975', '9979', '9982', '9992', '9994', '10009', '10017', '10023', '10026', '10031', '10038', '10058', '10059', '10067', '10068', '10070', '10073', '10074', '10080', '10086', '10089', '10092', '10095', '10108', '10111', '10114', '10116', '10127', '10128', '10134', '10142', '10143', '10155', '10157', '10158', '10159', '10169', '10175', '10177', '10181', '10183', '10188', '10194', '10197', '10199', '10200', '10203', '10206', '10218', '10234', '10243', '10254', '10255', '10256', '10259', '10263', '10265', '10273', '10302', '10304', '10305', '10306', '10316', '10320', '10325', '10329', '10332', '10335', '10340', '10342', '10358', '10362', '10374', '10435', '10436', '10440', '10442', '10445', '10451', '10454', '10459', '10463', '10531', '10539', '10541', '10544', '10552', '10553', '10555', '10557', '10563', '10598', '10599', '10600', '10604', '10608', '10609', '10610', '10614', '10616', '10618', '10619', '10620', '10626', '10630', '10658', '10663', '10673', '10675', '10677', '10678', '10679', '10686', '10689', '10692', '10694', '10704', '10722', '10730', '10736', '10737', '10750', '10755', '10759', '10762', '10767', '10770', '10771', '10773', '10798', '10803', '10818', '10822', '10824', '10829', '10837', '10842', '10844', '10858', '10866', '10871', '10872', '10875', '10893', '10894', '10906', '10912', '10914', '10926', '10932', '10935', '10937', '10938', '10940', '10948', '10953', '10968', '10969', '10980', '10983', '10985', '10995', '10997', '11005', '11012', '11017', '11019', '11023', '11025', '11030', '11032', '11033', '11039', '11040', '11048', '11056', '11059', '11062', '11072', '11078', '11083', '11084', '11086', '11089', '11091', '11094', '11095', '11105', '11107', '11108', '11109', '11115', '11123', '11131', '11137', '11145', '11150', '11154', '11167', '11180', '11183', '11184', '11210', '11212', '11213', '11215', '11239', '11241', '11247', '11250', '11253', '11254', '11259', '11265', '11271', '11274', '11277', '11287', '11289', '11290', '11292', '11305', '11318', '11322', '11324', '11325', '11328', '11336', '11340', '11347', '11363', '11371', '11377', '11378', '11381', '11399', '11419', '11422', '11423', '11432', '11439', '11441', '11443', '11444', '11446', '11458', '11461', '11467', '11478', '11482', '11485', '11487', '11488', '11494', '11496', '11504', '11505', '11507', '11514', '11521', '11524', '11542', '11543', '11546', '11549', '11550', '11552', '11554', '11558', '11560', '11576', '11581', '11591', '11598', '11606', '11608', '11622', '11636', '11638', '11646', '11648', '11657', '11659', '11660', '11663', '11670', '11672', '11673', '11674', '11675', '11684', '11691', '11694', '11706', '11723', '11734', '11741', '11743', '11745', '11747', '11760', '11765', '11766', '11768', '11771', '11774', '11780', '11782', '11783', '11790', '11800', '11802', '11805', '11838', '11845', '11849', '11851', '11853', '11857', '11862', '11872', '11874', '11881', '11884', '11890', '11893', '11895', '11897', '11912', '11913', '11914', '11919', '11920', '11930', '11933', '11944', '11946', '11949', '11959', '11971', '11975', '11980', '11984', '11996', '12005', '12009', '12011', '12015', '12033', '12038', '12042', '12043', '12059', '12061', '12062', '12064', '12065', '12070', '12074', '12080', '12089', '12090', '12092', '12094', '12097', '12103', '12104', '12105', '12119', '12125', '12126', '12140', '12143', '12145', '12146', '12152', '12155', '12157', '12162', '12163', '12166', '12167', '12180', '12181', '12182', '12187', '12193', '12197', '12198', '12204', '12205', '12208', '12212', '12214', '12227', '12230', '12236', '12241', '12243', '12247', '12250', '12259', '12261', '12280', '12284', '12289', '12307', '12308', '12313', '12314', '12320', '12321', '12322', '12325', '12328', '12352', '12356', '12376', '12377', '12387', '12408', '12420', '12430', '12437', '12441', '12443', '12445', '12450', '12452', '12458', '12462', '12463', '12466', '12473', '12477', '12482', '12485', '12486', '12491', '12496', '12503', '12509', '12519', '12525', '12535', '12553', '12554', '12560', '12561', '12598', '12628', '12632', '12633', '12642', '12649', '12652', '12655', '12658', '12670', '12690', '12695', '12705', '12711', '12732', '12740', '12746', '12747', '12756', '12767', '12769', '12772', '12779', '12789', '12796', '12804', '12806', '12830', '12846', '12851', '12859', '12860', '12875', '12893', '12910', '12912', '12928', '12945', '12946', '12950', '12952', '12956', '12961', '12967', '12972', '12973', '12980', '12988', '12991', '12994', '12998', '13003', '13005', '13006', '13038', '13043', '13048', '13050', '13068', '13069', '13072', '13083', '13095', '13109', '13111', '13116', '13121', '13123', '13125', '13130', '13132', '13135', '13137', '13139', '13144', '13150', '13151', '13153', '13156', '13158', '13163', '13188', '13193', '13196', '13205', '13210', '13218', '13239', '13240', '13244', '13247', '13254', '13256', '13259', '13268', '13272', '13274', '13279', '13283', '13284', '13285', '13294', '13302', '13307', '13308', '13321', '13324', '13331', '13349', '13350', '13352', '13355', '13369', '13371', '13384', '13388', '13396', '13400', '13401', '13418', '13427', '13432', '13447', '13479', '13481', '13486', '13490', '13492', '13499', '13503', '13521', '13523', '13524', '13536', '13539', '13547', '13553', '13555', '13564', '13566', '13567', '13571', '13582', '13587', '13590', '13594', '13603', '13605', '13610', '13620', '13624', '13629', '13634', '13651', '13655', '13656', '13663', '13675', '13679', '13682', '13685', '13688', '13711', '13712', '13714', '13715', '13721', '13722', '13723', '13724', '13728', '13740', '13746', '13747', '13748', '13750', '13754', '13760', '13767', '13772', '13773', '13774', '13778', '13782', '13785', '13789', '13796', '13807', '13823', '13826', '13847', '13849', '13863', '13867', '13869', '13870', '13873', '13887', '13895', '13901', '13903', '13907', '13911', '13912', '13920', '13928', '13933', '13943', '13981', '14001', '14030', '14031', '14033', '14035', '14048', '14049', '14053', '14054', '14065', '14067', '14069', '14080', '14081', '14089', '14090', '14096', '14098', '14101', '14105', '14107', '14109', '14136', '14139', '14155', '14158', '14160', '14180', '14187', '14192', '14209', '14212', '14221', '14223', '14279', '14284', '14298', '14307', '14330', '14337', '14343', '14346', '14372', '14397', '14399', '14401', '14410', '14413', '14420', '14426', '14430', '14439', '14461', '14463', '14464', '14467', '14469', '14472', '14475', '14477', '14483', '14489', '14493', '14496', '14516', '14530', '14531', '14533', '14555', '14557', '14562', '14574', '14578', '14592', '14608', '14609', '14610', '14611', '14618', '14620', '14621', '14622', '14624', '14627', '14633', '14636', '14651', '14661', '14704', '14706', '14717', '14721', '14723', '14726', '14740', '14754', '14761', '14772', '14776', '14778', '14779', '14796', '14805', '14810', '14824', '14827', '14832', '14833', '14841', '14842', '14848', '14870', '14873', '14900', '14903', '14908', '14916', '14920', '14943', '14953', '14994', '15006', '15023', '15026', '15048', '15074', '15078', '15080', '15108', '15113', '15114', '15116', '15119', '15122', '15123', '15136', '15153', '15163', '15165', '15166', '15169', '15177', '15190', '15203', '15204', '15207', '15209', '15215', '15220', '15239', '15252', '15264', '15268', '15279', '15283', '15284', '15286', '15304', '15306', '15316', '15321', '15324', '15343', '15346', '15366', '15368', '15386', '15388', '15390', '15391', '15392', '15394', '15396', '15401', '15432', '15441', '15442', '15450', '15467', '15475', '15482', '15504', '15516', '15520', '15525', '15526', '15528', '15551', '15552', '15560', '15590', '15595', '15608', '15617', '15629', '15651', '15655', '15658', '15718', '15719', '15720', '15722', '15724', '15730', '15731', '15739', '15764', '15814', '15817', '15827', '15834', '15839', '15849', '15869', '15876', '15886', '15888', '15889', '15892', '15895', '15897', '15905', '15939', '15943', '15944', '15947', '15950', '15971', '15975', '15978', '15980', '15989', '15992', '15998', '16014', '16017', '16018', '16019', '16047', '16058', '16073', '16079', '16087', '16093', '16115', '16132', '16141', '16159', '16164', '16172', '16187', '16192', '16195', '16198', '16216', '16225', '16227', '16248', '16250', '16270', '16286', '16309', '16315', '16328', '16341', '16348', '16367', '16401', '16410', '16420', '16435', '16438', '16444', '16450', '16451', '16469', '16473', '16475', '16477', '16479', '16487', '16492', '16502', '16505', '16508', '16526', '16533', '16556', '16563', '16571', '16591', '16601', '16603', '16605', '16612', '16616', '16641', '16652', '16661', '16663', '16675', '16682', '16696', '16718', '16721', '16729', '16732', '16733', '16734', '16744', '16747', '16766', '16767', '16777', '16788', '16794', '16800', '16804', '16806', '16813', '16816', '16817', '16819', '16834', '16837', '16855', '16869', '16871', '16872', '16876', '16890', '16900', '16916', '16919', '16920', '16935', '16936', '16939', '16940', '16944', '16945', '16948', '16955', '16959', '16965', '16970', '16972', '16977', '16983', '16988', '16990', '17005', '17010', '17024', '17025', '17027', '17035', '17036', '17046', '17052', '17062', '17065', '17067', '17079', '17092', '17095', '17098', '17104', '17110', '17116', '17126', '17132', '17134', '17145', '17148', '17150', '17171', '17172', '17175', '17180', '17201', '17204', '17207', '17218', '17234', '17235', '17236', '17239', '17240', '17249', '17250', '17267', '17275', '17288', '17290', '17298', '17305', '17328', '17332', '17346', '17354', '17355', '17357', '17365', '17373', '17378', '17386', '17391', '17397', '17415', '17417', '17418', '17425', '17428', '17434', '17439', '17442', '17463', '17464', '17471', '17480', '17500', '17503', '17515', '17516', '17525', '17531', '17536', '17555', '17563', '17565', '17577', '17585', '17586', '17594', '17597', '17614', '17634', '17635', '17637', '17638', '17646', '17648', '17653', '17654', '17663', '17666', '17667', '17673', '17677', '17679', '17681', '17693', '17699', '17706', '17710', '17715', '17728', '17729', '17736', '17738', '17742', '17744', '17745', '17747', '17751', '17752', '17767', '17771', '17773', '17794', '17802', '17810', '17813', '17815', '17830', '17837', '17842', '17845', '17846', '17847', '17850', '17853', '17861', '17870', '17872', '17875', '17879', '17883', '17885', '17890']\n",
        "\n",
        "yr_many_test = ['5', '12', '29', '71', '74', '90', '149', '151', '162', '163', '164', '165', '167', '186', '196', '204', '215', '223', '224', '231', '236', '251', '252', '253', '269', '276', '277', '281', '282', '293', '294', '302', '310', '327', '332', '333', '336', '358', '369', '384', '405', '406', '414', '415', '421', '424', '425', '430', '441', '452', '466', '474', '479', '485', '489', '496', '500', '508', '524', '532', '535', '544', '555', '561', '563', '564', '566', '568', '570', '577', '590', '599', '625', '633', '634', '635', '641', '663', '687', '690', '696', '721', '722', '761', '769', '772', '773', '783', '786', '787', '817', '822', '826', '849', '851', '857', '868', '874', '906', '910', '911', '913', '915', '948', '952', '959', '960', '964', '967', '970', '975', '977', '1002', '1007', '1048', '1066', '1068', '1108', '1149', '1158', '1164', '1181', '1188', '1191', '1192', '1199', '1210', '1233', '1241', '1248', '1253', '1270', '1279', '1296', '1300', '1315', '1320', '1344', '1360', '1370', '1387', '1394', '1416', '1430', '1435', '1450', '1477', '1483', '1486', '1490', '1491', '1494', '1537', '1539', '1542', '1545', '1550', '1551', '1557', '1566', '1573', '1601', '1610', '1635', '1639', '1686', '1698', '1709', '1710', '1714', '1715', '1717', '1735', '1743', '1786', '1802', '1811', '1822', '1824', '1831', '1851', '1860', '1875', '1882', '1890', '1896', '1911', '1918', '1920', '1924', '1927', '1939', '1953', '1957', '1989', '2008', '2011', '2040', '2057', '2062', '2075', '2118', '2127', '2175', '2196', '2198', '2256', '2257', '2271', '2287', '2300', '2310', '2314', '2336', '2343', '2346', '2347', '2383', '2394', '2398', '2406', '2428', '2444', '2445', '2450', '2455', '2456', '2463', '2464', '2465', '2484', '2491', '2494', '2504', '2506', '2507', '2510', '2516', '2521', '2522', '2555', '2563', '2565', '2606', '2607', '2627', '2628', '2629', '2637', '2640', '2649', '2656', '2687', '2695', '2729', '2732', '2749', '2767', '2778', '2790', '2793', '2797', '2799', '2806', '2808', '2826', '2849', '2851', '2870', '2907', '2909', '2998', '3007', '3026', '3042', '3044', '3046', '3066', '3068', '3079', '3084', '3093', '3094', '3134', '3137', '3139', '3143', '3144', '3147', '3155', '3159', '3161', '3162', '3170', '3172', '3178', '3189', '3224', '3234', '3236', '3238', '3257', '3275', '3287', '3289', '3303', '3343', '3359', '3398', '3404', '3412', '3436', '3445', '3456', '3458', '3485', '3487', '3497', '3504', '3509', '3517', '3531', '3533', '3561', '3565', '3571', '3590', '3592', '3608', '3622', '3626', '3635', '3640', '3647', '3648', '3649', '3659', '3681', '3687', '3715', '3721', '3723', '3728', '3730', '3737', '3745', '3750', '3754', '3787', '3799', '3806', '3821', '3824', '3826', '3837', '3849', '3866', '3867', '3872', '3880', '3894', '3896', '3902', '3905', '3911', '3917', '3924', '3941', '3951', '4000', '4009', '4026', '4035', '4039', '4084', '4095', '4103', '4111', '4115', '4123', '4126', '4132', '4156', '4158', '4163', '4165', '4166', '4167', '4185', '4204', '4205', '4209', '4230', '4232', '4243', '4244', '4263', '4283', '4284', '4295', '4310', '4318', '4319', '4323', '4326', '4341', '4358', '4359', '4363', '4365', '4372', '4383', '4384', '4392', '4410', '4414', '4435', '4444', '4453', '4459', '4464', '4485', '4498', '4515', '4521', '4585', '4595', '4606', '4617', '4626', '4646', '4653', '4666', '4687', '4694', '4726', '4742', '4745', '4756', '4763', '4768', '4776', '4810', '4811', '4814', '4816', '4820', '4822', '4823', '4831', '4834', '4858', '4863', '4882', '4883', '4885', '4896', '4902', '4905', '4933', '4936', '4959', '4966', '5008', '5040', '5042', '5044', '5050', '5052', '5065', '5066', '5090', '5117', '5124', '5125', '5130', '5136', '5138', '5153', '5156', '5167', '5181', '5191', '5194', '5195', '5201', '5202', '5205', '5221', '5248', '5257', '5258', '5262', '5272', '5276', '5278', '5287', '5299', '5301', '5302', '5305', '5354', '5366', '5368', '5369', '5383', '5399', '5402', '5412', '5423', '5431', '5456', '5464', '5466', '5472', '5475', '5485', '5510', '5511', '5516', '5520', '5527', '5535', '5549', '5556', '5564', '5574', '5610', '5620', '5639', '5655', '5659', '5669', '5675', '5730', '5731', '5732', '5738', '5755', '5770', '5779', '5805', '5806', '5826', '5828', '5837', '5847', '5857', '5874', '5878', '5879', '5883', '5889', '5921', '5925', '5935', '5939', '5941', '5957', '5961', '5982', '6000', '6006', '6007', '6013', '6017', '6029', '6032', '6058', '6059', '6062', '6067', '6071', '6082', '6083', '6091', '6103', '6107', '6118', '6126', '6129', '6146', '6153', '6154', '6155', '6158', '6160', '6164', '6180', '6181', '6191', '6196', '6201', '6219', '6229', '6233', '6250', '6253', '6265', '6267', '6268', '6269', '6289', '6290', '6308', '6316', '6318', '6319', '6355', '6377', '6378', '6385', '6388', '6402', '6403', '6406', '6408', '6414', '6415', '6433', '6471', '6479', '6499', '6531', '6535', '6539', '6550', '6558', '6576', '6605', '6607', '6609', '6620', '6632', '6635', '6640', '6641', '6648', '6684', '6686', '6729', '6734', '6752', '6763', '6765', '6766', '6776', '6790', '6804', '6819', '6821', '6825', '6826', '6831', '6845', '6854', '6859', '6872', '6887', '6902', '6930', '6931', '6934', '6937', '6941', '6961', '6962', '6974', '6975', '6985', '7003', '7012', '7015', '7034', '7104', '7115', '7118', '7120', '7124', '7129', '7147', '7151', '7169', '7199', '7215', '7217', '7225', '7226', '7229', '7240', '7245', '7251', '7257', '7267', '7270', '7273', '7278', '7293', '7294', '7299', '7307', '7308', '7309', '7316', '7322', '7327', '7334', '7340', '7359', '7366', '7386', '7394', '7397', '7399', '7408', '7410', '7443', '7453', '7455', '7462', '7472', '7475', '7476', '7478', '7484', '7488', '7494', '7516', '7517', '7520', '7525', '7537', '7551', '7555', '7563', '7606', '7608', '7615', '7619', '7625', '7627', '7633', '7635', '7655', '7660', '7672', '7675', '7683', '7697', '7720', '7726', '7742', '7749', '7758', '7760', '7780', '7784', '7794', '7805', '7830', '7833', '7834', '7836', '7860', '7870', '7872', '7881', '7889', '7890', '7914', '7920', '7926', '7927', '7928', '7941', '7949', '7974', '7983', '7986', '7989', '7993', '7996', '7999', '8017', '8026', '8030', '8031', '8043', '8044', '8053', '8059', '8065', '8066', '8070', '8072', '8094', '8112', '8124', '8154', '8169', '8174', '8189', '8201', '8202', '8218', '8219', '8236', '8241', '8254', '8264', '8266', '8276', '8283', '8289', '8301', '8306', '8315', '8346', '8355', '8363', '8364', '8367', '8377', '8384', '8386', '8393', '8414', '8422', '8431', '8441', '8456', '8467', '8470', '8484', '8495', '8520', '8521', '8526', '8534', '8546', '8553', '8569', '8575', '8579', '8594', '8600', '8603', '8608', '8611', '8614', '8635', '8637', '8656', '8664', '8667', '8669', '8671', '8703', '8704', '8749', '8753', '8762', '8763', '8774', '8780', '8788', '8794', '8796', '8805', '8814', '8825', '8833', '8839', '8842', '8854', '8866', '8869', '8886', '8894', '8911', '8925', '8930', '8932', '8936', '8939', '8947', '8949', '8952', '8965', '8974', '8985', '8994', '8998', '9003', '9017', '9018', '9051', '9070', '9085', '9093', '9108', '9125', '9126', '9132', '9134', '9146', '9147', '9159', '9171', '9186', '9193', '9196', '9213', '9219', '9220', '9235', '9240', '9248', '9251', '9257', '9258', '9259', '9261', '9275', '9289', '9318', '9344', '9345', '9351', '9368', '9371', '9372', '9379', '9388', '9410', '9425', '9432', '9448', '9455', '9481', '9483', '9485', '9486', '9518', '9522', '9527', '9541', '9563', '9570', '9572', '9585', '9586', '9614', '9640', '9664', '9670', '9679', '9680', '9699', '9701', '9704', '9715', '9717', '9730', '9731', '9739', '9749', '9755', '9773', '9776', '9788', '9807', '9810', '9820', '9825', '9840', '9850', '9866', '9876', '9895', '9896', '9907', '9912', '9915', '9925', '9944', '9947', '9958', '9966', '9983', '9989', '9998', '9999', '10011', '10016', '10027', '10033', '10036', '10041', '10052', '10053', '10057', '10061', '10065', '10078', '10081', '10083', '10084', '10091', '10101', '10110', '10115', '10119', '10131', '10135', '10136', '10137', '10139', '10148', '10151', '10160', '10161', '10162', '10170', '10179', '10204', '10209', '10233', '10236', '10239', '10251', '10262', '10294', '10345', '10353', '10354', '10380', '10446', '10453', '10500', '10518', '10529', '10533', '10535', '10536', '10543', '10550', '10559', '10566', '10577', '10605', '10611', '10612', '10659', '10688', '10709', '10712', '10747', '10752', '10754', '10756', '10764', '10775', '10791', '10804', '10805', '10806', '10810', '10811', '10823', '10828', '10840', '10846', '10847', '10848', '10859', '10879', '10883', '10896', '10897', '10900', '10907', '10911', '10916', '10920', '10922', '10930', '10941', '10942', '10947', '10949', '10954', '10955', '10960', '10976', '10988', '10992', '10996', '11002', '11008', '11015', '11018', '11058', '11069', '11079', '11088', '11090', '11092', '11104', '11124', '11125', '11142', '11149', '11157', '11164', '11173', '11176', '11178', '11182', '11190', '11192', '11195', '11197', '11205', '11216', '11221', '11224', '11228', '11232', '11233', '11234', '11246', '11256', '11267', '11270', '11272', '11275', '11295', '11320', '11329', '11333', '11335', '11339', '11341', '11372', '11376', '11379', '11389', '11392', '11395', '11406', '11424', '11429', '11431', '11435', '11440', '11445', '11449', '11465', '11472', '11476', '11489', '11493', '11506', '11510', '11513', '11517', '11522', '11525', '11561', '11580', '11596', '11599', '11600', '11602', '11604', '11607', '11610', '11611', '11632', '11641', '11649', '11667', '11678', '11681', '11686', '11690', '11692', '11698', '11699', '11705', '11728', '11729', '11732', '11733', '11753', '11769', '11778', '11797', '11806', '11807', '11808', '11810', '11827', '11828', '11835', '11836', '11840', '11842', '11844', '11846', '11859', '11870', '11871', '11873', '11880', '11882', '11885', '11891', '11894', '11899', '11907', '11915', '11918', '11928', '11936', '11941', '11952', '11956', '11960', '11962', '11964', '11965', '11966', '11967', '11974', '11990', '12012', '12027', '12028', '12035', '12037', '12047', '12051', '12058', '12067', '12102', '12106', '12107', '12111', '12117', '12128', '12130', '12135', '12136', '12137', '12144', '12151', '12153', '12154', '12156', '12169', '12178', '12179', '12191', '12202', '12206', '12221', '12222', '12223', '12232', '12239', '12248', '12252', '12253', '12264', '12265', '12269', '12271', '12274', '12304', '12306', '12315', '12317', '12324', '12326', '12329', '12331', '12333', '12334', '12342', '12343', '12351', '12355', '12359', '12363', '12364', '12366', '12380', '12384', '12402', '12405', '12415', '12416', '12417', '12432', '12435', '12444', '12447', '12453', '12465', '12474', '12475', '12479', '12483', '12488', '12490', '12493', '12494', '12497', '12501', '12506', '12508', '12511', '12515', '12521', '12526', '12528', '12529', '12530', '12531', '12532', '12545', '12559', '12577', '12582', '12594', '12605', '12606', '12620', '12634', '12640', '12643', '12657', '12676', '12687', '12688', '12692', '12703', '12715', '12717', '12721', '12723', '12726', '12737', '12754', '12760', '12763', '12787', '12791', '12793', '12805', '12818', '12836', '12837', '12843', '12848', '12855', '12861', '12889', '12894', '12903', '12904', '12922', '12931', '12938', '12942', '12959', '12981', '12984', '12995', '13000', '13017', '13018', '13023', '13028', '13030', '13045', '13059', '13067', '13076', '13078', '13087', '13103', '13141', '13148', '13162', '13164', '13165', '13169', '13173', '13182', '13189', '13194', '13197', '13200', '13213', '13214', '13230', '13231', '13233', '13236', '13245', '13246', '13252', '13257', '13265', '13271', '13280', '13287', '13292', '13327', '13334', '13341', '13346', '13360', '13361', '13363', '13372', '13377', '13386', '13392', '13402', '13405', '13408', '13410', '13419', '13421', '13440', '13441', '13443', '13449', '13450', '13451', '13477', '13488', '13491', '13542', '13550', '13568', '13577', '13578', '13581', '13625', '13626', '13631', '13637', '13638', '13645', '13648', '13660', '13667', '13699', '13701', '13704', '13705', '13706', '13720', '13741', '13756', '13759', '13786', '13790', '13794', '13811', '13813', '13825', '13828', '13848', '13868', '13871', '13879', '13891', '13893', '13927', '13931', '13941', '13942', '13948', '13951', '13955', '13956', '13961', '13964', '13966', '13967', '13968', '13977', '13978', '14011', '14021', '14046', '14057', '14060', '14061', '14066', '14075', '14082', '14086', '14091', '14097', '14102', '14108', '14114', '14120', '14121', '14127', '14131', '14137', '14143', '14146', '14163', '14171', '14172', '14175', '14176', '14178', '14183', '14184', '14188', '14210', '14228', '14232', '14238', '14244', '14248', '14249', '14253', '14255', '14266', '14270', '14272', '14289', '14295', '14303', '14309', '14313', '14315', '14317', '14318', '14326', '14356', '14357', '14363', '14385', '14393', '14395', '14400', '14402', '14403', '14406', '14409', '14411', '14414', '14416', '14417', '14419', '14433', '14435', '14440', '14441', '14442', '14446', '14449', '14450', '14451', '14452', '14454', '14462', '14465', '14474', '14481', '14484', '14487', '14488', '14492', '14503', '14518', '14519', '14520', '14522', '14524', '14525', '14527', '14541', '14548', '14553', '14558', '14560', '14561', '14564', '14565', '14568', '14569', '14571', '14580', '14593', '14599', '14603', '14604', '14606', '14625', '14626', '14628', '14629', '14630', '14631', '14635', '14637', '14639', '14640', '14644', '14654', '14657', '14666', '14691', '14693', '14694', '14702', '14708', '14709', '14711', '14714', '14719', '14720', '14728', '14729', '14732', '14733', '14736', '14737', '14738', '14739', '14741', '14744', '14745', '14748', '14750', '14751', '14752', '14755', '14756', '14757', '14759', '14762', '14786', '14788', '14793', '14795', '14799', '14800', '14803', '14809', '14811', '14815', '14822', '14823', '14831', '14837', '14839', '14840', '14851', '14864', '14865', '14869', '14879', '14880', '14884', '14885', '14886', '14893', '14895', '14902', '14906', '14909', '14911', '14930', '14934', '14941', '14952', '14954', '14959', '14962', '14963', '14965', '14966', '14969', '14972', '14980', '14988', '14989', '15005', '15008', '15011', '15013', '15014', '15018', '15019', '15025', '15027', '15032', '15033', '15040', '15044', '15051', '15052', '15053', '15057', '15066', '15067', '15069', '15075', '15083', '15084', '15087', '15089', '15090', '15091', '15093', '15101', '15104', '15105', '15111', '15112', '15117', '15120', '15124', '15126', '15159', '15164', '15167', '15170', '15171', '15175', '15176', '15178', '15187', '15189', '15195', '15196', '15224', '15226', '15230', '15233', '15235', '15236', '15244', '15255', '15256', '15267', '15271', '15272', '15275', '15277', '15280', '15285', '15295', '15305', '15325', '15326', '15332', '15336', '15340', '15344', '15354', '15355', '15358', '15359', '15361', '15378', '15383', '15387', '15389', '15399', '15404', '15405', '15406', '15407', '15414', '15415', '15422', '15425', '15426', '15427', '15430', '15436', '15439', '15444', '15446', '15465', '15466', '15483', '15505', '15515', '15517', '15519', '15523', '15527', '15530', '15531', '15533', '15535', '15536', '15541', '15547', '15554', '15555', '15556', '15559', '15562', '15586', '15587', '15592', '15597', '15599', '15601', '15606', '15607', '15611', '15613', '15615', '15622', '15626', '15642', '15650', '15660', '15661', '15665', '15666', '15667', '15672', '15673', '15674', '15680', '15686', '15687', '15689', '15690', '15699', '15702', '15709', '15721', '15723', '15726', '15728', '15733', '15734', '15736', '15737', '15738', '15740', '15741', '15742', '15743', '15744', '15745', '15746', '15749', '15750', '15751', '15752', '15754', '15755', '15756', '15758', '15760', '15763', '15823', '15824', '15830', '15832', '15833', '15842', '15844', '15847', '15850', '15853', '15855', '15856', '15857', '15860', '15861', '15862', '15864', '15866', '15867', '15870', '15872', '15873', '15880', '15890', '15893', '15894', '15900', '15901', '15908', '15940', '15953', '15955', '15960', '15961', '15965', '15969', '15970', '15983', '15986', '15987', '15988', '15990', '15991', '15995', '15997', '16002', '16007', '16038', '16040', '16041', '16044', '16050', '16055', '16056', '16059', '16060', '16066', '16067', '16071', '16072', '16074', '16084', '16088', '16089', '16092', '16102', '16103', '16104', '16124', '16128', '16129', '16134', '16135', '16139', '16149', '16151', '16152', '16153', '16163', '16165', '16166', '16167', '16168', '16171', '16177', '16186', '16190', '16196', '16199', '16203', '16205', '16207', '16209', '16212', '16214', '16215', '16223', '16224', '16226', '16230', '16234', '16235', '16249', '16261', '16266', '16267', '16272', '16273', '16276', '16277', '16284', '16289', '16305', '16320', '16323', '16324', '16326', '16327', '16329', '16332', '16333', '16346', '16352', '16357', '16363', '16379', '16380', '16388', '16389', '16392', '16393', '16394', '16402', '16405', '16408', '16417', '16421', '16436', '16437', '16455', '16467', '16470', '16474', '16483', '16484', '16485', '16491', '16501', '16503', '16506', '16510', '16515', '16520', '16521', '16524', '16530', '16540', '16544', '16545', '16546', '16547', '16548', '16550', '16552', '16559', '16567', '16576', '16577', '16580', '16582', '16583', '16588', '16590', '16592', '16600', '16609', '16611', '16614', '16617', '16622', '16628', '16634', '16635', '16645', '16646', '16650', '16654', '16657', '16673', '16679', '16684', '16689', '16692', '16701', '16703', '16713', '16726', '16728', '16737', '16738', '16742', '16752', '16753', '16763', '16764', '16765', '16774', '16775', '16778', '16779', '16780', '16783', '16785', '16789', '16793', '16795', '16797', '16809', '16815', '16818', '16822', '16823', '16827', '16830', '16839', '16844', '16847', '16848', '16851', '16854', '16856', '16859', '16861', '16863', '16873', '16879', '16880', '16881', '16885', '16889', '16891', '16892', '16899', '16901', '16903', '16908', '16913', '16925', '16928', '16930', '16937', '16941', '16949', '16953', '16960', '16964', '16967', '16968', '16969', '16976', '16978', '16979', '16980', '16984', '16989', '16993', '16994', '16996', '17001', '17007', '17012', '17015', '17018', '17019', '17022', '17023', '17028', '17033', '17041', '17050', '17054', '17056', '17058', '17061', '17064', '17070', '17071', '17072', '17077', '17078', '17080', '17087', '17088', '17089', '17090', '17102', '17107', '17109', '17111', '17112', '17124', '17133', '17139', '17142', '17143', '17146', '17149', '17152', '17154', '17156', '17157', '17161', '17163', '17164', '17170', '17181', '17182', '17183', '17188', '17193', '17195', '17196', '17200', '17202', '17206', '17209', '17212', '17216', '17219', '17220', '17221', '17226', '17227', '17228', '17229', '17253', '17257', '17260', '17261', '17262', '17263', '17272', '17276', '17282', '17283', '17285', '17287', '17293', '17294', '17301', '17309', '17310', '17314', '17315', '17316', '17317', '17319', '17320', '17324', '17325', '17330', '17333', '17334', '17336', '17339', '17341', '17342', '17343', '17345', '17347', '17350', '17352', '17353', '17359', '17363', '17364', '17371', '17372', '17376', '17377', '17380', '17381', '17382', '17383', '17387', '17392', '17394', '17395', '17398', '17405', '17406', '17407', '17410', '17413', '17414', '17419', '17420', '17421', '17422', '17424', '17426', '17431', '17435', '17436', '17440', '17452', '17454', '17458', '17460', '17462', '17466', '17467', '17469', '17472', '17473', '17474', '17477', '17487', '17488', '17498', '17505', '17506', '17508', '17509', '17518', '17521', '17522', '17534', '17539', '17542', '17543', '17545', '17552', '17556', '17557', '17559', '17562', '17567', '17573', '17574', '17575', '17581', '17583', '17584', '17590', '17593', '17595', '17603', '17604', '17605', '17607', '17610', '17611', '17612', '17618', '17619', '17621', '17622', '17623', '17629', '17630', '17636', '17639', '17640', '17641', '17642', '17644', '17650', '17651', '17656', '17661', '17665', '17669', '17670', '17682', '17683', '17684', '17685', '17687', '17688', '17691', '17701', '17702', '17713', '17714', '17718', '17719', '17720', '17722', '17723', '17725', '17733', '17734', '17735', '17740', '17743', '17746', '17749', '17750', '17756', '17758', '17761', '17763', '17765', '17766', '17768', '17769', '17770', '17774', '17780', '17784', '17785', '17787', '17788', '17789', '17790', '17791', '17793', '17796', '17798', '17800', '17801', '17804', '17805', '17806', '17807', '17809', '17819', '17824', '17826', '17827', '17828', '17832', '17835', '17836', '17841', '17854', '17859', '17863', '17864', '17865', '17866', '17868', '17869', '17873', '17882', '17891']\n"
      ],
      "execution_count": 12,
      "outputs": []
    },
    {
      "cell_type": "code",
      "metadata": {
        "id": "mkdFE5PZ1UG8"
      },
      "source": [
        ""
      ],
      "execution_count": 12,
      "outputs": []
    },
    {
      "cell_type": "markdown",
      "metadata": {
        "id": "hAqXeOBG1Un5"
      },
      "source": [
        "## Списки для категорий"
      ]
    },
    {
      "cell_type": "code",
      "metadata": {
        "id": "nrouVwecJG4U"
      },
      "source": [
        "# Разделы ОКВЭД\n",
        "\n",
        "okved_dict = {'Раздел A': ['01', '02', '03'],\n",
        " 'Раздел B': ['05', '06', '07', '08', '09'],\n",
        " 'Раздел C': ['10','11','12','13','14','15','16','17','18','19','20','21','22','23',\n",
        "  '24','25','26','27','28','29','30','31','32','33'],\n",
        " 'Раздел D': ['35'],\n",
        " 'Раздел E': ['36', '37', '38', '39'],\n",
        " 'Раздел F': ['41', '42', '43'],\n",
        " 'Раздел G': ['45', '46', '47'],\n",
        " 'Раздел H': ['49', '50', '51', '52', '53'],\n",
        " 'Раздел I': ['55', '56'],\n",
        " 'Раздел J': ['58', '59', '60', '61', '62', '63'],\n",
        " 'Раздел K': ['64', '65', '66'],\n",
        " 'Раздел L': ['68'],\n",
        " 'Раздел M': ['69', '70', '71', '72', '73', '74', '75'],\n",
        " 'Раздел N': ['77', '78', '79', '80', '81', '82'],\n",
        " 'Раздел O': ['84'],\n",
        " 'Раздел P': ['85'],\n",
        " 'Раздел Q': ['86', '87', '88'],\n",
        " 'Раздел R': ['90', '91', '92', '93'],\n",
        " 'Раздел S': ['94', '95', '96'],\n",
        " 'Раздел T': ['97', '98'],\n",
        " 'Раздел U': ['99']}\n",
        "\n",
        "dict_okved={}\n",
        "for i in okved_dict:\n",
        "  for j in okved_dict[i]:\n",
        "    dict_okved[j] =i\n",
        "\n",
        "# словарь для гражданства\n",
        "dict_country = {'Российская Федерация':'Российская Федерация', 'Таджикистан': \"СНГ\", \n",
        "                'Казахстан': \"СНГ\",'Армения': \"СНГ\", 'Китай': 'Зарубежье', 'Узбекистан': \"СНГ\", 'Украина': \"СНГ\"}"
      ],
      "execution_count": 13,
      "outputs": []
    },
    {
      "cell_type": "code",
      "metadata": {
        "colab": {
          "base_uri": "https://localhost:8080/"
        },
        "id": "kGrw-PnLJHBG",
        "outputId": "c73b55a1-a2c1-4a5a-f2e4-348ac0d041d9"
      },
      "source": [
        "for x in cat_names:\n",
        "    try:\n",
        "        num_names.remove(x)\n",
        "    except ValueError:\n",
        "        pass\n",
        "\n",
        "for x in date_names:\n",
        "    try:\n",
        "        num_names.remove(x)\n",
        "    except ValueError:\n",
        "        pass\n",
        "\n",
        "len(num_names)"
      ],
      "execution_count": 14,
      "outputs": [
        {
          "output_type": "execute_result",
          "data": {
            "text/plain": [
              "103"
            ]
          },
          "metadata": {},
          "execution_count": 14
        }
      ]
    },
    {
      "cell_type": "markdown",
      "metadata": {
        "id": "OSWxbB85LmjK"
      },
      "source": [
        "# Подготовка выборок и новые признаки"
      ]
    },
    {
      "cell_type": "code",
      "metadata": {
        "id": "-XtwVtDlwi9Z"
      },
      "source": [
        "# список для минмакс\n",
        "\n",
        "list_for_minmax = ['F1100','F1110', 'F1150', 'F1160', 'F1170', 'F1180', 'F1190', 'F1200', 'F1210', 'F1220', 'F1230', 'F1240', 'F1250', 'F1260', 'F1300', 'F1310', 'F1320', 'F1350',\n",
        " 'F1360', 'F1370', 'F1400', 'F1410', 'F1420', 'F1450', 'F1500', 'F1510', 'F1520', 'F1530', 'F1550', 'F1600', 'F1700', 'F2100', 'F2110', 'F2120', 'F2200', 'F2210', 'F2220', 'F2300', 'F2310', 'F2320', 'F2330', 'F2340', 'F2350', 'F2400', 'F2410', 'F1150_LAG1', 'F1230_LAG1',\n",
        " 'F1410_LAG1', 'F1510_LAG1', 'F1520_LAG1', 'F2110_LAG1', 'F2120_LAG1', 'F2200_LAG1', 'F2210_LAG1', 'F2220_LAG1', 'F2300_LAG1', 'F2320_LAG1', 'F2330_LAG1', 'F2400_LAG1', 'PLAINTIFF_CASESNUMBER_YEAR', 'PLAINTIFF_SUM_YEAR', 'DEFENDANT_CASESNUMBER_YEAR', 'DEFENDANT_SUM_YEAR',\n",
        " 'THIRDOROTHERPERSON_YEAR', 'PLAINTIFF_CASESNUMBER_EVER', 'PLAINTIFF_SUM_EVER', 'DEFENDANT_CASESNUMBER_EVER', 'DEFENDANT_SUM_EVER', 'THIRDOROTHERPERSON_EVER',\n",
        " 'ADMITTEDNUMBER_233_YEAR', 'NOTADMITTEDNUMBER_233_YEAR', 'WINNERNUMBER_233_YEAR', 'SIGNEDNUMBER_233_YEAR',\n",
        " 'SUM_233_YEAR', 'ADMITTEDNUMBER_233_EVER', 'NOTADMITTEDNUMBER_233_EVER', 'WINNERNUMBER_233_EVER',\n",
        " 'SIGNEDNUMBER_233_EVER', 'SUM_233_EVER', 'ADMITTEDNUMBER_95_YEAR', 'NOTADMITTEDNUMBER_95_YEAR',\n",
        " 'WINNERNUMBER_95_YEAR', 'SIGNEDNUMBER_95_YEAR', 'SUM_95_YEAR', 'ADMITTEDNUMBER_95_EVER',\n",
        " 'NOTADMITTEDNUMBER_EVER', 'WINNERNUMBER_95_EVER', 'SIGNEDNUMBER_95_EVER', 'SUM_95_EVER',]"
      ],
      "execution_count": 15,
      "outputs": []
    },
    {
      "cell_type": "code",
      "metadata": {
        "id": "x_OXGNNLnUX3"
      },
      "source": [
        "data_all = pd.concat([data_train, data_test], ignore_index=True)\n",
        "\n",
        "data_all['SIGN_DATE'] = data_all['SIGN_DATE'].str[:9]\n",
        "data_all['SIGN_DATE'] = pd.to_datetime(data_all['SIGN_DATE'])\n",
        "data_all['DATEFIRSTREG'] = pd.to_datetime(data_all['DATEFIRSTREG'].str[:9])\n",
        "data_all['TAXREG_REGDATE'] = pd.to_datetime(data_all['TAXREG_REGDATE'].str[:9])\n",
        "data_all['TAXREGPAY_REGDATE'] = pd.to_datetime(data_all['TAXREGPAY_REGDATE'].str[:9])\n",
        "\n",
        "# объединим окато_фед и окато_регион\n",
        "data_all.OKATO_FED = data_all.OKATO_FED.astype(str)\n",
        "data_all.OKATO_REGIONCODE = data_all.OKATO_REGIONCODE.astype(str)\n",
        "data_all['OKATO_FED_REGIONCODE'] = data_all.OKATO_FED + '_' + data_all.OKATO_REGIONCODE\n",
        "\n",
        "cat_names.append('OKATO_FED_REGIONCODE')\n",
        "cat_names.remove('OKATO_FED')\n",
        "cat_names.remove('OKATO_REGIONCODE')\n",
        "data_all = data_all.drop(['OKATO_FED','OKATO_REGIONCODE'], axis=1)\n",
        "\n",
        "# количество контрактов клиента\n",
        "data_all['count'] = data_all.groupby('id_client')['id_client'].transform('count')\n",
        "\n",
        "# ОКВЭД группа\n",
        "data_all['OKVED_CODE_1']= data_all.OKVED_CODE.str[:2]\n",
        "\n",
        "# количество контрактов клиента по оквэд\n",
        "data_all['count_okved'] = data_all.groupby(['id_client', 'OKVED_CODE_1'])['OKVED_CODE_1'].transform('count')\n",
        "\n"
      ],
      "execution_count": 16,
      "outputs": []
    },
    {
      "cell_type": "code",
      "metadata": {
        "id": "nhdUxUsZ3k5o"
      },
      "source": [
        "# минмакс\n",
        "scaler = MinMaxScaler()\n",
        "data_all[list_for_minmax] = scaler.fit_transform(data_all[list_for_minmax])\n"
      ],
      "execution_count": 17,
      "outputs": []
    },
    {
      "cell_type": "code",
      "metadata": {
        "colab": {
          "base_uri": "https://localhost:8080/"
        },
        "id": "lZOcZ-ko3pFz",
        "outputId": "22ecc660-442b-4ee2-846f-9c6f853c2962"
      },
      "source": [
        "# разделим на трейн тест\n",
        "data_train = data_all[data_all['id_contract']<data_test['id_contract'].min()]\n",
        "data_test = data_all[data_all['id_contract']>data_train['id_contract'].max()]\n",
        "\n",
        "# количество контрактов только для трейна\n",
        "data_train['count'] = data_train.groupby('id_client')['id_client'].transform('count')\n",
        "\n",
        "\n",
        "# количество контрактов клиентов для оквэд только для трейна\n",
        "data_train['count_okved'] = data_train.groupby(['id_client', 'OKVED_CODE_1'])['OKVED_CODE_1'].transform('count')\n",
        "\n",
        "\n",
        "data_test = data_test.drop('TARGET', axis=1)\n",
        "cat_names.append('OKVED_CODE_1')\n",
        "data_train.shape, data_test.shape"
      ],
      "execution_count": 18,
      "outputs": [
        {
          "output_type": "stream",
          "name": "stderr",
          "text": [
            "/usr/local/lib/python3.7/dist-packages/ipykernel_launcher.py:6: SettingWithCopyWarning: \n",
            "A value is trying to be set on a copy of a slice from a DataFrame.\n",
            "Try using .loc[row_indexer,col_indexer] = value instead\n",
            "\n",
            "See the caveats in the documentation: https://pandas.pydata.org/pandas-docs/stable/user_guide/indexing.html#returning-a-view-versus-a-copy\n",
            "  \n",
            "/usr/local/lib/python3.7/dist-packages/ipykernel_launcher.py:10: SettingWithCopyWarning: \n",
            "A value is trying to be set on a copy of a slice from a DataFrame.\n",
            "Try using .loc[row_indexer,col_indexer] = value instead\n",
            "\n",
            "See the caveats in the documentation: https://pandas.pydata.org/pandas-docs/stable/user_guide/indexing.html#returning-a-view-versus-a-copy\n",
            "  # Remove the CWD from sys.path while we load stuff.\n"
          ]
        },
        {
          "output_type": "execute_result",
          "data": {
            "text/plain": [
              "((17891, 126), (7330, 125))"
            ]
          },
          "metadata": {},
          "execution_count": 18
        }
      ]
    },
    {
      "cell_type": "code",
      "metadata": {
        "colab": {
          "base_uri": "https://localhost:8080/"
        },
        "id": "VARNuYrZLEOI",
        "outputId": "fdee8afd-5b53-40a9-a20b-299f5973bb2c"
      },
      "source": [
        "# разобьем выборки для ИП и ЮЛ\n",
        "test_ip = data_test[data_test['IP_flag']==1]\n",
        "test_yr = data_test[data_test['IP_flag']==0]\n",
        "\n",
        "train_ip = data_train[data_train['IP_flag']==1]\n",
        "train_yr = data_train[data_train['IP_flag']==0]\n",
        "train_ip.shape,test_ip.shape, train_yr.shape, test_yr.shape"
      ],
      "execution_count": 19,
      "outputs": [
        {
          "output_type": "execute_result",
          "data": {
            "text/plain": [
              "((2829, 126), (1701, 125), (15062, 126), (5629, 125))"
            ]
          },
          "metadata": {},
          "execution_count": 19
        }
      ]
    },
    {
      "cell_type": "code",
      "metadata": {
        "colab": {
          "base_uri": "https://localhost:8080/"
        },
        "id": "5ocF0lmVUsmZ",
        "outputId": "7821b0bb-3599-4e76-ccde-faba0b06bfcd"
      },
      "source": [
        "# признак описывает количество пропущенных значений признаков для клиента\n",
        "train_yr['polnota'] = train_yr.isna().sum(axis=1)\n",
        "test_yr['polnota'] = test_yr.isna().sum(axis=1)\n",
        "\n",
        "train_ip['polnota'] = train_ip.isna().sum(axis=1)\n",
        "test_ip['polnota'] = test_ip.isna().sum(axis=1)"
      ],
      "execution_count": 20,
      "outputs": [
        {
          "output_type": "stream",
          "name": "stderr",
          "text": [
            "/usr/local/lib/python3.7/dist-packages/ipykernel_launcher.py:2: SettingWithCopyWarning: \n",
            "A value is trying to be set on a copy of a slice from a DataFrame.\n",
            "Try using .loc[row_indexer,col_indexer] = value instead\n",
            "\n",
            "See the caveats in the documentation: https://pandas.pydata.org/pandas-docs/stable/user_guide/indexing.html#returning-a-view-versus-a-copy\n",
            "  \n",
            "/usr/local/lib/python3.7/dist-packages/ipykernel_launcher.py:3: SettingWithCopyWarning: \n",
            "A value is trying to be set on a copy of a slice from a DataFrame.\n",
            "Try using .loc[row_indexer,col_indexer] = value instead\n",
            "\n",
            "See the caveats in the documentation: https://pandas.pydata.org/pandas-docs/stable/user_guide/indexing.html#returning-a-view-versus-a-copy\n",
            "  This is separate from the ipykernel package so we can avoid doing imports until\n",
            "/usr/local/lib/python3.7/dist-packages/ipykernel_launcher.py:5: SettingWithCopyWarning: \n",
            "A value is trying to be set on a copy of a slice from a DataFrame.\n",
            "Try using .loc[row_indexer,col_indexer] = value instead\n",
            "\n",
            "See the caveats in the documentation: https://pandas.pydata.org/pandas-docs/stable/user_guide/indexing.html#returning-a-view-versus-a-copy\n",
            "  \"\"\"\n",
            "/usr/local/lib/python3.7/dist-packages/ipykernel_launcher.py:6: SettingWithCopyWarning: \n",
            "A value is trying to be set on a copy of a slice from a DataFrame.\n",
            "Try using .loc[row_indexer,col_indexer] = value instead\n",
            "\n",
            "See the caveats in the documentation: https://pandas.pydata.org/pandas-docs/stable/user_guide/indexing.html#returning-a-view-versus-a-copy\n",
            "  \n"
          ]
        }
      ]
    },
    {
      "cell_type": "code",
      "metadata": {
        "colab": {
          "base_uri": "https://localhost:8080/"
        },
        "id": "Qgh05tkbLETS",
        "outputId": "a0036032-f660-45cc-bbb0-865ae72f7527"
      },
      "source": [
        "# заполним важные признаки нулями\n",
        "\n",
        "for col in IP_list_to_fill_zero:\n",
        "  train_ip[col]=train_ip[col].fillna(0)\n",
        "  test_ip[col]=test_ip[col].fillna(0)"
      ],
      "execution_count": 21,
      "outputs": [
        {
          "output_type": "stream",
          "name": "stderr",
          "text": [
            "/usr/local/lib/python3.7/dist-packages/ipykernel_launcher.py:4: SettingWithCopyWarning: \n",
            "A value is trying to be set on a copy of a slice from a DataFrame.\n",
            "Try using .loc[row_indexer,col_indexer] = value instead\n",
            "\n",
            "See the caveats in the documentation: https://pandas.pydata.org/pandas-docs/stable/user_guide/indexing.html#returning-a-view-versus-a-copy\n",
            "  after removing the cwd from sys.path.\n",
            "/usr/local/lib/python3.7/dist-packages/ipykernel_launcher.py:5: SettingWithCopyWarning: \n",
            "A value is trying to be set on a copy of a slice from a DataFrame.\n",
            "Try using .loc[row_indexer,col_indexer] = value instead\n",
            "\n",
            "See the caveats in the documentation: https://pandas.pydata.org/pandas-docs/stable/user_guide/indexing.html#returning-a-view-versus-a-copy\n",
            "  \"\"\"\n"
          ]
        }
      ]
    },
    {
      "cell_type": "markdown",
      "metadata": {
        "id": "mjRSCYAp5KQz"
      },
      "source": [
        "## Финансовые показатели для юридических лиц"
      ]
    },
    {
      "cell_type": "code",
      "metadata": {
        "colab": {
          "base_uri": "https://localhost:8080/"
        },
        "id": "WWifh9CX7p0g",
        "outputId": "d88f4343-fc5d-4855-c916-d369618714df"
      },
      "source": [
        "# ликвидность\n",
        "\n",
        "train_yr['current_liquidity'] = train_yr['F1200']/train_yr['F1500']\n",
        "train_yr['fast_liquidity'] = (train_yr['F1230']+train_yr['F1240']+train_yr['F1250'])/(train_yr['F1510'] + train_yr['F1520'] + train_yr['F1550'])\n",
        "train_yr['absolute_liquidity'] = (train_yr['F1240']+train_yr['F1250'])/(train_yr['F1510'] + train_yr['F1520'] + train_yr['F1550'])\n",
        "train_yr['profitability_of_working_capital'] = train_yr['F2400']/train_yr['F1200']\n",
        "train_yr['gross_profit_margin'] = 100*train_yr['F2100']/train_yr['F2110']\n",
        "train_yr['operating_profit_margin'] = 100*(train_yr['F2300'] + train_yr['F2330'])/train_yr['F2110']\n",
        "train_yr['net_profit_margin'] = 100*train_yr['F2400']/train_yr['F2110']\n",
        "train_yr['return_on_assets'] = 100*(train_yr['F2200'] + train_yr['F2400'])/train_yr['F1600']\n",
        "train_yr['return_on_current_assets'] = 100*(train_yr['F2200'] + train_yr['F2400'])/train_yr['F1200']\n",
        "train_yr['return_on_noncurrent_assets'] = 100*(train_yr['F2200'] + train_yr['F2400'])/train_yr['F1100']\n",
        "train_yr['return_on_equity'] = 100*(train_yr['F2400'])/train_yr['F1300']\n",
        "\n",
        "# тест\n",
        "\n",
        "test_yr['current_liquidity'] = test_yr['F1200']/test_yr['F1500']\n",
        "test_yr['fast_liquidity'] = (test_yr['F1230']+test_yr['F1240']+test_yr['F1250'])/(test_yr['F1510'] + test_yr['F1520'] + test_yr['F1550'])\n",
        "test_yr['absolute_liquidity'] = (test_yr['F1240']+test_yr['F1250'])/(test_yr['F1510'] + test_yr['F1520'] + test_yr['F1550'])\n",
        "test_yr['profitability_of_working_capital'] = test_yr['F2400']/test_yr['F1200']\n",
        "test_yr['gross_profit_margin'] = 100*test_yr['F2100']/test_yr['F2110']\n",
        "test_yr['operating_profit_margin'] = 100*(test_yr['F2300'] + test_yr['F2330'])/test_yr['F2110']\n",
        "test_yr['net_profit_margin'] = 100*test_yr['F2400']/test_yr['F2110']\n",
        "test_yr['return_on_assets'] = 100*(test_yr['F2200'] + test_yr['F2400'])/test_yr['F1600']\n",
        "test_yr['return_on_current_assets'] = 100*(test_yr['F2200'] + test_yr['F2400'])/test_yr['F1200']\n",
        "test_yr['return_on_noncurrent_assets'] = 100*(test_yr['F2200'] + test_yr['F2400'])/test_yr['F1100']\n",
        "test_yr['return_on_equity'] = 100*(test_yr['F2400'])/test_yr['F1300']\n",
        "\n",
        "train_yr = train_yr.replace(np.inf, 0)\n",
        "test_yr = test_yr.replace(np.inf, 0)"
      ],
      "execution_count": 22,
      "outputs": [
        {
          "output_type": "stream",
          "name": "stderr",
          "text": [
            "/usr/local/lib/python3.7/dist-packages/ipykernel_launcher.py:3: SettingWithCopyWarning: \n",
            "A value is trying to be set on a copy of a slice from a DataFrame.\n",
            "Try using .loc[row_indexer,col_indexer] = value instead\n",
            "\n",
            "See the caveats in the documentation: https://pandas.pydata.org/pandas-docs/stable/user_guide/indexing.html#returning-a-view-versus-a-copy\n",
            "  This is separate from the ipykernel package so we can avoid doing imports until\n",
            "/usr/local/lib/python3.7/dist-packages/ipykernel_launcher.py:4: SettingWithCopyWarning: \n",
            "A value is trying to be set on a copy of a slice from a DataFrame.\n",
            "Try using .loc[row_indexer,col_indexer] = value instead\n",
            "\n",
            "See the caveats in the documentation: https://pandas.pydata.org/pandas-docs/stable/user_guide/indexing.html#returning-a-view-versus-a-copy\n",
            "  after removing the cwd from sys.path.\n",
            "/usr/local/lib/python3.7/dist-packages/ipykernel_launcher.py:5: SettingWithCopyWarning: \n",
            "A value is trying to be set on a copy of a slice from a DataFrame.\n",
            "Try using .loc[row_indexer,col_indexer] = value instead\n",
            "\n",
            "See the caveats in the documentation: https://pandas.pydata.org/pandas-docs/stable/user_guide/indexing.html#returning-a-view-versus-a-copy\n",
            "  \"\"\"\n",
            "/usr/local/lib/python3.7/dist-packages/ipykernel_launcher.py:6: SettingWithCopyWarning: \n",
            "A value is trying to be set on a copy of a slice from a DataFrame.\n",
            "Try using .loc[row_indexer,col_indexer] = value instead\n",
            "\n",
            "See the caveats in the documentation: https://pandas.pydata.org/pandas-docs/stable/user_guide/indexing.html#returning-a-view-versus-a-copy\n",
            "  \n",
            "/usr/local/lib/python3.7/dist-packages/ipykernel_launcher.py:7: SettingWithCopyWarning: \n",
            "A value is trying to be set on a copy of a slice from a DataFrame.\n",
            "Try using .loc[row_indexer,col_indexer] = value instead\n",
            "\n",
            "See the caveats in the documentation: https://pandas.pydata.org/pandas-docs/stable/user_guide/indexing.html#returning-a-view-versus-a-copy\n",
            "  import sys\n",
            "/usr/local/lib/python3.7/dist-packages/ipykernel_launcher.py:8: SettingWithCopyWarning: \n",
            "A value is trying to be set on a copy of a slice from a DataFrame.\n",
            "Try using .loc[row_indexer,col_indexer] = value instead\n",
            "\n",
            "See the caveats in the documentation: https://pandas.pydata.org/pandas-docs/stable/user_guide/indexing.html#returning-a-view-versus-a-copy\n",
            "  \n",
            "/usr/local/lib/python3.7/dist-packages/ipykernel_launcher.py:9: SettingWithCopyWarning: \n",
            "A value is trying to be set on a copy of a slice from a DataFrame.\n",
            "Try using .loc[row_indexer,col_indexer] = value instead\n",
            "\n",
            "See the caveats in the documentation: https://pandas.pydata.org/pandas-docs/stable/user_guide/indexing.html#returning-a-view-versus-a-copy\n",
            "  if __name__ == '__main__':\n",
            "/usr/local/lib/python3.7/dist-packages/ipykernel_launcher.py:10: SettingWithCopyWarning: \n",
            "A value is trying to be set on a copy of a slice from a DataFrame.\n",
            "Try using .loc[row_indexer,col_indexer] = value instead\n",
            "\n",
            "See the caveats in the documentation: https://pandas.pydata.org/pandas-docs/stable/user_guide/indexing.html#returning-a-view-versus-a-copy\n",
            "  # Remove the CWD from sys.path while we load stuff.\n",
            "/usr/local/lib/python3.7/dist-packages/ipykernel_launcher.py:11: SettingWithCopyWarning: \n",
            "A value is trying to be set on a copy of a slice from a DataFrame.\n",
            "Try using .loc[row_indexer,col_indexer] = value instead\n",
            "\n",
            "See the caveats in the documentation: https://pandas.pydata.org/pandas-docs/stable/user_guide/indexing.html#returning-a-view-versus-a-copy\n",
            "  # This is added back by InteractiveShellApp.init_path()\n",
            "/usr/local/lib/python3.7/dist-packages/ipykernel_launcher.py:12: SettingWithCopyWarning: \n",
            "A value is trying to be set on a copy of a slice from a DataFrame.\n",
            "Try using .loc[row_indexer,col_indexer] = value instead\n",
            "\n",
            "See the caveats in the documentation: https://pandas.pydata.org/pandas-docs/stable/user_guide/indexing.html#returning-a-view-versus-a-copy\n",
            "  if sys.path[0] == '':\n",
            "/usr/local/lib/python3.7/dist-packages/ipykernel_launcher.py:13: SettingWithCopyWarning: \n",
            "A value is trying to be set on a copy of a slice from a DataFrame.\n",
            "Try using .loc[row_indexer,col_indexer] = value instead\n",
            "\n",
            "See the caveats in the documentation: https://pandas.pydata.org/pandas-docs/stable/user_guide/indexing.html#returning-a-view-versus-a-copy\n",
            "  del sys.path[0]\n",
            "/usr/local/lib/python3.7/dist-packages/ipykernel_launcher.py:17: SettingWithCopyWarning: \n",
            "A value is trying to be set on a copy of a slice from a DataFrame.\n",
            "Try using .loc[row_indexer,col_indexer] = value instead\n",
            "\n",
            "See the caveats in the documentation: https://pandas.pydata.org/pandas-docs/stable/user_guide/indexing.html#returning-a-view-versus-a-copy\n",
            "/usr/local/lib/python3.7/dist-packages/ipykernel_launcher.py:18: SettingWithCopyWarning: \n",
            "A value is trying to be set on a copy of a slice from a DataFrame.\n",
            "Try using .loc[row_indexer,col_indexer] = value instead\n",
            "\n",
            "See the caveats in the documentation: https://pandas.pydata.org/pandas-docs/stable/user_guide/indexing.html#returning-a-view-versus-a-copy\n",
            "/usr/local/lib/python3.7/dist-packages/ipykernel_launcher.py:19: SettingWithCopyWarning: \n",
            "A value is trying to be set on a copy of a slice from a DataFrame.\n",
            "Try using .loc[row_indexer,col_indexer] = value instead\n",
            "\n",
            "See the caveats in the documentation: https://pandas.pydata.org/pandas-docs/stable/user_guide/indexing.html#returning-a-view-versus-a-copy\n",
            "/usr/local/lib/python3.7/dist-packages/ipykernel_launcher.py:20: SettingWithCopyWarning: \n",
            "A value is trying to be set on a copy of a slice from a DataFrame.\n",
            "Try using .loc[row_indexer,col_indexer] = value instead\n",
            "\n",
            "See the caveats in the documentation: https://pandas.pydata.org/pandas-docs/stable/user_guide/indexing.html#returning-a-view-versus-a-copy\n",
            "/usr/local/lib/python3.7/dist-packages/ipykernel_launcher.py:21: SettingWithCopyWarning: \n",
            "A value is trying to be set on a copy of a slice from a DataFrame.\n",
            "Try using .loc[row_indexer,col_indexer] = value instead\n",
            "\n",
            "See the caveats in the documentation: https://pandas.pydata.org/pandas-docs/stable/user_guide/indexing.html#returning-a-view-versus-a-copy\n",
            "/usr/local/lib/python3.7/dist-packages/ipykernel_launcher.py:22: SettingWithCopyWarning: \n",
            "A value is trying to be set on a copy of a slice from a DataFrame.\n",
            "Try using .loc[row_indexer,col_indexer] = value instead\n",
            "\n",
            "See the caveats in the documentation: https://pandas.pydata.org/pandas-docs/stable/user_guide/indexing.html#returning-a-view-versus-a-copy\n",
            "/usr/local/lib/python3.7/dist-packages/ipykernel_launcher.py:23: SettingWithCopyWarning: \n",
            "A value is trying to be set on a copy of a slice from a DataFrame.\n",
            "Try using .loc[row_indexer,col_indexer] = value instead\n",
            "\n",
            "See the caveats in the documentation: https://pandas.pydata.org/pandas-docs/stable/user_guide/indexing.html#returning-a-view-versus-a-copy\n",
            "/usr/local/lib/python3.7/dist-packages/ipykernel_launcher.py:24: SettingWithCopyWarning: \n",
            "A value is trying to be set on a copy of a slice from a DataFrame.\n",
            "Try using .loc[row_indexer,col_indexer] = value instead\n",
            "\n",
            "See the caveats in the documentation: https://pandas.pydata.org/pandas-docs/stable/user_guide/indexing.html#returning-a-view-versus-a-copy\n",
            "/usr/local/lib/python3.7/dist-packages/ipykernel_launcher.py:25: SettingWithCopyWarning: \n",
            "A value is trying to be set on a copy of a slice from a DataFrame.\n",
            "Try using .loc[row_indexer,col_indexer] = value instead\n",
            "\n",
            "See the caveats in the documentation: https://pandas.pydata.org/pandas-docs/stable/user_guide/indexing.html#returning-a-view-versus-a-copy\n",
            "/usr/local/lib/python3.7/dist-packages/ipykernel_launcher.py:26: SettingWithCopyWarning: \n",
            "A value is trying to be set on a copy of a slice from a DataFrame.\n",
            "Try using .loc[row_indexer,col_indexer] = value instead\n",
            "\n",
            "See the caveats in the documentation: https://pandas.pydata.org/pandas-docs/stable/user_guide/indexing.html#returning-a-view-versus-a-copy\n",
            "/usr/local/lib/python3.7/dist-packages/ipykernel_launcher.py:27: SettingWithCopyWarning: \n",
            "A value is trying to be set on a copy of a slice from a DataFrame.\n",
            "Try using .loc[row_indexer,col_indexer] = value instead\n",
            "\n",
            "See the caveats in the documentation: https://pandas.pydata.org/pandas-docs/stable/user_guide/indexing.html#returning-a-view-versus-a-copy\n"
          ]
        }
      ]
    },
    {
      "cell_type": "code",
      "metadata": {
        "colab": {
          "base_uri": "https://localhost:8080/"
        },
        "id": "MLqPQx6f6fVG",
        "outputId": "d4763fd4-a9a8-4aab-d62a-c9896b4c7a9d"
      },
      "source": [
        "# приведем ОКВЭД к еще более крупным группам\n",
        "\n",
        "train_ip['OKVED_CODE_2'] = train_ip['OKVED_CODE_1'].map(dict_okved)\n",
        "test_ip['OKVED_CODE_2'] = test_ip['OKVED_CODE_1'].map(dict_okved)\n",
        "\n",
        "train_yr['OKVED_CODE_2'] = train_yr['OKVED_CODE_1'].map(dict_okved)\n",
        "test_yr['OKVED_CODE_2'] = test_yr['OKVED_CODE_1'].map(dict_okved)\n",
        "\n",
        "cat_names.append('OKVED_CODE_2')"
      ],
      "execution_count": 23,
      "outputs": [
        {
          "output_type": "stream",
          "name": "stderr",
          "text": [
            "/usr/local/lib/python3.7/dist-packages/ipykernel_launcher.py:3: SettingWithCopyWarning: \n",
            "A value is trying to be set on a copy of a slice from a DataFrame.\n",
            "Try using .loc[row_indexer,col_indexer] = value instead\n",
            "\n",
            "See the caveats in the documentation: https://pandas.pydata.org/pandas-docs/stable/user_guide/indexing.html#returning-a-view-versus-a-copy\n",
            "  This is separate from the ipykernel package so we can avoid doing imports until\n",
            "/usr/local/lib/python3.7/dist-packages/ipykernel_launcher.py:4: SettingWithCopyWarning: \n",
            "A value is trying to be set on a copy of a slice from a DataFrame.\n",
            "Try using .loc[row_indexer,col_indexer] = value instead\n",
            "\n",
            "See the caveats in the documentation: https://pandas.pydata.org/pandas-docs/stable/user_guide/indexing.html#returning-a-view-versus-a-copy\n",
            "  after removing the cwd from sys.path.\n"
          ]
        }
      ]
    },
    {
      "cell_type": "code",
      "metadata": {
        "colab": {
          "base_uri": "https://localhost:8080/"
        },
        "id": "E1TmBpTc6hOh",
        "outputId": "00100a51-54f4-4095-80f3-f8fefa002cef"
      },
      "source": [
        "# # # заменим гражданство\n",
        "train_ip['CITIZENSHIP_NAME'] = train_ip['CITIZENSHIP_NAME'].map(dict_country)\n",
        "test_ip['CITIZENSHIP_NAME'] = test_ip['CITIZENSHIP_NAME'].map(dict_country)"
      ],
      "execution_count": 24,
      "outputs": [
        {
          "output_type": "stream",
          "name": "stderr",
          "text": [
            "/usr/local/lib/python3.7/dist-packages/ipykernel_launcher.py:2: SettingWithCopyWarning: \n",
            "A value is trying to be set on a copy of a slice from a DataFrame.\n",
            "Try using .loc[row_indexer,col_indexer] = value instead\n",
            "\n",
            "See the caveats in the documentation: https://pandas.pydata.org/pandas-docs/stable/user_guide/indexing.html#returning-a-view-versus-a-copy\n",
            "  \n",
            "/usr/local/lib/python3.7/dist-packages/ipykernel_launcher.py:3: SettingWithCopyWarning: \n",
            "A value is trying to be set on a copy of a slice from a DataFrame.\n",
            "Try using .loc[row_indexer,col_indexer] = value instead\n",
            "\n",
            "See the caveats in the documentation: https://pandas.pydata.org/pandas-docs/stable/user_guide/indexing.html#returning-a-view-versus-a-copy\n",
            "  This is separate from the ipykernel package so we can avoid doing imports until\n"
          ]
        }
      ]
    },
    {
      "cell_type": "code",
      "metadata": {
        "id": "2JHix2Cw6oQT"
      },
      "source": [
        "# удалим даты (НАДО подумать)\n",
        "train_ip = train_ip.drop(date_names, axis = 1)\n",
        "test_ip = test_ip.drop(date_names, axis = 1)\n",
        "\n",
        "train_yr = train_yr.drop(date_names, axis = 1)\n",
        "test_yr = test_yr.drop(date_names, axis = 1)"
      ],
      "execution_count": 25,
      "outputs": []
    },
    {
      "cell_type": "markdown",
      "metadata": {
        "id": "0kYa6WxlPM12"
      },
      "source": [
        "## Анализ количества пропусков"
      ]
    },
    {
      "cell_type": "code",
      "metadata": {
        "colab": {
          "base_uri": "https://localhost:8080/"
        },
        "id": "Pjbhus5zLErD",
        "outputId": "4aae48f0-c8a9-4426-eea0-4cbfeb923571"
      },
      "source": [
        "#проверим кол-во пропусков\n",
        "nan_list_ip = []\n",
        "for col in test_ip.columns:\n",
        "    if (100*train_ip[col].isna().sum()/train_ip.shape[0])>60:\n",
        "        nan_list_ip.append(col)\n",
        "    print(col,'-','TRAIN - ', 100*train_ip[col].isna().sum()/train_ip.shape[0], '%','TEST - ', 100*test_ip[col].isna().sum()/test_ip.shape[0], '%')"
      ],
      "execution_count": 26,
      "outputs": [
        {
          "output_type": "stream",
          "name": "stdout",
          "text": [
            "id_contract - TRAIN -  0.0 % TEST -  0.0 %\n",
            "id_client - TRAIN -  0.0 % TEST -  0.0 %\n",
            "IP_flag - TRAIN -  0.0 % TEST -  0.0 %\n",
            "F1100 - TRAIN -  100.0 % TEST -  100.0 %\n",
            "F1110 - TRAIN -  100.0 % TEST -  100.0 %\n",
            "F1150 - TRAIN -  100.0 % TEST -  100.0 %\n",
            "F1160 - TRAIN -  100.0 % TEST -  100.0 %\n",
            "F1170 - TRAIN -  100.0 % TEST -  100.0 %\n",
            "F1180 - TRAIN -  100.0 % TEST -  100.0 %\n",
            "F1190 - TRAIN -  100.0 % TEST -  100.0 %\n",
            "F1200 - TRAIN -  100.0 % TEST -  100.0 %\n",
            "F1210 - TRAIN -  100.0 % TEST -  100.0 %\n",
            "F1220 - TRAIN -  100.0 % TEST -  100.0 %\n",
            "F1230 - TRAIN -  100.0 % TEST -  100.0 %\n",
            "F1240 - TRAIN -  100.0 % TEST -  100.0 %\n",
            "F1250 - TRAIN -  100.0 % TEST -  100.0 %\n",
            "F1260 - TRAIN -  100.0 % TEST -  100.0 %\n",
            "F1300 - TRAIN -  100.0 % TEST -  100.0 %\n",
            "F1310 - TRAIN -  100.0 % TEST -  100.0 %\n",
            "F1320 - TRAIN -  100.0 % TEST -  100.0 %\n",
            "F1350 - TRAIN -  100.0 % TEST -  100.0 %\n",
            "F1360 - TRAIN -  100.0 % TEST -  100.0 %\n",
            "F1370 - TRAIN -  100.0 % TEST -  100.0 %\n",
            "F1400 - TRAIN -  100.0 % TEST -  100.0 %\n",
            "F1410 - TRAIN -  100.0 % TEST -  100.0 %\n",
            "F1420 - TRAIN -  100.0 % TEST -  100.0 %\n",
            "F1450 - TRAIN -  100.0 % TEST -  100.0 %\n",
            "F1500 - TRAIN -  100.0 % TEST -  100.0 %\n",
            "F1510 - TRAIN -  100.0 % TEST -  100.0 %\n",
            "F1520 - TRAIN -  100.0 % TEST -  100.0 %\n",
            "F1530 - TRAIN -  100.0 % TEST -  100.0 %\n",
            "F1550 - TRAIN -  100.0 % TEST -  100.0 %\n",
            "F1600 - TRAIN -  100.0 % TEST -  100.0 %\n",
            "F1700 - TRAIN -  100.0 % TEST -  100.0 %\n",
            "F2100 - TRAIN -  100.0 % TEST -  100.0 %\n",
            "F2110 - TRAIN -  100.0 % TEST -  100.0 %\n",
            "F2120 - TRAIN -  100.0 % TEST -  100.0 %\n",
            "F2200 - TRAIN -  100.0 % TEST -  100.0 %\n",
            "F2210 - TRAIN -  100.0 % TEST -  100.0 %\n",
            "F2220 - TRAIN -  100.0 % TEST -  100.0 %\n",
            "F2300 - TRAIN -  100.0 % TEST -  100.0 %\n",
            "F2310 - TRAIN -  100.0 % TEST -  100.0 %\n",
            "F2320 - TRAIN -  100.0 % TEST -  100.0 %\n",
            "F2330 - TRAIN -  100.0 % TEST -  100.0 %\n",
            "F2340 - TRAIN -  100.0 % TEST -  100.0 %\n",
            "F2350 - TRAIN -  100.0 % TEST -  100.0 %\n",
            "F2400 - TRAIN -  100.0 % TEST -  100.0 %\n",
            "F2410 - TRAIN -  100.0 % TEST -  100.0 %\n",
            "F1150_LAG1 - TRAIN -  100.0 % TEST -  100.0 %\n",
            "F1230_LAG1 - TRAIN -  100.0 % TEST -  100.0 %\n",
            "F1410_LAG1 - TRAIN -  100.0 % TEST -  100.0 %\n",
            "F1510_LAG1 - TRAIN -  100.0 % TEST -  100.0 %\n",
            "F1520_LAG1 - TRAIN -  100.0 % TEST -  100.0 %\n",
            "F2110_LAG1 - TRAIN -  100.0 % TEST -  100.0 %\n",
            "F2120_LAG1 - TRAIN -  100.0 % TEST -  100.0 %\n",
            "F2200_LAG1 - TRAIN -  100.0 % TEST -  100.0 %\n",
            "F2210_LAG1 - TRAIN -  100.0 % TEST -  100.0 %\n",
            "F2220_LAG1 - TRAIN -  100.0 % TEST -  100.0 %\n",
            "F2300_LAG1 - TRAIN -  100.0 % TEST -  100.0 %\n",
            "F2320_LAG1 - TRAIN -  100.0 % TEST -  100.0 %\n",
            "F2330_LAG1 - TRAIN -  100.0 % TEST -  100.0 %\n",
            "F2400_LAG1 - TRAIN -  100.0 % TEST -  100.0 %\n",
            "EGRPOINCLUDED - TRAIN -  100.0 % TEST -  100.0 %\n",
            "OKFS_GROUP - TRAIN -  100.0 % TEST -  100.0 %\n",
            "OKOPF_GROUP - TRAIN -  100.0 % TEST -  100.0 %\n",
            "OKOGU_GROUP - TRAIN -  100.0 % TEST -  100.0 %\n",
            "OKTMO_CODE - TRAIN -  23.471191233651467 % TEST -  15.990593768371546 %\n",
            "OKTMO_FED - TRAIN -  23.471191233651467 % TEST -  15.990593768371546 %\n",
            "WORKERSRANGE - TRAIN -  100.0 % TEST -  100.0 %\n",
            "COUNTCOOWNERFCSM - TRAIN -  100.0 % TEST -  100.0 %\n",
            "COUNTCOOWNERROSSTAT - TRAIN -  100.0 % TEST -  100.0 %\n",
            "COUNTCOOWNEREGRUL - TRAIN -  100.0 % TEST -  100.0 %\n",
            "COUNTBRANCH - TRAIN -  100.0 % TEST -  100.0 %\n",
            "COUNTBRANCHROSSTAT - TRAIN -  100.0 % TEST -  100.0 %\n",
            "COUNTBRANCHEGRUL - TRAIN -  100.0 % TEST -  100.0 %\n",
            "TELEPHONECOUNT - TRAIN -  100.0 % TEST -  100.0 %\n",
            "MANAGERCOUNTINCOUNTRY - TRAIN -  100.0 % TEST -  100.0 %\n",
            "MANAGERCOUNTINREGION - TRAIN -  100.0 % TEST -  100.0 %\n",
            "MANAGERINNCOUNT - TRAIN -  100.0 % TEST -  100.0 %\n",
            "OKVED_CODE - TRAIN -  18.310357016613644 % TEST -  11.699000587889477 %\n",
            "PLAINTIFF_CASESNUMBER_YEAR - TRAIN -  0.0 % TEST -  0.0 %\n",
            "PLAINTIFF_SUM_YEAR - TRAIN -  0.0 % TEST -  0.0 %\n",
            "DEFENDANT_CASESNUMBER_YEAR - TRAIN -  0.0 % TEST -  0.0 %\n",
            "DEFENDANT_SUM_YEAR - TRAIN -  80.52315305761753 % TEST -  73.78012933568489 %\n",
            "THIRDOROTHERPERSON_YEAR - TRAIN -  0.0 % TEST -  0.0 %\n",
            "PLAINTIFF_CASESNUMBER_EVER - TRAIN -  0.0 % TEST -  0.0 %\n",
            "PLAINTIFF_SUM_EVER - TRAIN -  0.0 % TEST -  0.0 %\n",
            "DEFENDANT_CASESNUMBER_EVER - TRAIN -  0.0 % TEST -  0.0 %\n",
            "DEFENDANT_SUM_EVER - TRAIN -  0.0 % TEST -  0.0 %\n",
            "THIRDOROTHERPERSON_EVER - TRAIN -  72.00424178154825 % TEST -  64.60905349794238 %\n",
            "ADMITTEDNUMBER_233_YEAR - TRAIN -  100.0 % TEST -  100.0 %\n",
            "NOTADMITTEDNUMBER_233_YEAR - TRAIN -  100.0 % TEST -  100.0 %\n",
            "WINNERNUMBER_233_YEAR - TRAIN -  100.0 % TEST -  100.0 %\n",
            "SIGNEDNUMBER_233_YEAR - TRAIN -  100.0 % TEST -  100.0 %\n",
            "SUM_233_YEAR - TRAIN -  100.0 % TEST -  100.0 %\n",
            "ADMITTEDNUMBER_233_EVER - TRAIN -  100.0 % TEST -  100.0 %\n",
            "NOTADMITTEDNUMBER_233_EVER - TRAIN -  100.0 % TEST -  100.0 %\n",
            "WINNERNUMBER_233_EVER - TRAIN -  100.0 % TEST -  100.0 %\n",
            "SIGNEDNUMBER_233_EVER - TRAIN -  100.0 % TEST -  100.0 %\n",
            "SUM_233_EVER - TRAIN -  100.0 % TEST -  100.0 %\n",
            "ADMITTEDNUMBER_95_YEAR - TRAIN -  100.0 % TEST -  100.0 %\n",
            "NOTADMITTEDNUMBER_95_YEAR - TRAIN -  100.0 % TEST -  100.0 %\n",
            "WINNERNUMBER_95_YEAR - TRAIN -  100.0 % TEST -  100.0 %\n",
            "SIGNEDNUMBER_95_YEAR - TRAIN -  100.0 % TEST -  100.0 %\n",
            "SUM_95_YEAR - TRAIN -  100.0 % TEST -  100.0 %\n",
            "ADMITTEDNUMBER_95_EVER - TRAIN -  100.0 % TEST -  100.0 %\n",
            "NOTADMITTEDNUMBER_EVER - TRAIN -  100.0 % TEST -  100.0 %\n",
            "WINNERNUMBER_95_EVER - TRAIN -  100.0 % TEST -  100.0 %\n",
            "SIGNEDNUMBER_95_EVER - TRAIN -  100.0 % TEST -  100.0 %\n",
            "SUM_95_EVER - TRAIN -  100.0 % TEST -  100.0 %\n",
            "FLAG_DISQUALIFICATION - TRAIN -  100.0 % TEST -  100.0 %\n",
            "COUNT_CHANGE_YEAR - TRAIN -  100.0 % TEST -  100.0 %\n",
            "COUNT_CHANGE_EVER - TRAIN -  100.0 % TEST -  100.0 %\n",
            "AGE - TRAIN -  49.840933191940614 % TEST -  63.84479717813051 %\n",
            "SEX_NAME - TRAIN -  23.36514669494521 % TEST -  15.696649029982364 %\n",
            "CITIZENSHIP_NAME - TRAIN -  24.7790738776953 % TEST -  15.873015873015873 %\n",
            "OKATO_FED_REGIONCODE - TRAIN -  0.0 % TEST -  0.0 %\n",
            "count - TRAIN -  0.0 % TEST -  0.0 %\n",
            "OKVED_CODE_1 - TRAIN -  18.310357016613644 % TEST -  11.699000587889477 %\n",
            "count_okved - TRAIN -  18.310357016613644 % TEST -  11.699000587889477 %\n",
            "polnota - TRAIN -  0.0 % TEST -  0.0 %\n",
            "OKVED_CODE_2 - TRAIN -  18.310357016613644 % TEST -  11.699000587889477 %\n"
          ]
        }
      ]
    },
    {
      "cell_type": "code",
      "metadata": {
        "colab": {
          "base_uri": "https://localhost:8080/"
        },
        "id": "ginrz_wWLEvf",
        "outputId": "7f45d278-32b4-47d1-df11-a1a0b1582d48"
      },
      "source": [
        "#проверим кол-во пропусков\n",
        "nan_list_yr = []\n",
        "for col in test_yr.columns:\n",
        "    if (100*train_yr[col].isna().sum()/train_yr.shape[0])>72:\n",
        "        nan_list_yr.append(col)\n",
        "    print(col,'-','TRAIN - ', 100*train_yr[col].isna().sum()/train_yr.shape[0], '%','TEST - ', 100*test_yr[col].isna().sum()/test_yr.shape[0], '%')"
      ],
      "execution_count": 27,
      "outputs": [
        {
          "output_type": "stream",
          "name": "stdout",
          "text": [
            "id_contract - TRAIN -  0.0 % TEST -  0.0 %\n",
            "id_client - TRAIN -  0.0 % TEST -  0.0 %\n",
            "IP_flag - TRAIN -  0.0 % TEST -  0.0 %\n",
            "F1100 - TRAIN -  51.61997078741203 % TEST -  54.716645940664414 %\n",
            "F1110 - TRAIN -  88.47430620103572 % TEST -  90.8864807248179 %\n",
            "F1150 - TRAIN -  55.583587836940644 % TEST -  57.71895540948659 %\n",
            "F1160 - TRAIN -  97.50365157349621 % TEST -  98.43666725883816 %\n",
            "F1170 - TRAIN -  88.07595272872129 % TEST -  90.54894297388523 %\n",
            "F1180 - TRAIN -  81.27074757668305 % TEST -  86.9781488719133 %\n",
            "F1190 - TRAIN -  87.67096003186828 % TEST -  90.81542014567418 %\n",
            "F1200 - TRAIN -  18.994821404859913 % TEST -  17.392076745425474 %\n",
            "F1210 - TRAIN -  33.0367813039437 % TEST -  31.4976017054539 %\n",
            "F1220 - TRAIN -  75.91953259859248 % TEST -  78.91277313910108 %\n",
            "F1230 - TRAIN -  21.424777585977957 % TEST -  21.122757150470775 %\n",
            "F1240 - TRAIN -  79.10636037710795 % TEST -  83.17640788772428 %\n",
            "F1250 - TRAIN -  20.58823529411765 % TEST -  20.483211938177295 %\n",
            "F1260 - TRAIN -  69.20727659009428 % TEST -  74.8978504174809 %\n",
            "F1300 - TRAIN -  18.994821404859913 % TEST -  17.321016166281755 %\n",
            "F1310 - TRAIN -  46.52768556632585 % TEST -  49.12062533309646 %\n",
            "F1320 - TRAIN -  99.0572301155225 % TEST -  99.8223485521407 %\n",
            "F1350 - TRAIN -  92.5972646394901 % TEST -  95.11458518386925 %\n",
            "F1360 - TRAIN -  88.82618510158014 % TEST -  92.14780600461894 %\n",
            "F1370 - TRAIN -  47.90864427034922 % TEST -  50.23982945461005 %\n",
            "F1400 - TRAIN -  69.77161067587306 % TEST -  72.30413927873512 %\n",
            "F1410 - TRAIN -  82.78449077147789 % TEST -  82.53686267543081 %\n",
            "F1420 - TRAIN -  82.5786748107821 % TEST -  87.7420500977083 %\n",
            "F1450 - TRAIN -  94.10436860974639 % TEST -  95.09682003908331 %\n",
            "F1500 - TRAIN -  20.56167839596335 % TEST -  19.559424409308935 %\n",
            "F1510 - TRAIN -  63.3780374452264 % TEST -  65.62444483922543 %\n",
            "F1520 - TRAIN -  21.457973708670828 % TEST -  20.643098241250666 %\n",
            "F1530 - TRAIN -  94.34338069313505 % TEST -  96.58909220110144 %\n",
            "F1550 - TRAIN -  93.22799097065463 % TEST -  95.00799431515367 %\n",
            "F1600 - TRAIN -  18.862036914088435 % TEST -  17.196660152780247 %\n",
            "F1700 - TRAIN -  18.86867613862701 % TEST -  17.196660152780247 %\n",
            "F2100 - TRAIN -  47.54348692072766 % TEST -  51.12808669390655 %\n",
            "F2110 - TRAIN -  21.670428893905193 % TEST -  22.313021851128088 %\n",
            "F2120 - TRAIN -  24.983401938653564 % TEST -  23.894119737075858 %\n",
            "F2200 - TRAIN -  21.285353870667905 % TEST -  21.442529756617517 %\n",
            "F2210 - TRAIN -  67.25534457575355 % TEST -  67.93391366139635 %\n",
            "F2220 - TRAIN -  78.98021511087505 % TEST -  80.5826967489785 %\n",
            "F2300 - TRAIN -  21.11937325720356 % TEST -  20.394386214247646 %\n",
            "F2310 - TRAIN -  97.22480414287611 % TEST -  98.84526558891454 %\n",
            "F2320 - TRAIN -  78.31629265701766 % TEST -  82.19932492449813 %\n",
            "F2330 - TRAIN -  74.976762714115 % TEST -  78.25546278202167 %\n",
            "F2340 - TRAIN -  48.12109945558359 % TEST -  49.15615562266832 %\n",
            "F2350 - TRAIN -  26.583455052449875 % TEST -  25.812755373956296 %\n",
            "F2400 - TRAIN -  21.252157747975037 % TEST -  20.447681648605435 %\n",
            "F2410 - TRAIN -  38.40791395564998 % TEST -  39.491916859122405 %\n",
            "F1150_LAG1 - TRAIN -  59.56048333554641 % TEST -  63.01296855569373 %\n",
            "F1230_LAG1 - TRAIN -  32.55211791262781 % TEST -  37.3600994848108 %\n",
            "F1410_LAG1 - TRAIN -  86.58212720754216 % TEST -  87.38674720198969 %\n",
            "F1510_LAG1 - TRAIN -  67.19559155490639 % TEST -  70.59868537928584 %\n",
            "F1520_LAG1 - TRAIN -  32.89071836409507 % TEST -  36.98703144430627 %\n",
            "F2110_LAG1 - TRAIN -  32.55875713716638 % TEST -  36.84491028601883 %\n",
            "F2120_LAG1 - TRAIN -  35.39370601513743 % TEST -  38.49706875111032 %\n",
            "F2200_LAG1 - TRAIN -  32.11392909308193 % TEST -  36.31195594244093 %\n",
            "F2210_LAG1 - TRAIN -  70.6015137431948 % TEST -  74.48925208740451 %\n",
            "F2220_LAG1 - TRAIN -  82.65834550524498 % TEST -  84.34890744359566 %\n",
            "F2300_LAG1 - TRAIN -  31.974505377771877 % TEST -  35.95665304672233 %\n",
            "F2320_LAG1 - TRAIN -  79.73708670827247 % TEST -  84.45549831231125 %\n",
            "F2330_LAG1 - TRAIN -  76.86894170760856 % TEST -  82.11049920056848 %\n",
            "F2400_LAG1 - TRAIN -  31.9944230513876 % TEST -  35.92112275715047 %\n",
            "EGRPOINCLUDED - TRAIN -  0.0 % TEST -  0.0 %\n",
            "OKFS_GROUP - TRAIN -  0.0 % TEST -  0.0 %\n",
            "OKOPF_GROUP - TRAIN -  0.0 % TEST -  0.0 %\n",
            "OKOGU_GROUP - TRAIN -  0.019917673615721682 % TEST -  0.0 %\n",
            "OKTMO_CODE - TRAIN -  0.02655689815429558 % TEST -  0.017765144785930005 %\n",
            "OKTMO_FED - TRAIN -  0.05311379630859116 % TEST -  0.017765144785930005 %\n",
            "WORKERSRANGE - TRAIN -  3.1868277785154695 % TEST -  2.3272339669568307 %\n",
            "COUNTCOOWNERFCSM - TRAIN -  2.655689815429558 % TEST -  1.0303783975839402 %\n",
            "COUNTCOOWNERROSSTAT - TRAIN -  2.655689815429558 % TEST -  1.0303783975839402 %\n",
            "COUNTCOOWNEREGRUL - TRAIN -  2.655689815429558 % TEST -  1.0303783975839402 %\n",
            "COUNTBRANCH - TRAIN -  2.655689815429558 % TEST -  1.0303783975839402 %\n",
            "COUNTBRANCHROSSTAT - TRAIN -  2.655689815429558 % TEST -  1.0303783975839402 %\n",
            "COUNTBRANCHEGRUL - TRAIN -  2.655689815429558 % TEST -  1.0303783975839402 %\n",
            "TELEPHONECOUNT - TRAIN -  0.0 % TEST -  0.0 %\n",
            "MANAGERCOUNTINCOUNTRY - TRAIN -  0.0 % TEST -  0.0 %\n",
            "MANAGERCOUNTINREGION - TRAIN -  0.0 % TEST -  0.0 %\n",
            "MANAGERINNCOUNT - TRAIN -  0.0 % TEST -  0.0 %\n",
            "OKVED_CODE - TRAIN -  0.07303146992431284 % TEST -  0.03553028957186001 %\n",
            "PLAINTIFF_CASESNUMBER_YEAR - TRAIN -  77.53950338600451 % TEST -  81.8795523183514 %\n",
            "PLAINTIFF_SUM_YEAR - TRAIN -  77.53950338600451 % TEST -  81.8795523183514 %\n",
            "DEFENDANT_CASESNUMBER_YEAR - TRAIN -  77.53950338600451 % TEST -  81.8795523183514 %\n",
            "DEFENDANT_SUM_YEAR - TRAIN -  77.53950338600451 % TEST -  81.8795523183514 %\n",
            "THIRDOROTHERPERSON_YEAR - TRAIN -  77.53950338600451 % TEST -  81.8795523183514 %\n",
            "PLAINTIFF_CASESNUMBER_EVER - TRAIN -  71.10609480812641 % TEST -  72.92591934624267 %\n",
            "PLAINTIFF_SUM_EVER - TRAIN -  71.10609480812641 % TEST -  72.92591934624267 %\n",
            "DEFENDANT_CASESNUMBER_EVER - TRAIN -  71.10609480812641 % TEST -  72.92591934624267 %\n",
            "DEFENDANT_SUM_EVER - TRAIN -  71.10609480812641 % TEST -  72.92591934624267 %\n",
            "THIRDOROTHERPERSON_EVER - TRAIN -  71.10609480812641 % TEST -  72.92591934624267 %\n",
            "ADMITTEDNUMBER_233_YEAR - TRAIN -  71.31854999336078 % TEST -  76.99413750222064 %\n",
            "NOTADMITTEDNUMBER_233_YEAR - TRAIN -  71.31854999336078 % TEST -  76.99413750222064 %\n",
            "WINNERNUMBER_233_YEAR - TRAIN -  71.31854999336078 % TEST -  76.99413750222064 %\n",
            "SIGNEDNUMBER_233_YEAR - TRAIN -  71.31854999336078 % TEST -  76.99413750222064 %\n",
            "SUM_233_YEAR - TRAIN -  71.31854999336078 % TEST -  76.99413750222064 %\n",
            "ADMITTEDNUMBER_233_EVER - TRAIN -  65.14407117248706 % TEST -  70.74080653757328 %\n",
            "NOTADMITTEDNUMBER_233_EVER - TRAIN -  65.14407117248706 % TEST -  70.74080653757328 %\n",
            "WINNERNUMBER_233_EVER - TRAIN -  65.14407117248706 % TEST -  70.74080653757328 %\n",
            "SIGNEDNUMBER_233_EVER - TRAIN -  65.14407117248706 % TEST -  70.74080653757328 %\n",
            "SUM_233_EVER - TRAIN -  65.14407117248706 % TEST -  70.74080653757328 %\n",
            "ADMITTEDNUMBER_95_YEAR - TRAIN -  57.95379099721153 % TEST -  61.64505240717712 %\n",
            "NOTADMITTEDNUMBER_95_YEAR - TRAIN -  57.95379099721153 % TEST -  61.64505240717712 %\n",
            "WINNERNUMBER_95_YEAR - TRAIN -  57.95379099721153 % TEST -  61.64505240717712 %\n",
            "SIGNEDNUMBER_95_YEAR - TRAIN -  57.95379099721153 % TEST -  61.64505240717712 %\n",
            "SUM_95_YEAR - TRAIN -  57.95379099721153 % TEST -  61.64505240717712 %\n",
            "ADMITTEDNUMBER_95_EVER - TRAIN -  54.94622228123755 % TEST -  59.03357612364541 %\n",
            "NOTADMITTEDNUMBER_EVER - TRAIN -  54.94622228123755 % TEST -  59.03357612364541 %\n",
            "WINNERNUMBER_95_EVER - TRAIN -  54.94622228123755 % TEST -  59.03357612364541 %\n",
            "SIGNEDNUMBER_95_EVER - TRAIN -  54.94622228123755 % TEST -  59.03357612364541 %\n",
            "SUM_95_EVER - TRAIN -  54.94622228123755 % TEST -  59.03357612364541 %\n",
            "FLAG_DISQUALIFICATION - TRAIN -  99.96680387730713 % TEST -  99.91117427607035 %\n",
            "COUNT_CHANGE_YEAR - TRAIN -  98.41322533528084 % TEST -  98.59655356191153 %\n",
            "COUNT_CHANGE_EVER - TRAIN -  89.54322135174611 % TEST -  91.24178362053651 %\n",
            "AGE - TRAIN -  100.0 % TEST -  100.0 %\n",
            "SEX_NAME - TRAIN -  100.0 % TEST -  100.0 %\n",
            "CITIZENSHIP_NAME - TRAIN -  100.0 % TEST -  100.0 %\n",
            "OKATO_FED_REGIONCODE - TRAIN -  0.0 % TEST -  0.0 %\n",
            "count - TRAIN -  0.0 % TEST -  0.0 %\n",
            "OKVED_CODE_1 - TRAIN -  0.07303146992431284 % TEST -  0.03553028957186001 %\n",
            "count_okved - TRAIN -  0.07303146992431284 % TEST -  0.03553028957186001 %\n",
            "polnota - TRAIN -  0.0 % TEST -  0.0 %\n",
            "current_liquidity - TRAIN -  20.59487451865622 % TEST -  19.630484988452658 %\n",
            "fast_liquidity - TRAIN -  98.59248439782233 % TEST -  99.4670456564221 %\n",
            "absolute_liquidity - TRAIN -  98.58584517328376 % TEST -  99.4670456564221 %\n",
            "profitability_of_working_capital - TRAIN -  21.371663789669366 % TEST -  20.643098241250666 %\n",
            "gross_profit_margin - TRAIN -  47.56340459434338 % TEST -  51.181382128264346 %\n",
            "operating_profit_margin - TRAIN -  75.08299030673217 % TEST -  78.75288683602771 %\n",
            "net_profit_margin - TRAIN -  21.982472447218164 % TEST -  22.615029312488897 %\n",
            "return_on_assets - TRAIN -  21.55092285221086 % TEST -  21.709006928406467 %\n",
            "return_on_current_assets - TRAIN -  21.59739742398088 % TEST -  21.797832652336115 %\n",
            "return_on_noncurrent_assets - TRAIN -  51.91209666710928 % TEST -  55.036418546811156 %\n",
            "return_on_equity - TRAIN -  21.398220687823663 % TEST -  20.572037662106947 %\n",
            "OKVED_CODE_2 - TRAIN -  0.07303146992431284 % TEST -  0.03553028957186001 %\n"
          ]
        }
      ]
    },
    {
      "cell_type": "markdown",
      "metadata": {
        "id": "hCfAyciHQzr8"
      },
      "source": [
        "## Удаление столбцов с большим количеством пропусков"
      ]
    },
    {
      "cell_type": "code",
      "metadata": {
        "id": "T0YXOfFwLE88"
      },
      "source": [
        "train_ip = train_ip.drop(nan_list_ip, axis=1)\n",
        "train_yr = train_yr.drop(nan_list_yr, axis=1)\n",
        "\n",
        "test_ip = test_ip.drop(nan_list_ip, axis=1)\n",
        "test_yr = test_yr.drop(nan_list_yr, axis=1)"
      ],
      "execution_count": 28,
      "outputs": []
    },
    {
      "cell_type": "markdown",
      "metadata": {
        "id": "YXZnWywDRIO3"
      },
      "source": [
        "## Корректировка списка категориальных признаков"
      ]
    },
    {
      "cell_type": "code",
      "metadata": {
        "id": "kxBiNapEQnoI"
      },
      "source": [
        "# корректировка списка категориальных признаков\n",
        "cat_names_ip = []\n",
        "for i in cat_names:\n",
        "  if i in train_ip.columns:\n",
        "    cat_names_ip.append(i)\n",
        "\n",
        "cat_names_yr = []\n",
        "for i in cat_names:\n",
        "  if i in train_yr.columns:\n",
        "    cat_names_yr.append(i)\n",
        "\n",
        "date_names_yr = []\n",
        "for i in date_names:\n",
        "  if i in train_yr.columns:\n",
        "    date_names_yr.append(i)\n",
        "\n",
        "date_names_ip = []\n",
        "for i in date_names:\n",
        "  if i in train_ip.columns:\n",
        "    date_names_ip.append(i)\n"
      ],
      "execution_count": 29,
      "outputs": []
    },
    {
      "cell_type": "markdown",
      "metadata": {
        "id": "1Gq9vxq5SUV_"
      },
      "source": [
        "# Вспомогательные функции"
      ]
    },
    {
      "cell_type": "code",
      "metadata": {
        "id": "t2VdjycLQn8j"
      },
      "source": [
        "#функция для графиков roc и precision-recall\n",
        "def graph(fpr,tpr,auc_roc):\n",
        "    fig, ax = plt.subplots(figsize=(8,8))\n",
        "\n",
        "    ax.plot(fpr, tpr)\n",
        "    # ROC-кривая случайной модели (выглядит как прямая)\n",
        "    ax.plot([0, 1], [0, 1], linestyle='--')\n",
        "    ax.set_xlim([0.0,1.0])\n",
        "    ax.set_ylim([0.0,1.05])\n",
        "    ax.set_xlabel('False Positive Rate')\n",
        "    ax.set_ylabel('True Positive Rate')\n",
        "    ax.set_title('ROC-кривая')\n",
        "    ax.grid(True)\n",
        "\n",
        "    add_titlebox(ax=ax, text=f'AUC_ROC = {auc_roc.round(3)}',x=0.8,y=0.25)\n",
        "\n",
        "    plt.show()\n",
        "    \n",
        "#функция для подписей на графиках\n",
        "def add_titlebox(ax, text, x,y):\n",
        "    ax.text(x, y, text, horizontalalignment='center',\n",
        "        transform=ax.transAxes,\n",
        "        bbox=dict(facecolor='green', alpha=0.6),\n",
        "        fontsize=12.5)\n",
        "    return ax\n",
        "\n",
        "# функция обновления таблицы результатов\n",
        "def res_data(df, auc_roc, accuracy, target, predict, name):\n",
        "    tn, fp, fn, tp = confusion_matrix(target,predict).ravel()\n",
        "    df = df.append(pd.Series(data={'auc_roc':round(auc_roc,3), 'accuracy': round(accuracy,3), 'TP': tp, 'FP':fp}, name=name), ignore_index=False)\n",
        "    return df\n",
        "\n",
        "#функция для матрицы ошибок\n",
        "def conf_matrix(target,predict):\n",
        "    cm = pd.DataFrame(confusion_matrix(target,predict), index = ['actual 0', 'actual 1'], columns = ['predicted 0', 'predicted 1'])\n",
        "    display(cm)"
      ],
      "execution_count": 30,
      "outputs": []
    },
    {
      "cell_type": "code",
      "metadata": {
        "id": "v9tVcCDEQn_2"
      },
      "source": [
        "def target_enc_yr(df1, df2, df3, df4, df5, df6, col, cat_list):\n",
        "\n",
        "  smoo = round(df1[col].value_counts().mean())\n",
        "  kf = KFold(n_splits=10, random_state=None)\n",
        "\n",
        "  df1_new = df1.copy()\n",
        "  df2_new = df2.copy()\n",
        "  df3_new = df3.copy()\n",
        "  # x_train\n",
        "  train_te = pd.DataFrame()\n",
        "  for tra_idx, val_idx in kf.split(df1_new):\n",
        "      te = ce.TargetEncoder(cols=col, smoothing=smoo) \n",
        "      te.fit(df1[col].iloc[tra_idx], df4.iloc[tra_idx])\n",
        "      temp = te.transform(df1[col].iloc[val_idx])\n",
        "      train_te = pd.concat([train_te,temp],axis=0)\n",
        "\n",
        "  train_te.sort_index(inplace=True)\n",
        "  df1_new[col] = train_te[col]\n",
        "\n",
        "  # x_test\n",
        "  train_te = pd.DataFrame()\n",
        "\n",
        "  te = ce.TargetEncoder(cols=col, smoothing=smoo) \n",
        "  te.fit(df1[col],df4)\n",
        "  temp = te.transform(df2[col])\n",
        "  train_te = pd.concat([train_te,temp],axis=0)\n",
        "  train_te.sort_index(inplace=True)\n",
        "  df2_new[col] = train_te[col]\n",
        "\n",
        "\n",
        "  # test\n",
        "\n",
        "  smoo_1 = round(df3[col].value_counts().mean())\n",
        "\n",
        "  train_te = pd.DataFrame()\n",
        "  te = ce.TargetEncoder(cols=col, smoothing=smoo_1) \n",
        "  te.fit(df3[col],df5)\n",
        "  temp = te.transform(df6[col])\n",
        "  train_te = pd.concat([train_te,temp],axis=0)\n",
        "  train_te.sort_index(inplace=True)\n",
        "  df6[col] = train_te[col]\n",
        "\n",
        "  # x_yr\n",
        "  train_te = pd.DataFrame()\n",
        "  for tra_idx, val_idx in kf.split(df3):\n",
        "      te = ce.TargetEncoder(cols=col, smoothing=smoo_1) \n",
        "      te.fit(df3[col].iloc[tra_idx],df5.iloc[tra_idx])\n",
        "      temp = te.transform(df3[col].iloc[val_idx])\n",
        "      train_te = pd.concat([train_te,temp],axis=0)\n",
        "\n",
        "  train_te.sort_index(inplace=True)\n",
        "  df3_new[col] = train_te[col]\n",
        "\n",
        "  df1[col] = df1_new[col]\n",
        "  df2[col] = df2_new[col]\n",
        "  df3[col] = df3_new[col]\n",
        "  # cat_list.remove(col)\n",
        "\n",
        "  del df1_new\n",
        "  del df2_new\n",
        "  del df3_new\n",
        "  del train_te\n"
      ],
      "execution_count": 31,
      "outputs": []
    },
    {
      "cell_type": "code",
      "metadata": {
        "id": "C8VcZAxx-MM1"
      },
      "source": [
        "def create_new_feature(df, col1, col2,mark, drop=False, drop_name=None, zero_fill=False):\n",
        "  df[f'{col1}/{col2}'] = df[col1]/df[col2]\n",
        "  if drop==True:\n",
        "    for name in drop_name:\n",
        "        df = df.drop(name, axis=1)\n",
        "        if name in YR_list_to_fill_zero and mark==0:\n",
        "            YR_list_to_fill_zero.remove(name)\n",
        "        elif name in IP_list_to_fill_zero and mark==1:\n",
        "            IP_list_to_fill_zero.remove(name)\n",
        "  if zero_fill==True and mark==0:\n",
        "      YR_list_to_fill_zero.append(f'{col1}/{col2}')\n",
        "  elif zero_fill==True and mark==1:\n",
        "      IP_list_to_fill_zero.append(f'{col1}/{col2}')\n",
        "  return df"
      ],
      "execution_count": 32,
      "outputs": []
    },
    {
      "cell_type": "code",
      "metadata": {
        "id": "pG9Cf2BORyxJ"
      },
      "source": [
        ""
      ],
      "execution_count": 32,
      "outputs": []
    },
    {
      "cell_type": "code",
      "metadata": {
        "id": "b0dYwcj-aJrp"
      },
      "source": [
        "# категории к строке\n",
        "train_ip[cat_names_ip] = train_ip[cat_names_ip].astype(str)\n",
        "test_ip[cat_names_ip] = test_ip[cat_names_ip].astype(str)\n",
        "\n",
        "train_yr[cat_names_yr] = train_yr[cat_names_yr].astype(str)\n",
        "test_yr[cat_names_yr] = test_yr[cat_names_yr].astype(str)\n",
        "\n",
        "\n",
        "train_yr = train_yr.fillna(0)\n",
        "train_ip = train_ip.fillna(0)\n",
        "\n",
        "test_yr = test_yr.fillna(0)\n",
        "test_ip = test_ip.fillna(0)\n",
        "\n"
      ],
      "execution_count": 33,
      "outputs": []
    },
    {
      "cell_type": "markdown",
      "metadata": {
        "id": "bhuvJS6dWg9z"
      },
      "source": [
        "# Разделим выборки на тренировочные и валидационные"
      ]
    },
    {
      "cell_type": "code",
      "metadata": {
        "id": "yMgLg1sJYmEZ"
      },
      "source": [
        "list_ip = ['id_contract', 'IP_flag', \n",
        "               'id_client', \n",
        "               'OKTMO_CODE',\n",
        "               'OKTMO_FED', \n",
        "               ]\n",
        "list_yr = ['id_contract', 'IP_flag', \n",
        "               'id_client', \n",
        "               'OKTMO_CODE', \n",
        "               'OKTMO_FED', \n",
        "               ]\n"
      ],
      "execution_count": 34,
      "outputs": []
    },
    {
      "cell_type": "code",
      "metadata": {
        "id": "pQzBYtLYQoDp"
      },
      "source": [
        "\n",
        "ip_test = ip_one_test + ip_many_test\n",
        "yr_test = yr_one_test + yr_many_test\n",
        "\n",
        "valid_ip = train_ip.query('id_contract in @ip_test')\n",
        "x_train_ip = train_ip.query('id_contract not in @ip_test')\n",
        "\n",
        "valid_yr = train_yr.query('id_contract in @yr_test')\n",
        "x_train_yr = train_yr.query('id_contract not in @yr_test')\n"
      ],
      "execution_count": 35,
      "outputs": []
    },
    {
      "cell_type": "code",
      "metadata": {
        "id": "8LdV-BYUnsIe"
      },
      "source": [
        "\n",
        "valid_ip = valid_ip.drop(list_ip, axis=1)\n",
        "x_train_ip = x_train_ip.drop(list_ip, axis=1)\n",
        "\n",
        "valid_yr = valid_yr.drop(list_yr, axis=1)\n",
        "x_train_yr = x_train_yr.drop(list_yr, axis=1)"
      ],
      "execution_count": 36,
      "outputs": []
    },
    {
      "cell_type": "code",
      "metadata": {
        "id": "EXuXfNNYnruz"
      },
      "source": [
        "# корректировка списка катеaгориальных признаков\n",
        "cat_names_ip = []\n",
        "for i in cat_names:\n",
        "  if i in x_train_ip.columns:\n",
        "    cat_names_ip.append(i)\n",
        "\n",
        "cat_names_yr = []\n",
        "for i in cat_names:\n",
        "  if i in x_train_yr.columns:\n",
        "    cat_names_yr.append(i)"
      ],
      "execution_count": 37,
      "outputs": []
    },
    {
      "cell_type": "markdown",
      "metadata": {
        "id": "gdOlIl3YiEW7"
      },
      "source": [
        "# Обучение моделей"
      ]
    },
    {
      "cell_type": "markdown",
      "metadata": {
        "id": "ujEXkJeULA1O"
      },
      "source": [
        "# ИП"
      ]
    },
    {
      "cell_type": "code",
      "metadata": {
        "colab": {
          "base_uri": "https://localhost:8080/"
        },
        "id": "PV0qXtnWVz8H",
        "outputId": "38b58008-dcfa-4dda-caf9-1d4b9e1643bc"
      },
      "source": [
        "%%time\n",
        "model_cat_ip = CatBoostClassifier(loss_function='Logloss',iterations=1000, verbose=100, cat_features=cat_names_ip,)"
      ],
      "execution_count": 38,
      "outputs": [
        {
          "output_type": "stream",
          "name": "stdout",
          "text": [
            "CPU times: user 134 µs, sys: 11 µs, total: 145 µs\n",
            "Wall time: 153 µs\n"
          ]
        }
      ]
    },
    {
      "cell_type": "code",
      "metadata": {
        "colab": {
          "base_uri": "https://localhost:8080/"
        },
        "id": "XupU65wBrRva",
        "outputId": "4cd482b4-c1a0-42fa-9439-c934926aa25b"
      },
      "source": [
        "model_cat_ip.fit(x_train_ip.drop(['TARGET'], axis=1),x_train_ip['TARGET'],\n",
        "                     eval_set=(valid_ip.drop(['TARGET'], axis=1), valid_ip['TARGET']))"
      ],
      "execution_count": 39,
      "outputs": [
        {
          "output_type": "stream",
          "name": "stdout",
          "text": [
            "Learning rate set to 0.037022\n",
            "0:\tlearn: 0.6429431\ttest: 0.6703654\tbest: 0.6703654 (0)\ttotal: 62.8ms\tremaining: 1m 2s\n",
            "100:\tlearn: 0.1556070\ttest: 0.4795042\tbest: 0.4767329 (63)\ttotal: 785ms\tremaining: 6.99s\n",
            "200:\tlearn: 0.1325543\ttest: 0.4775064\tbest: 0.4762258 (181)\ttotal: 1.47s\tremaining: 5.86s\n",
            "300:\tlearn: 0.1178549\ttest: 0.4869585\tbest: 0.4762258 (181)\ttotal: 2.16s\tremaining: 5.02s\n",
            "400:\tlearn: 0.1072932\ttest: 0.4939783\tbest: 0.4762258 (181)\ttotal: 2.85s\tremaining: 4.26s\n",
            "500:\tlearn: 0.0973580\ttest: 0.5010666\tbest: 0.4762258 (181)\ttotal: 3.54s\tremaining: 3.53s\n",
            "600:\tlearn: 0.0905526\ttest: 0.5098251\tbest: 0.4762258 (181)\ttotal: 4.23s\tremaining: 2.81s\n",
            "700:\tlearn: 0.0845797\ttest: 0.5230798\tbest: 0.4762258 (181)\ttotal: 4.92s\tremaining: 2.1s\n",
            "800:\tlearn: 0.0788942\ttest: 0.5395683\tbest: 0.4762258 (181)\ttotal: 5.57s\tremaining: 1.38s\n",
            "900:\tlearn: 0.0744268\ttest: 0.5510013\tbest: 0.4762258 (181)\ttotal: 6.24s\tremaining: 686ms\n",
            "999:\tlearn: 0.0700405\ttest: 0.5582173\tbest: 0.4762258 (181)\ttotal: 6.91s\tremaining: 0us\n",
            "\n",
            "bestTest = 0.4762257718\n",
            "bestIteration = 181\n",
            "\n",
            "Shrink model to first 182 iterations.\n"
          ]
        },
        {
          "output_type": "execute_result",
          "data": {
            "text/plain": [
              "<catboost.core.CatBoostClassifier at 0x7fc6f3403190>"
            ]
          },
          "metadata": {},
          "execution_count": 39
        }
      ]
    },
    {
      "cell_type": "code",
      "metadata": {
        "id": "0Nf5ZGYEV0An"
      },
      "source": [
        "# предсказание вероятностей`\n",
        "probabilities_test = model_cat_ip.predict_proba(valid_ip.drop(['TARGET'], axis=1))"
      ],
      "execution_count": 40,
      "outputs": []
    },
    {
      "cell_type": "code",
      "metadata": {
        "colab": {
          "base_uri": "https://localhost:8080/",
          "height": 608
        },
        "id": "YKOd0C7uV0E1",
        "outputId": "86414e0a-407c-4da4-dbd2-429347c510a2"
      },
      "source": [
        "probabilities_one_test = probabilities_test[:, 1]\n",
        "predict_test = probabilities_one_test>0.5\n",
        "#roc-кривая\n",
        "fpr, tpr, thresholds = roc_curve(valid_ip['TARGET'], probabilities_one_test)\n",
        "auc_roc = roc_auc_score(valid_ip['TARGET'], probabilities_one_test)\n",
        "graph(fpr,tpr,auc_roc)\n",
        "# матрица ошибок\n",
        "conf_matrix(valid_ip['TARGET'], predict_test)"
      ],
      "execution_count": 41,
      "outputs": [
        {
          "output_type": "display_data",
          "data": {
            "image/png": "[encoded data removed]",
            "text/plain": [
              "<Figure size 576x576 with 1 Axes>"
            ]
          },
          "metadata": {
            "needs_background": "light"
          }
        },
        {
          "output_type": "display_data",
          "data": {
            "text/html": [
              "<div>\n",
              "<style scoped>\n",
              "    .dataframe tbody tr th:only-of-type {\n",
              "        vertical-align: middle;\n",
              "    }\n",
              "\n",
              "    .dataframe tbody tr th {\n",
              "        vertical-align: top;\n",
              "    }\n",
              "\n",
              "    .dataframe thead th {\n",
              "        text-align: right;\n",
              "    }\n",
              "</style>\n",
              "<table border=\"1\" class=\"dataframe\">\n",
              "  <thead>\n",
              "    <tr style=\"text-align: right;\">\n",
              "      <th></th>\n",
              "      <th>predicted 0</th>\n",
              "      <th>predicted 1</th>\n",
              "    </tr>\n",
              "  </thead>\n",
              "  <tbody>\n",
              "    <tr>\n",
              "      <th>actual 0</th>\n",
              "      <td>569</td>\n",
              "      <td>36</td>\n",
              "    </tr>\n",
              "    <tr>\n",
              "      <th>actual 1</th>\n",
              "      <td>182</td>\n",
              "      <td>165</td>\n",
              "    </tr>\n",
              "  </tbody>\n",
              "</table>\n",
              "</div>"
            ],
            "text/plain": [
              "          predicted 0  predicted 1\n",
              "actual 0          569           36\n",
              "actual 1          182          165"
            ]
          },
          "metadata": {}
        }
      ]
    },
    {
      "cell_type": "code",
      "metadata": {
        "colab": {
          "base_uri": "https://localhost:8080/",
          "height": 613
        },
        "id": "20-EAUToh9SG",
        "outputId": "bc539ca3-9590-4996-f7cd-549c17f89339"
      },
      "source": [
        "importances = model_cat_ip.feature_importances_\n",
        "df_importances = pd.DataFrame(index=x_train_ip.drop(['TARGET'], axis=1).columns, columns=['importance'], data=importances)\n",
        "\n",
        "df_importances.sort_values(by='importance',ascending=False).head(50)"
      ],
      "execution_count": 42,
      "outputs": [
        {
          "output_type": "execute_result",
          "data": {
            "text/html": [
              "<div>\n",
              "<style scoped>\n",
              "    .dataframe tbody tr th:only-of-type {\n",
              "        vertical-align: middle;\n",
              "    }\n",
              "\n",
              "    .dataframe tbody tr th {\n",
              "        vertical-align: top;\n",
              "    }\n",
              "\n",
              "    .dataframe thead th {\n",
              "        text-align: right;\n",
              "    }\n",
              "</style>\n",
              "<table border=\"1\" class=\"dataframe\">\n",
              "  <thead>\n",
              "    <tr style=\"text-align: right;\">\n",
              "      <th></th>\n",
              "      <th>importance</th>\n",
              "    </tr>\n",
              "  </thead>\n",
              "  <tbody>\n",
              "    <tr>\n",
              "      <th>count_okved</th>\n",
              "      <td>56.577041</td>\n",
              "    </tr>\n",
              "    <tr>\n",
              "      <th>OKVED_CODE_2</th>\n",
              "      <td>6.904279</td>\n",
              "    </tr>\n",
              "    <tr>\n",
              "      <th>OKVED_CODE</th>\n",
              "      <td>5.007240</td>\n",
              "    </tr>\n",
              "    <tr>\n",
              "      <th>SEX_NAME</th>\n",
              "      <td>4.902732</td>\n",
              "    </tr>\n",
              "    <tr>\n",
              "      <th>OKATO_FED_REGIONCODE</th>\n",
              "      <td>4.493241</td>\n",
              "    </tr>\n",
              "    <tr>\n",
              "      <th>AGE</th>\n",
              "      <td>4.194336</td>\n",
              "    </tr>\n",
              "    <tr>\n",
              "      <th>count</th>\n",
              "      <td>3.814240</td>\n",
              "    </tr>\n",
              "    <tr>\n",
              "      <th>OKVED_CODE_1</th>\n",
              "      <td>3.090832</td>\n",
              "    </tr>\n",
              "    <tr>\n",
              "      <th>CITIZENSHIP_NAME</th>\n",
              "      <td>3.085641</td>\n",
              "    </tr>\n",
              "    <tr>\n",
              "      <th>PLAINTIFF_SUM_YEAR</th>\n",
              "      <td>1.344128</td>\n",
              "    </tr>\n",
              "    <tr>\n",
              "      <th>PLAINTIFF_CASESNUMBER_EVER</th>\n",
              "      <td>1.125179</td>\n",
              "    </tr>\n",
              "    <tr>\n",
              "      <th>PLAINTIFF_SUM_EVER</th>\n",
              "      <td>1.025650</td>\n",
              "    </tr>\n",
              "    <tr>\n",
              "      <th>polnota</th>\n",
              "      <td>0.984725</td>\n",
              "    </tr>\n",
              "    <tr>\n",
              "      <th>DEFENDANT_SUM_EVER</th>\n",
              "      <td>0.923225</td>\n",
              "    </tr>\n",
              "    <tr>\n",
              "      <th>DEFENDANT_CASESNUMBER_YEAR</th>\n",
              "      <td>0.901101</td>\n",
              "    </tr>\n",
              "    <tr>\n",
              "      <th>PLAINTIFF_CASESNUMBER_YEAR</th>\n",
              "      <td>0.818482</td>\n",
              "    </tr>\n",
              "    <tr>\n",
              "      <th>DEFENDANT_CASESNUMBER_EVER</th>\n",
              "      <td>0.737090</td>\n",
              "    </tr>\n",
              "    <tr>\n",
              "      <th>THIRDOROTHERPERSON_YEAR</th>\n",
              "      <td>0.070837</td>\n",
              "    </tr>\n",
              "  </tbody>\n",
              "</table>\n",
              "</div>"
            ],
            "text/plain": [
              "                            importance\n",
              "count_okved                  56.577041\n",
              "OKVED_CODE_2                  6.904279\n",
              "OKVED_CODE                    5.007240\n",
              "SEX_NAME                      4.902732\n",
              "OKATO_FED_REGIONCODE          4.493241\n",
              "AGE                           4.194336\n",
              "count                         3.814240\n",
              "OKVED_CODE_1                  3.090832\n",
              "CITIZENSHIP_NAME              3.085641\n",
              "PLAINTIFF_SUM_YEAR            1.344128\n",
              "PLAINTIFF_CASESNUMBER_EVER    1.125179\n",
              "PLAINTIFF_SUM_EVER            1.025650\n",
              "polnota                       0.984725\n",
              "DEFENDANT_SUM_EVER            0.923225\n",
              "DEFENDANT_CASESNUMBER_YEAR    0.901101\n",
              "PLAINTIFF_CASESNUMBER_YEAR    0.818482\n",
              "DEFENDANT_CASESNUMBER_EVER    0.737090\n",
              "THIRDOROTHERPERSON_YEAR       0.070837"
            ]
          },
          "metadata": {},
          "execution_count": 42
        }
      ]
    },
    {
      "cell_type": "markdown",
      "metadata": {
        "id": "Ju4g_bOQib3B"
      },
      "source": [
        "## ЮЛ"
      ]
    },
    {
      "cell_type": "code",
      "metadata": {
        "id": "LBx39lUi-yfW"
      },
      "source": [
        "# заменим категорию средним значением\n",
        "\n",
        "def worker(row):\n",
        "  if row['WORKERSRANGE'] == '0 .. 5':\n",
        "    return 3\n",
        "  elif row['WORKERSRANGE'] == '6 .. 10':\n",
        "    return 8\n",
        "  elif row['WORKERSRANGE'] == '11 .. 15':\n",
        "    return 13\n",
        "  elif row['WORKERSRANGE'] == '16 .. 50':\n",
        "    return 34\n",
        "  elif row['WORKERSRANGE'] == '51 .. 100':\n",
        "    return 75\n",
        "  elif row['WORKERSRANGE'] == '101 .. 150':\n",
        "    return 125\n",
        "  elif row['WORKERSRANGE'] == '151 .. 200':\n",
        "    return 175\n",
        "  elif row['WORKERSRANGE'] == '201 .. 250':\n",
        "    return 225\n",
        "  elif row['WORKERSRANGE'] == '251 .. 500':\n",
        "    return 375\n",
        "  elif row['WORKERSRANGE'] == '501 .. 1000':\n",
        "    return 750\n",
        "  elif row['WORKERSRANGE'] == '1001 .. 5000':\n",
        "    return 3000\n",
        "  elif row['WORKERSRANGE'] == '5000 и более':\n",
        "    return 6000\n",
        "  else:\n",
        "    return np.nan\n",
        "\n",
        "x_train_yr['worker'] = x_train_yr.apply(worker, axis=1)\n",
        "valid_yr['worker'] = valid_yr.apply(worker, axis=1)\n",
        "\n",
        "train_yr['worker'] = train_yr.apply(worker, axis=1)\n",
        "test_yr['worker'] = test_yr.apply(worker, axis=1)\n",
        "\n",
        "\n",
        "x_train_yr = x_train_yr.drop(['WORKERSRANGE'], axis=1)\n",
        "valid_yr = valid_yr.drop(['WORKERSRANGE'], axis=1)\n",
        "\n",
        "train_yr = train_yr.drop(['WORKERSRANGE'], axis=1)\n",
        "test_yr = test_yr.drop(['WORKERSRANGE'], axis=1)\n",
        "\n",
        "cat_names_yr.remove('WORKERSRANGE')\n"
      ],
      "execution_count": 43,
      "outputs": []
    },
    {
      "cell_type": "code",
      "metadata": {
        "id": "l--D5ej80TlD"
      },
      "source": [
        "# объединим окфс окогу и окпф\n",
        "x_train_yr['OKFS_OKOGU_OKOPF'] = x_train_yr.OKFS_GROUP + '_' + x_train_yr.OKOGU_GROUP + '_' + x_train_yr.OKOPF_GROUP\n",
        "valid_yr['OKFS_OKOGU_OKOPF'] = valid_yr.OKFS_GROUP + '_' + valid_yr.OKOGU_GROUP + '_' + valid_yr.OKOPF_GROUP\n",
        "\n",
        "train_yr['OKFS_OKOGU_OKOPF'] = train_yr.OKFS_GROUP + '_' + train_yr.OKOGU_GROUP + '_' + train_yr.OKOPF_GROUP\n",
        "test_yr['OKFS_OKOGU_OKOPF'] = test_yr.OKFS_GROUP + '_' + test_yr.OKOGU_GROUP + '_' + test_yr.OKOPF_GROUP\n",
        "\n",
        "cat_names_yr.append('OKFS_OKOGU_OKOPF')\n",
        "\n",
        "cat_names_yr.remove('OKFS_GROUP')\n",
        "cat_names_yr.remove('OKOGU_GROUP')\n",
        "cat_names_yr.remove('OKOPF_GROUP')\n",
        "\n",
        "x_train_yr = x_train_yr.drop(['OKFS_GROUP','OKOGU_GROUP','OKOPF_GROUP'], axis=1)\n",
        "valid_yr = valid_yr.drop(['OKFS_GROUP','OKOGU_GROUP','OKOPF_GROUP'], axis=1)\n",
        "\n",
        "train_yr = train_yr.drop(['OKFS_GROUP','OKOGU_GROUP','OKOPF_GROUP'], axis=1)\n",
        "test_yr = test_yr .drop(['OKFS_GROUP','OKOGU_GROUP','OKOPF_GROUP'], axis=1)"
      ],
      "execution_count": 44,
      "outputs": []
    },
    {
      "cell_type": "code",
      "metadata": {
        "colab": {
          "base_uri": "https://localhost:8080/"
        },
        "id": "JvDvcN2oh9pn",
        "outputId": "305adbdd-8ad9-4662-b762-4180b2f58ff0"
      },
      "source": [
        "%%time\n",
        "model_cat_yr = CatBoostClassifier(loss_function='Logloss',iterations=1000, \n",
        "                                      verbose=100,\n",
        "                                      cat_features=cat_names_yr)"
      ],
      "execution_count": 45,
      "outputs": [
        {
          "output_type": "stream",
          "name": "stdout",
          "text": [
            "CPU times: user 111 µs, sys: 8 µs, total: 119 µs\n",
            "Wall time: 127 µs\n"
          ]
        }
      ]
    },
    {
      "cell_type": "code",
      "metadata": {
        "colab": {
          "base_uri": "https://localhost:8080/"
        },
        "id": "Qy-Xd3-JqwUJ",
        "outputId": "8da83024-89f4-487a-d640-c137d193d6e5"
      },
      "source": [
        "model_cat_yr.fit(x_train_yr.drop(['TARGET'], axis=1),x_train_yr['TARGET'],\n",
        "                     eval_set=(valid_yr.drop(['TARGET'], axis=1), valid_yr['TARGET']))"
      ],
      "execution_count": 46,
      "outputs": [
        {
          "output_type": "stream",
          "name": "stdout",
          "text": [
            "Learning rate set to 0.056066\n",
            "0:\tlearn: 0.6245758\ttest: 0.6645151\tbest: 0.6645151 (0)\ttotal: 59.8ms\tremaining: 59.7s\n",
            "100:\tlearn: 0.1410517\ttest: 0.3887747\tbest: 0.3887747 (100)\ttotal: 4.69s\tremaining: 41.8s\n",
            "200:\tlearn: 0.1158269\ttest: 0.3792173\tbest: 0.3792064 (197)\ttotal: 9.16s\tremaining: 36.4s\n",
            "300:\tlearn: 0.0985335\ttest: 0.3753017\tbest: 0.3751559 (299)\ttotal: 13.5s\tremaining: 31.4s\n",
            "400:\tlearn: 0.0842020\ttest: 0.3721208\tbest: 0.3715110 (374)\ttotal: 17.9s\tremaining: 26.7s\n",
            "500:\tlearn: 0.0729714\ttest: 0.3705826\tbest: 0.3704593 (478)\ttotal: 22.4s\tremaining: 22.4s\n",
            "600:\tlearn: 0.0646467\ttest: 0.3702211\tbest: 0.3702211 (600)\ttotal: 26.9s\tremaining: 17.9s\n",
            "700:\tlearn: 0.0583494\ttest: 0.3707137\tbest: 0.3702211 (600)\ttotal: 31.5s\tremaining: 13.4s\n",
            "800:\tlearn: 0.0532025\ttest: 0.3714469\tbest: 0.3702211 (600)\ttotal: 36s\tremaining: 8.93s\n",
            "900:\tlearn: 0.0487117\ttest: 0.3717444\tbest: 0.3702211 (600)\ttotal: 40.6s\tremaining: 4.46s\n",
            "999:\tlearn: 0.0448822\ttest: 0.3726115\tbest: 0.3702211 (600)\ttotal: 45.1s\tremaining: 0us\n",
            "\n",
            "bestTest = 0.3702211258\n",
            "bestIteration = 600\n",
            "\n",
            "Shrink model to first 601 iterations.\n"
          ]
        },
        {
          "output_type": "execute_result",
          "data": {
            "text/plain": [
              "<catboost.core.CatBoostClassifier at 0x7fc6f14bfd10>"
            ]
          },
          "metadata": {},
          "execution_count": 46
        }
      ]
    },
    {
      "cell_type": "code",
      "metadata": {
        "id": "lkP9EBcRh9tZ"
      },
      "source": [
        "# предсказание вероятностей`\n",
        "\n",
        "probabilities_test = model_cat_yr.predict_proba(valid_yr.drop(['TARGET'], axis=1))"
      ],
      "execution_count": 47,
      "outputs": []
    },
    {
      "cell_type": "code",
      "metadata": {
        "colab": {
          "base_uri": "https://localhost:8080/",
          "height": 608
        },
        "id": "yMeFuw8Wh9xd",
        "outputId": "5bc56006-404d-467a-da42-82d824a80dfa"
      },
      "source": [
        "probabilities_one_test = probabilities_test[:, 1]\n",
        "predict_test = probabilities_one_test>0.5\n",
        "#roc-кривая\n",
        "fpr, tpr, thresholds = roc_curve(valid_yr['TARGET'], probabilities_one_test)\n",
        "auc_roc = roc_auc_score(valid_yr['TARGET'], probabilities_one_test)\n",
        "graph(fpr,tpr,auc_roc)\n",
        "# матрица ошибок\n",
        "conf_matrix(valid_yr['TARGET'], predict_test)"
      ],
      "execution_count": 48,
      "outputs": [
        {
          "output_type": "display_data",
          "data": {
            "image/png": "[encoded data removed]",
            "text/plain": [
              "<Figure size 576x576 with 1 Axes>"
            ]
          },
          "metadata": {
            "needs_background": "light"
          }
        },
        {
          "output_type": "display_data",
          "data": {
            "text/html": [
              "<div>\n",
              "<style scoped>\n",
              "    .dataframe tbody tr th:only-of-type {\n",
              "        vertical-align: middle;\n",
              "    }\n",
              "\n",
              "    .dataframe tbody tr th {\n",
              "        vertical-align: top;\n",
              "    }\n",
              "\n",
              "    .dataframe thead th {\n",
              "        text-align: right;\n",
              "    }\n",
              "</style>\n",
              "<table border=\"1\" class=\"dataframe\">\n",
              "  <thead>\n",
              "    <tr style=\"text-align: right;\">\n",
              "      <th></th>\n",
              "      <th>predicted 0</th>\n",
              "      <th>predicted 1</th>\n",
              "    </tr>\n",
              "  </thead>\n",
              "  <tbody>\n",
              "    <tr>\n",
              "      <th>actual 0</th>\n",
              "      <td>3444</td>\n",
              "      <td>301</td>\n",
              "    </tr>\n",
              "    <tr>\n",
              "      <th>actual 1</th>\n",
              "      <td>500</td>\n",
              "      <td>743</td>\n",
              "    </tr>\n",
              "  </tbody>\n",
              "</table>\n",
              "</div>"
            ],
            "text/plain": [
              "          predicted 0  predicted 1\n",
              "actual 0         3444          301\n",
              "actual 1          500          743"
            ]
          },
          "metadata": {}
        }
      ]
    },
    {
      "cell_type": "code",
      "metadata": {
        "colab": {
          "base_uri": "https://localhost:8080/",
          "height": 1000
        },
        "id": "FShznGN0h91f",
        "outputId": "3f1ef86c-cbca-483d-e540-edb51d5fdd49"
      },
      "source": [
        "importances = model_cat_yr.feature_importances_\n",
        "df_importances = pd.DataFrame(index=x_train_yr.drop(['TARGET'], axis=1).columns, columns=['importance'], data=importances)\n",
        "\n",
        "df_importances.sort_values(by='importance',ascending=False).head(50)"
      ],
      "execution_count": 49,
      "outputs": [
        {
          "output_type": "execute_result",
          "data": {
            "text/html": [
              "<div>\n",
              "<style scoped>\n",
              "    .dataframe tbody tr th:only-of-type {\n",
              "        vertical-align: middle;\n",
              "    }\n",
              "\n",
              "    .dataframe tbody tr th {\n",
              "        vertical-align: top;\n",
              "    }\n",
              "\n",
              "    .dataframe thead th {\n",
              "        text-align: right;\n",
              "    }\n",
              "</style>\n",
              "<table border=\"1\" class=\"dataframe\">\n",
              "  <thead>\n",
              "    <tr style=\"text-align: right;\">\n",
              "      <th></th>\n",
              "      <th>importance</th>\n",
              "    </tr>\n",
              "  </thead>\n",
              "  <tbody>\n",
              "    <tr>\n",
              "      <th>worker</th>\n",
              "      <td>11.824752</td>\n",
              "    </tr>\n",
              "    <tr>\n",
              "      <th>count_okved</th>\n",
              "      <td>11.427368</td>\n",
              "    </tr>\n",
              "    <tr>\n",
              "      <th>count</th>\n",
              "      <td>8.031611</td>\n",
              "    </tr>\n",
              "    <tr>\n",
              "      <th>OKVED_CODE</th>\n",
              "      <td>7.203158</td>\n",
              "    </tr>\n",
              "    <tr>\n",
              "      <th>OKATO_FED_REGIONCODE</th>\n",
              "      <td>4.214878</td>\n",
              "    </tr>\n",
              "    <tr>\n",
              "      <th>OKVED_CODE_1</th>\n",
              "      <td>3.759093</td>\n",
              "    </tr>\n",
              "    <tr>\n",
              "      <th>TELEPHONECOUNT</th>\n",
              "      <td>2.825769</td>\n",
              "    </tr>\n",
              "    <tr>\n",
              "      <th>SIGNEDNUMBER_95_EVER</th>\n",
              "      <td>2.033767</td>\n",
              "    </tr>\n",
              "    <tr>\n",
              "      <th>OKFS_OKOGU_OKOPF</th>\n",
              "      <td>2.019568</td>\n",
              "    </tr>\n",
              "    <tr>\n",
              "      <th>WINNERNUMBER_95_EVER</th>\n",
              "      <td>2.013602</td>\n",
              "    </tr>\n",
              "    <tr>\n",
              "      <th>OKVED_CODE_2</th>\n",
              "      <td>1.848908</td>\n",
              "    </tr>\n",
              "    <tr>\n",
              "      <th>SUM_95_EVER</th>\n",
              "      <td>1.594544</td>\n",
              "    </tr>\n",
              "    <tr>\n",
              "      <th>ADMITTEDNUMBER_95_EVER</th>\n",
              "      <td>1.434877</td>\n",
              "    </tr>\n",
              "    <tr>\n",
              "      <th>F1100</th>\n",
              "      <td>1.302277</td>\n",
              "    </tr>\n",
              "    <tr>\n",
              "      <th>polnota</th>\n",
              "      <td>1.301261</td>\n",
              "    </tr>\n",
              "    <tr>\n",
              "      <th>NOTADMITTEDNUMBER_EVER</th>\n",
              "      <td>1.276810</td>\n",
              "    </tr>\n",
              "    <tr>\n",
              "      <th>F1210</th>\n",
              "      <td>1.138309</td>\n",
              "    </tr>\n",
              "    <tr>\n",
              "      <th>F2210</th>\n",
              "      <td>1.093192</td>\n",
              "    </tr>\n",
              "    <tr>\n",
              "      <th>SUM_95_YEAR</th>\n",
              "      <td>1.084863</td>\n",
              "    </tr>\n",
              "    <tr>\n",
              "      <th>NOTADMITTEDNUMBER_233_EVER</th>\n",
              "      <td>1.071178</td>\n",
              "    </tr>\n",
              "    <tr>\n",
              "      <th>F1520</th>\n",
              "      <td>0.981021</td>\n",
              "    </tr>\n",
              "    <tr>\n",
              "      <th>F1250</th>\n",
              "      <td>0.972812</td>\n",
              "    </tr>\n",
              "    <tr>\n",
              "      <th>F2340</th>\n",
              "      <td>0.961186</td>\n",
              "    </tr>\n",
              "    <tr>\n",
              "      <th>F1600</th>\n",
              "      <td>0.924119</td>\n",
              "    </tr>\n",
              "    <tr>\n",
              "      <th>F2300_LAG1</th>\n",
              "      <td>0.896272</td>\n",
              "    </tr>\n",
              "    <tr>\n",
              "      <th>F2110</th>\n",
              "      <td>0.838253</td>\n",
              "    </tr>\n",
              "    <tr>\n",
              "      <th>F2350</th>\n",
              "      <td>0.830074</td>\n",
              "    </tr>\n",
              "    <tr>\n",
              "      <th>F1300</th>\n",
              "      <td>0.788415</td>\n",
              "    </tr>\n",
              "    <tr>\n",
              "      <th>ADMITTEDNUMBER_95_YEAR</th>\n",
              "      <td>0.778657</td>\n",
              "    </tr>\n",
              "    <tr>\n",
              "      <th>F1230</th>\n",
              "      <td>0.772723</td>\n",
              "    </tr>\n",
              "    <tr>\n",
              "      <th>WINNERNUMBER_95_YEAR</th>\n",
              "      <td>0.759648</td>\n",
              "    </tr>\n",
              "    <tr>\n",
              "      <th>F2410</th>\n",
              "      <td>0.754896</td>\n",
              "    </tr>\n",
              "    <tr>\n",
              "      <th>F1260</th>\n",
              "      <td>0.726795</td>\n",
              "    </tr>\n",
              "    <tr>\n",
              "      <th>net_profit_margin</th>\n",
              "      <td>0.659557</td>\n",
              "    </tr>\n",
              "    <tr>\n",
              "      <th>return_on_noncurrent_assets</th>\n",
              "      <td>0.640507</td>\n",
              "    </tr>\n",
              "    <tr>\n",
              "      <th>F2200_LAG1</th>\n",
              "      <td>0.637130</td>\n",
              "    </tr>\n",
              "    <tr>\n",
              "      <th>SUM_233_EVER</th>\n",
              "      <td>0.636884</td>\n",
              "    </tr>\n",
              "    <tr>\n",
              "      <th>F1500</th>\n",
              "      <td>0.592608</td>\n",
              "    </tr>\n",
              "    <tr>\n",
              "      <th>NOTADMITTEDNUMBER_233_YEAR</th>\n",
              "      <td>0.589112</td>\n",
              "    </tr>\n",
              "    <tr>\n",
              "      <th>return_on_equity</th>\n",
              "      <td>0.575467</td>\n",
              "    </tr>\n",
              "    <tr>\n",
              "      <th>F1400</th>\n",
              "      <td>0.573665</td>\n",
              "    </tr>\n",
              "    <tr>\n",
              "      <th>DEFENDANT_SUM_EVER</th>\n",
              "      <td>0.553360</td>\n",
              "    </tr>\n",
              "    <tr>\n",
              "      <th>F1200</th>\n",
              "      <td>0.552785</td>\n",
              "    </tr>\n",
              "    <tr>\n",
              "      <th>F2120_LAG1</th>\n",
              "      <td>0.531724</td>\n",
              "    </tr>\n",
              "    <tr>\n",
              "      <th>WINNERNUMBER_233_EVER</th>\n",
              "      <td>0.528448</td>\n",
              "    </tr>\n",
              "    <tr>\n",
              "      <th>current_liquidity</th>\n",
              "      <td>0.527979</td>\n",
              "    </tr>\n",
              "    <tr>\n",
              "      <th>F2110_LAG1</th>\n",
              "      <td>0.521356</td>\n",
              "    </tr>\n",
              "    <tr>\n",
              "      <th>return_on_current_assets</th>\n",
              "      <td>0.518109</td>\n",
              "    </tr>\n",
              "    <tr>\n",
              "      <th>F2400</th>\n",
              "      <td>0.510751</td>\n",
              "    </tr>\n",
              "    <tr>\n",
              "      <th>F1510_LAG1</th>\n",
              "      <td>0.487569</td>\n",
              "    </tr>\n",
              "    <tr>\n",
              "      <th>gross_profit_margin</th>\n",
              "      <td>0.484085</td>\n",
              "    </tr>\n",
              "    <tr>\n",
              "      <th>F1520_LAG1</th>\n",
              "      <td>0.468969</td>\n",
              "    </tr>\n",
              "    <tr>\n",
              "      <th>F2120</th>\n",
              "      <td>0.464490</td>\n",
              "    </tr>\n",
              "    <tr>\n",
              "      <th>F2100</th>\n",
              "      <td>0.456470</td>\n",
              "    </tr>\n",
              "    <tr>\n",
              "      <th>NOTADMITTEDNUMBER_95_YEAR</th>\n",
              "      <td>0.452636</td>\n",
              "    </tr>\n",
              "    <tr>\n",
              "      <th>F2400_LAG1</th>\n",
              "      <td>0.449716</td>\n",
              "    </tr>\n",
              "    <tr>\n",
              "      <th>F2200</th>\n",
              "      <td>0.442312</td>\n",
              "    </tr>\n",
              "    <tr>\n",
              "      <th>SUM_233_YEAR</th>\n",
              "      <td>0.441350</td>\n",
              "    </tr>\n",
              "    <tr>\n",
              "      <th>return_on_assets</th>\n",
              "      <td>0.432073</td>\n",
              "    </tr>\n",
              "    <tr>\n",
              "      <th>F1370</th>\n",
              "      <td>0.422236</td>\n",
              "    </tr>\n",
              "    <tr>\n",
              "      <th>SIGNEDNUMBER_95_YEAR</th>\n",
              "      <td>0.404779</td>\n",
              "    </tr>\n",
              "    <tr>\n",
              "      <th>MANAGERINNCOUNT</th>\n",
              "      <td>0.393910</td>\n",
              "    </tr>\n",
              "    <tr>\n",
              "      <th>F1150</th>\n",
              "      <td>0.370557</td>\n",
              "    </tr>\n",
              "    <tr>\n",
              "      <th>F1510</th>\n",
              "      <td>0.351492</td>\n",
              "    </tr>\n",
              "    <tr>\n",
              "      <th>profitability_of_working_capital</th>\n",
              "      <td>0.335862</td>\n",
              "    </tr>\n",
              "    <tr>\n",
              "      <th>ADMITTEDNUMBER_233_EVER</th>\n",
              "      <td>0.325926</td>\n",
              "    </tr>\n",
              "    <tr>\n",
              "      <th>F1700</th>\n",
              "      <td>0.325423</td>\n",
              "    </tr>\n",
              "    <tr>\n",
              "      <th>MANAGERCOUNTINREGION</th>\n",
              "      <td>0.317693</td>\n",
              "    </tr>\n",
              "    <tr>\n",
              "      <th>MANAGERCOUNTINCOUNTRY</th>\n",
              "      <td>0.315542</td>\n",
              "    </tr>\n",
              "    <tr>\n",
              "      <th>WINNERNUMBER_233_YEAR</th>\n",
              "      <td>0.297273</td>\n",
              "    </tr>\n",
              "  </tbody>\n",
              "</table>\n",
              "</div>"
            ],
            "text/plain": [
              "                                  importance\n",
              "worker                             11.824752\n",
              "count_okved                        11.427368\n",
              "count                               8.031611\n",
              "OKVED_CODE                          7.203158\n",
              "OKATO_FED_REGIONCODE                4.214878\n",
              "OKVED_CODE_1                        3.759093\n",
              "TELEPHONECOUNT                      2.825769\n",
              "SIGNEDNUMBER_95_EVER                2.033767\n",
              "OKFS_OKOGU_OKOPF                    2.019568\n",
              "WINNERNUMBER_95_EVER                2.013602\n",
              "OKVED_CODE_2                        1.848908\n",
              "SUM_95_EVER                         1.594544\n",
              "ADMITTEDNUMBER_95_EVER              1.434877\n",
              "F1100                               1.302277\n",
              "polnota                             1.301261\n",
              "NOTADMITTEDNUMBER_EVER              1.276810\n",
              "F1210                               1.138309\n",
              "F2210                               1.093192\n",
              "SUM_95_YEAR                         1.084863\n",
              "NOTADMITTEDNUMBER_233_EVER          1.071178\n",
              "F1520                               0.981021\n",
              "F1250                               0.972812\n",
              "F2340                               0.961186\n",
              "F1600                               0.924119\n",
              "F2300_LAG1                          0.896272\n",
              "F2110                               0.838253\n",
              "F2350                               0.830074\n",
              "F1300                               0.788415\n",
              "ADMITTEDNUMBER_95_YEAR              0.778657\n",
              "F1230                               0.772723\n",
              "WINNERNUMBER_95_YEAR                0.759648\n",
              "F2410                               0.754896\n",
              "F1260                               0.726795\n",
              "net_profit_margin                   0.659557\n",
              "return_on_noncurrent_assets         0.640507\n",
              "F2200_LAG1                          0.637130\n",
              "SUM_233_EVER                        0.636884\n",
              "F1500                               0.592608\n",
              "NOTADMITTEDNUMBER_233_YEAR          0.589112\n",
              "return_on_equity                    0.575467\n",
              "F1400                               0.573665\n",
              "DEFENDANT_SUM_EVER                  0.553360\n",
              "F1200                               0.552785\n",
              "F2120_LAG1                          0.531724\n",
              "WINNERNUMBER_233_EVER               0.528448\n",
              "current_liquidity                   0.527979\n",
              "F2110_LAG1                          0.521356\n",
              "return_on_current_assets            0.518109\n",
              "F2400                               0.510751\n",
              "F1510_LAG1                          0.487569\n",
              "gross_profit_margin                 0.484085\n",
              "F1520_LAG1                          0.468969\n",
              "F2120                               0.464490\n",
              "F2100                               0.456470\n",
              "NOTADMITTEDNUMBER_95_YEAR           0.452636\n",
              "F2400_LAG1                          0.449716\n",
              "F2200                               0.442312\n",
              "SUM_233_YEAR                        0.441350\n",
              "return_on_assets                    0.432073\n",
              "F1370                               0.422236\n",
              "SIGNEDNUMBER_95_YEAR                0.404779\n",
              "MANAGERINNCOUNT                     0.393910\n",
              "F1150                               0.370557\n",
              "F1510                               0.351492\n",
              "profitability_of_working_capital    0.335862\n",
              "ADMITTEDNUMBER_233_EVER             0.325926\n",
              "F1700                               0.325423\n",
              "MANAGERCOUNTINREGION                0.317693\n",
              "MANAGERCOUNTINCOUNTRY               0.315542\n",
              "WINNERNUMBER_233_YEAR               0.297273"
            ]
          },
          "metadata": {},
          "execution_count": 49
        }
      ]
    },
    {
      "cell_type": "code",
      "metadata": {
        "id": "zzbBXjASa_9t",
        "colab": {
          "base_uri": "https://localhost:8080/",
          "height": 182
        },
        "outputId": "689943e3-3cf3-4bd4-e639-d6ba44f6035a"
      },
      "source": [
        "\n",
        "stop"
      ],
      "execution_count": 50,
      "outputs": [
        {
          "output_type": "error",
          "ename": "NameError",
          "evalue": "ignored",
          "traceback": [
            "\u001b[0;31m---------------------------------------------------------------------------\u001b[0m",
            "\u001b[0;31mNameError\u001b[0m                                 Traceback (most recent call last)",
            "\u001b[0;32m<ipython-input-50-98bee5de9032>\u001b[0m in \u001b[0;36m<module>\u001b[0;34m()\u001b[0m\n\u001b[1;32m      1\u001b[0m \u001b[0;34m\u001b[0m\u001b[0m\n\u001b[0;32m----> 2\u001b[0;31m \u001b[0mstop\u001b[0m\u001b[0;34m\u001b[0m\u001b[0;34m\u001b[0m\u001b[0m\n\u001b[0m",
            "\u001b[0;31mNameError\u001b[0m: name 'stop' is not defined"
          ]
        }
      ]
    },
    {
      "cell_type": "markdown",
      "metadata": {
        "id": "5o0_nRPlAOvh"
      },
      "source": [
        "# Тестовая выборка"
      ]
    },
    {
      "cell_type": "code",
      "metadata": {
        "id": "xr8hj6-sFNwz"
      },
      "source": [
        "test_ip[cat_names_ip] = test_ip[cat_names_ip].astype(str)\n",
        "test_yr[cat_names_yr] = test_yr[cat_names_yr].astype(str)\n",
        "\n",
        "\n",
        "test_ip_1 = test_ip.drop(list_ip, axis=1)\n",
        "test_yr_1 = test_yr.drop(list_yr, axis=1)\n"
      ],
      "execution_count": 51,
      "outputs": []
    },
    {
      "cell_type": "code",
      "metadata": {
        "id": "Yre5f4W0Fing"
      },
      "source": [
        "train_ip = train_ip.drop(list_ip, axis=1)\n",
        "train_yr = train_yr.drop(list_yr, axis=1)"
      ],
      "execution_count": 52,
      "outputs": []
    },
    {
      "cell_type": "code",
      "metadata": {
        "id": "lNTRA4VaSVrv"
      },
      "source": [
        "ip = round(300*1.2)\n",
        "yr= round(700*1.2)"
      ],
      "execution_count": 53,
      "outputs": []
    },
    {
      "cell_type": "code",
      "metadata": {
        "id": "ws4RRRESJHOI"
      },
      "source": [
        "model_cat_ip = CatBoostClassifier(loss_function='Logloss',iterations=ip, \n",
        "                                  # depth=9,\n",
        "                                  verbose=100, cat_features=cat_names_ip)\n",
        "\n",
        "model_cat_yr = CatBoostClassifier(loss_function='Logloss',iterations=yr, \n",
        "                                  # depth=9,\n",
        "                                  verbose=100, cat_features=cat_names_yr)\n"
      ],
      "execution_count": 54,
      "outputs": []
    },
    {
      "cell_type": "code",
      "metadata": {
        "id": "7soySYgLFjgY",
        "colab": {
          "base_uri": "https://localhost:8080/"
        },
        "outputId": "496c3003-9b59-4f41-b185-7f492fb16b07"
      },
      "source": [
        "model_cat_ip.fit(train_ip.drop(['TARGET'], axis=1),train_ip['TARGET'])\n",
        "model_cat_yr.fit(train_yr.drop(['TARGET'], axis=1),train_yr['TARGET'])\n"
      ],
      "execution_count": 55,
      "outputs": [
        {
          "output_type": "stream",
          "name": "stdout",
          "text": [
            "Learning rate set to 0.040988\n",
            "0:\tlearn: 0.6512515\ttotal: 8.67ms\tremaining: 3.11s\n",
            "100:\tlearn: 0.2289195\ttotal: 917ms\tremaining: 2.35s\n",
            "200:\tlearn: 0.2059540\ttotal: 1.77s\tremaining: 1.4s\n",
            "300:\tlearn: 0.1896471\ttotal: 2.57s\tremaining: 503ms\n",
            "359:\tlearn: 0.1821560\ttotal: 3.03s\tremaining: 0us\n",
            "Learning rate set to 0.038488\n",
            "0:\tlearn: 0.6533466\ttotal: 59.1ms\tremaining: 49.6s\n",
            "100:\tlearn: 0.2217882\ttotal: 5.06s\tremaining: 37s\n",
            "200:\tlearn: 0.1983257\ttotal: 9.98s\tremaining: 31.7s\n",
            "300:\tlearn: 0.1836938\ttotal: 14.8s\tremaining: 26.6s\n",
            "400:\tlearn: 0.1704828\ttotal: 19.6s\tremaining: 21.5s\n",
            "500:\tlearn: 0.1589957\ttotal: 24.6s\tremaining: 16.6s\n",
            "600:\tlearn: 0.1489963\ttotal: 29.4s\tremaining: 11.7s\n",
            "700:\tlearn: 0.1411881\ttotal: 34.3s\tremaining: 6.8s\n",
            "800:\tlearn: 0.1334470\ttotal: 39.3s\tremaining: 1.91s\n",
            "839:\tlearn: 0.1306054\ttotal: 41.2s\tremaining: 0us\n"
          ]
        },
        {
          "output_type": "execute_result",
          "data": {
            "text/plain": [
              "<catboost.core.CatBoostClassifier at 0x7fc6f340c550>"
            ]
          },
          "metadata": {},
          "execution_count": 55
        }
      ]
    },
    {
      "cell_type": "code",
      "metadata": {
        "id": "Pfn_7K8vFj5b"
      },
      "source": [
        "probabilities_test_ip = model_cat_ip.predict_proba(test_ip_1)\n",
        "probabilities_test_yr = model_cat_yr.predict_proba(test_yr_1)"
      ],
      "execution_count": 56,
      "outputs": []
    },
    {
      "cell_type": "code",
      "metadata": {
        "id": "wmVfjeRdFj-g"
      },
      "source": [
        "test_ip['TARGET'] = probabilities_test_ip[:, 1]\n",
        "test_yr['TARGET'] = probabilities_test_yr[:, 1]\n"
      ],
      "execution_count": 57,
      "outputs": []
    },
    {
      "cell_type": "code",
      "metadata": {
        "id": "IRY9fRlYFkDM"
      },
      "source": [
        "data = pd.concat([test_ip, test_yr])\n",
        "data = data.sort_index()"
      ],
      "execution_count": 58,
      "outputs": []
    },
    {
      "cell_type": "code",
      "metadata": {
        "id": "dgA-aFxiFkGx",
        "colab": {
          "base_uri": "https://localhost:8080/",
          "height": 676
        },
        "outputId": "1cda91ff-266b-472c-bd1e-f5f77ba01494"
      },
      "source": [
        "data[['id_contract', 'TARGET']].to_csv('125.csv', sep=';', index=False)\n",
        "data[['id_contract', 'TARGET']].head(20)"
      ],
      "execution_count": 59,
      "outputs": [
        {
          "output_type": "execute_result",
          "data": {
            "text/html": [
              "<div>\n",
              "<style scoped>\n",
              "    .dataframe tbody tr th:only-of-type {\n",
              "        vertical-align: middle;\n",
              "    }\n",
              "\n",
              "    .dataframe tbody tr th {\n",
              "        vertical-align: top;\n",
              "    }\n",
              "\n",
              "    .dataframe thead th {\n",
              "        text-align: right;\n",
              "    }\n",
              "</style>\n",
              "<table border=\"1\" class=\"dataframe\">\n",
              "  <thead>\n",
              "    <tr style=\"text-align: right;\">\n",
              "      <th></th>\n",
              "      <th>id_contract</th>\n",
              "      <th>TARGET</th>\n",
              "    </tr>\n",
              "  </thead>\n",
              "  <tbody>\n",
              "    <tr>\n",
              "      <th>17891</th>\n",
              "      <td>17892</td>\n",
              "      <td>0.016807</td>\n",
              "    </tr>\n",
              "    <tr>\n",
              "      <th>17892</th>\n",
              "      <td>17893</td>\n",
              "      <td>0.007605</td>\n",
              "    </tr>\n",
              "    <tr>\n",
              "      <th>17893</th>\n",
              "      <td>17894</td>\n",
              "      <td>0.029634</td>\n",
              "    </tr>\n",
              "    <tr>\n",
              "      <th>17894</th>\n",
              "      <td>17895</td>\n",
              "      <td>0.217521</td>\n",
              "    </tr>\n",
              "    <tr>\n",
              "      <th>17895</th>\n",
              "      <td>17896</td>\n",
              "      <td>0.973291</td>\n",
              "    </tr>\n",
              "    <tr>\n",
              "      <th>17896</th>\n",
              "      <td>17897</td>\n",
              "      <td>0.035756</td>\n",
              "    </tr>\n",
              "    <tr>\n",
              "      <th>17897</th>\n",
              "      <td>17898</td>\n",
              "      <td>0.044403</td>\n",
              "    </tr>\n",
              "    <tr>\n",
              "      <th>17898</th>\n",
              "      <td>17899</td>\n",
              "      <td>0.988669</td>\n",
              "    </tr>\n",
              "    <tr>\n",
              "      <th>17899</th>\n",
              "      <td>17900</td>\n",
              "      <td>0.146368</td>\n",
              "    </tr>\n",
              "    <tr>\n",
              "      <th>17900</th>\n",
              "      <td>17901</td>\n",
              "      <td>0.260168</td>\n",
              "    </tr>\n",
              "    <tr>\n",
              "      <th>17901</th>\n",
              "      <td>17902</td>\n",
              "      <td>0.078806</td>\n",
              "    </tr>\n",
              "    <tr>\n",
              "      <th>17902</th>\n",
              "      <td>17903</td>\n",
              "      <td>0.960567</td>\n",
              "    </tr>\n",
              "    <tr>\n",
              "      <th>17903</th>\n",
              "      <td>17904</td>\n",
              "      <td>0.490445</td>\n",
              "    </tr>\n",
              "    <tr>\n",
              "      <th>17904</th>\n",
              "      <td>17905</td>\n",
              "      <td>0.994872</td>\n",
              "    </tr>\n",
              "    <tr>\n",
              "      <th>17905</th>\n",
              "      <td>17906</td>\n",
              "      <td>0.135392</td>\n",
              "    </tr>\n",
              "    <tr>\n",
              "      <th>17906</th>\n",
              "      <td>17907</td>\n",
              "      <td>0.018596</td>\n",
              "    </tr>\n",
              "    <tr>\n",
              "      <th>17907</th>\n",
              "      <td>17908</td>\n",
              "      <td>0.018138</td>\n",
              "    </tr>\n",
              "    <tr>\n",
              "      <th>17908</th>\n",
              "      <td>17909</td>\n",
              "      <td>0.104520</td>\n",
              "    </tr>\n",
              "    <tr>\n",
              "      <th>17909</th>\n",
              "      <td>17910</td>\n",
              "      <td>0.001113</td>\n",
              "    </tr>\n",
              "    <tr>\n",
              "      <th>17910</th>\n",
              "      <td>17911</td>\n",
              "      <td>0.997766</td>\n",
              "    </tr>\n",
              "  </tbody>\n",
              "</table>\n",
              "</div>"
            ],
            "text/plain": [
              "      id_contract    TARGET\n",
              "17891       17892  0.016807\n",
              "17892       17893  0.007605\n",
              "17893       17894  0.029634\n",
              "17894       17895  0.217521\n",
              "17895       17896  0.973291\n",
              "17896       17897  0.035756\n",
              "17897       17898  0.044403\n",
              "17898       17899  0.988669\n",
              "17899       17900  0.146368\n",
              "17900       17901  0.260168\n",
              "17901       17902  0.078806\n",
              "17902       17903  0.960567\n",
              "17903       17904  0.490445\n",
              "17904       17905  0.994872\n",
              "17905       17906  0.135392\n",
              "17906       17907  0.018596\n",
              "17907       17908  0.018138\n",
              "17908       17909  0.104520\n",
              "17909       17910  0.001113\n",
              "17910       17911  0.997766"
            ]
          },
          "metadata": {},
          "execution_count": 59
        }
      ]
    }
  ]
}